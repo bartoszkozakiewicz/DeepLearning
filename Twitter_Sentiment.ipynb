{
  "nbformat": 4,
  "nbformat_minor": 0,
  "metadata": {
    "colab": {
      "provenance": [],
      "authorship_tag": "ABX9TyO+ozxYPp9JZ9LGvA4fDxBs",
      "include_colab_link": true
    },
    "kernelspec": {
      "name": "python3",
      "display_name": "Python 3"
    },
    "language_info": {
      "name": "python"
    },
    "accelerator": "GPU",
    "gpuClass": "standard"
  },
  "cells": [
    {
      "cell_type": "markdown",
      "metadata": {
        "id": "view-in-github",
        "colab_type": "text"
      },
      "source": [
        "<a href=\"https://colab.research.google.com/github/bartoszkozakiewicz/DeepLearning/blob/main/Twitter_Sentiment.ipynb\" target=\"_parent\"><img src=\"https://colab.research.google.com/assets/colab-badge.svg\" alt=\"Open In Colab\"/></a>"
      ]
    },
    {
      "cell_type": "markdown",
      "source": [
        "# Twitter Sentiment - disaster or not"
      ],
      "metadata": {
        "id": "_NxjGww7quiP"
      }
    },
    {
      "cell_type": "code",
      "source": [
        "!nvidia-smi -L"
      ],
      "metadata": {
        "id": "l5hGH2dO2OKO",
        "colab": {
          "base_uri": "https://localhost:8080/"
        },
        "outputId": "24dba3d3-6396-4d54-be23-ec1cdb9e5f8f"
      },
      "execution_count": null,
      "outputs": [
        {
          "output_type": "stream",
          "name": "stdout",
          "text": [
            "NVIDIA-SMI has failed because it couldn't communicate with the NVIDIA driver. Make sure that the latest NVIDIA driver is installed and running.\n",
            "\n"
          ]
        }
      ]
    },
    {
      "cell_type": "markdown",
      "source": [
        "# Get helper functions"
      ],
      "metadata": {
        "id": "e2vDXdPd2kW5"
      }
    },
    {
      "cell_type": "code",
      "source": [
        "!wget https://raw.githubusercontent.com/mrdbourke/tensorflow-deep-learning/main/extras/helper_functions.py"
      ],
      "metadata": {
        "colab": {
          "base_uri": "https://localhost:8080/"
        },
        "id": "B8Vzbmq_268e",
        "outputId": "b959b1b8-1d0f-41b7-f937-f556f0b94d29"
      },
      "execution_count": null,
      "outputs": [
        {
          "output_type": "stream",
          "name": "stdout",
          "text": [
            "--2023-02-21 17:16:17--  https://raw.githubusercontent.com/mrdbourke/tensorflow-deep-learning/main/extras/helper_functions.py\n",
            "Resolving raw.githubusercontent.com (raw.githubusercontent.com)... 185.199.108.133, 185.199.109.133, 185.199.110.133, ...\n",
            "Connecting to raw.githubusercontent.com (raw.githubusercontent.com)|185.199.108.133|:443... connected.\n",
            "HTTP request sent, awaiting response... 200 OK\n",
            "Length: 10246 (10K) [text/plain]\n",
            "Saving to: ‘helper_functions.py’\n",
            "\n",
            "helper_functions.py 100%[===================>]  10.01K  --.-KB/s    in 0s      \n",
            "\n",
            "2023-02-21 17:16:17 (91.3 MB/s) - ‘helper_functions.py’ saved [10246/10246]\n",
            "\n"
          ]
        }
      ]
    },
    {
      "cell_type": "code",
      "source": [
        "#Import helper functions\n",
        "import helper_functions as hp"
      ],
      "metadata": {
        "id": "-kILnLvp3GhK"
      },
      "execution_count": null,
      "outputs": []
    },
    {
      "cell_type": "markdown",
      "source": [
        "# Get a text dataset\n",
        "\n",
        "The dataset that from Kaggle:\n",
        "https://www.kaggle.com/competitions/nlp-getting-started"
      ],
      "metadata": {
        "id": "kQUcDfmF3TTa"
      }
    },
    {
      "cell_type": "code",
      "source": [
        "!wget https://storage.googleapis.com/ztm_tf_course/nlp_getting_started.zip"
      ],
      "metadata": {
        "colab": {
          "base_uri": "https://localhost:8080/"
        },
        "id": "bMVEDbnP3uzG",
        "outputId": "2a5374de-9bfa-423f-d3fb-59d5d80f364d"
      },
      "execution_count": null,
      "outputs": [
        {
          "output_type": "stream",
          "name": "stdout",
          "text": [
            "--2023-02-21 17:16:21--  https://storage.googleapis.com/ztm_tf_course/nlp_getting_started.zip\n",
            "Resolving storage.googleapis.com (storage.googleapis.com)... 209.85.200.128, 142.250.152.128, 142.250.128.128, ...\n",
            "Connecting to storage.googleapis.com (storage.googleapis.com)|209.85.200.128|:443... connected.\n",
            "HTTP request sent, awaiting response... 200 OK\n",
            "Length: 607343 (593K) [application/zip]\n",
            "Saving to: ‘nlp_getting_started.zip’\n",
            "\n",
            "\rnlp_getting_started   0%[                    ]       0  --.-KB/s               \rnlp_getting_started 100%[===================>] 593.11K  --.-KB/s    in 0.005s  \n",
            "\n",
            "2023-02-21 17:16:21 (125 MB/s) - ‘nlp_getting_started.zip’ saved [607343/607343]\n",
            "\n"
          ]
        }
      ]
    },
    {
      "cell_type": "code",
      "source": [
        "hp.unzip_data(\"nlp_getting_started.zip\")"
      ],
      "metadata": {
        "id": "czF5hKix4amQ"
      },
      "execution_count": null,
      "outputs": []
    },
    {
      "cell_type": "markdown",
      "source": [
        "# Becoming one with the data - Visualizing a text dataset\n"
      ],
      "metadata": {
        "id": "yz6bhJX_4m6W"
      }
    },
    {
      "cell_type": "code",
      "source": [
        "import pandas as pd\n",
        "train_df = pd.read_csv(\"train.csv\")\n",
        "test_df = pd.read_csv(\"test.csv\")\n",
        "train_df.head()"
      ],
      "metadata": {
        "colab": {
          "base_uri": "https://localhost:8080/",
          "height": 206
        },
        "id": "1elyQME340U-",
        "outputId": "6753fd8f-a1e0-4df9-986d-b1f27e1e7cdd"
      },
      "execution_count": null,
      "outputs": [
        {
          "output_type": "execute_result",
          "data": {
            "text/plain": [
              "   id keyword location                                               text  \\\n",
              "0   1     NaN      NaN  Our Deeds are the Reason of this #earthquake M...   \n",
              "1   4     NaN      NaN             Forest fire near La Ronge Sask. Canada   \n",
              "2   5     NaN      NaN  All residents asked to 'shelter in place' are ...   \n",
              "3   6     NaN      NaN  13,000 people receive #wildfires evacuation or...   \n",
              "4   7     NaN      NaN  Just got sent this photo from Ruby #Alaska as ...   \n",
              "\n",
              "   target  \n",
              "0       1  \n",
              "1       1  \n",
              "2       1  \n",
              "3       1  \n",
              "4       1  "
            ],
            "text/html": [
              "\n",
              "  <div id=\"df-dc23db1e-5b24-41b1-b56d-f1c02202b08e\">\n",
              "    <div class=\"colab-df-container\">\n",
              "      <div>\n",
              "<style scoped>\n",
              "    .dataframe tbody tr th:only-of-type {\n",
              "        vertical-align: middle;\n",
              "    }\n",
              "\n",
              "    .dataframe tbody tr th {\n",
              "        vertical-align: top;\n",
              "    }\n",
              "\n",
              "    .dataframe thead th {\n",
              "        text-align: right;\n",
              "    }\n",
              "</style>\n",
              "<table border=\"1\" class=\"dataframe\">\n",
              "  <thead>\n",
              "    <tr style=\"text-align: right;\">\n",
              "      <th></th>\n",
              "      <th>id</th>\n",
              "      <th>keyword</th>\n",
              "      <th>location</th>\n",
              "      <th>text</th>\n",
              "      <th>target</th>\n",
              "    </tr>\n",
              "  </thead>\n",
              "  <tbody>\n",
              "    <tr>\n",
              "      <th>0</th>\n",
              "      <td>1</td>\n",
              "      <td>NaN</td>\n",
              "      <td>NaN</td>\n",
              "      <td>Our Deeds are the Reason of this #earthquake M...</td>\n",
              "      <td>1</td>\n",
              "    </tr>\n",
              "    <tr>\n",
              "      <th>1</th>\n",
              "      <td>4</td>\n",
              "      <td>NaN</td>\n",
              "      <td>NaN</td>\n",
              "      <td>Forest fire near La Ronge Sask. Canada</td>\n",
              "      <td>1</td>\n",
              "    </tr>\n",
              "    <tr>\n",
              "      <th>2</th>\n",
              "      <td>5</td>\n",
              "      <td>NaN</td>\n",
              "      <td>NaN</td>\n",
              "      <td>All residents asked to 'shelter in place' are ...</td>\n",
              "      <td>1</td>\n",
              "    </tr>\n",
              "    <tr>\n",
              "      <th>3</th>\n",
              "      <td>6</td>\n",
              "      <td>NaN</td>\n",
              "      <td>NaN</td>\n",
              "      <td>13,000 people receive #wildfires evacuation or...</td>\n",
              "      <td>1</td>\n",
              "    </tr>\n",
              "    <tr>\n",
              "      <th>4</th>\n",
              "      <td>7</td>\n",
              "      <td>NaN</td>\n",
              "      <td>NaN</td>\n",
              "      <td>Just got sent this photo from Ruby #Alaska as ...</td>\n",
              "      <td>1</td>\n",
              "    </tr>\n",
              "  </tbody>\n",
              "</table>\n",
              "</div>\n",
              "      <button class=\"colab-df-convert\" onclick=\"convertToInteractive('df-dc23db1e-5b24-41b1-b56d-f1c02202b08e')\"\n",
              "              title=\"Convert this dataframe to an interactive table.\"\n",
              "              style=\"display:none;\">\n",
              "        \n",
              "  <svg xmlns=\"http://www.w3.org/2000/svg\" height=\"24px\"viewBox=\"0 0 24 24\"\n",
              "       width=\"24px\">\n",
              "    <path d=\"M0 0h24v24H0V0z\" fill=\"none\"/>\n",
              "    <path d=\"M18.56 5.44l.94 2.06.94-2.06 2.06-.94-2.06-.94-.94-2.06-.94 2.06-2.06.94zm-11 1L8.5 8.5l.94-2.06 2.06-.94-2.06-.94L8.5 2.5l-.94 2.06-2.06.94zm10 10l.94 2.06.94-2.06 2.06-.94-2.06-.94-.94-2.06-.94 2.06-2.06.94z\"/><path d=\"M17.41 7.96l-1.37-1.37c-.4-.4-.92-.59-1.43-.59-.52 0-1.04.2-1.43.59L10.3 9.45l-7.72 7.72c-.78.78-.78 2.05 0 2.83L4 21.41c.39.39.9.59 1.41.59.51 0 1.02-.2 1.41-.59l7.78-7.78 2.81-2.81c.8-.78.8-2.07 0-2.86zM5.41 20L4 18.59l7.72-7.72 1.47 1.35L5.41 20z\"/>\n",
              "  </svg>\n",
              "      </button>\n",
              "      \n",
              "  <style>\n",
              "    .colab-df-container {\n",
              "      display:flex;\n",
              "      flex-wrap:wrap;\n",
              "      gap: 12px;\n",
              "    }\n",
              "\n",
              "    .colab-df-convert {\n",
              "      background-color: #E8F0FE;\n",
              "      border: none;\n",
              "      border-radius: 50%;\n",
              "      cursor: pointer;\n",
              "      display: none;\n",
              "      fill: #1967D2;\n",
              "      height: 32px;\n",
              "      padding: 0 0 0 0;\n",
              "      width: 32px;\n",
              "    }\n",
              "\n",
              "    .colab-df-convert:hover {\n",
              "      background-color: #E2EBFA;\n",
              "      box-shadow: 0px 1px 2px rgba(60, 64, 67, 0.3), 0px 1px 3px 1px rgba(60, 64, 67, 0.15);\n",
              "      fill: #174EA6;\n",
              "    }\n",
              "\n",
              "    [theme=dark] .colab-df-convert {\n",
              "      background-color: #3B4455;\n",
              "      fill: #D2E3FC;\n",
              "    }\n",
              "\n",
              "    [theme=dark] .colab-df-convert:hover {\n",
              "      background-color: #434B5C;\n",
              "      box-shadow: 0px 1px 3px 1px rgba(0, 0, 0, 0.15);\n",
              "      filter: drop-shadow(0px 1px 2px rgba(0, 0, 0, 0.3));\n",
              "      fill: #FFFFFF;\n",
              "    }\n",
              "  </style>\n",
              "\n",
              "      <script>\n",
              "        const buttonEl =\n",
              "          document.querySelector('#df-dc23db1e-5b24-41b1-b56d-f1c02202b08e button.colab-df-convert');\n",
              "        buttonEl.style.display =\n",
              "          google.colab.kernel.accessAllowed ? 'block' : 'none';\n",
              "\n",
              "        async function convertToInteractive(key) {\n",
              "          const element = document.querySelector('#df-dc23db1e-5b24-41b1-b56d-f1c02202b08e');\n",
              "          const dataTable =\n",
              "            await google.colab.kernel.invokeFunction('convertToInteractive',\n",
              "                                                     [key], {});\n",
              "          if (!dataTable) return;\n",
              "\n",
              "          const docLinkHtml = 'Like what you see? Visit the ' +\n",
              "            '<a target=\"_blank\" href=https://colab.research.google.com/notebooks/data_table.ipynb>data table notebook</a>'\n",
              "            + ' to learn more about interactive tables.';\n",
              "          element.innerHTML = '';\n",
              "          dataTable['output_type'] = 'display_data';\n",
              "          await google.colab.output.renderOutput(dataTable, element);\n",
              "          const docLink = document.createElement('div');\n",
              "          docLink.innerHTML = docLinkHtml;\n",
              "          element.appendChild(docLink);\n",
              "        }\n",
              "      </script>\n",
              "    </div>\n",
              "  </div>\n",
              "  "
            ]
          },
          "metadata": {},
          "execution_count": 6
        }
      ]
    },
    {
      "cell_type": "code",
      "source": [
        "train_df[\"text\"][1]"
      ],
      "metadata": {
        "colab": {
          "base_uri": "https://localhost:8080/",
          "height": 36
        },
        "id": "uYQx0RP359dt",
        "outputId": "a3c39680-1d8f-462d-eb6f-9d4b3e2e54bd"
      },
      "execution_count": null,
      "outputs": [
        {
          "output_type": "execute_result",
          "data": {
            "text/plain": [
              "'Forest fire near La Ronge Sask. Canada'"
            ],
            "application/vnd.google.colaboratory.intrinsic+json": {
              "type": "string"
            }
          },
          "metadata": {},
          "execution_count": 7
        }
      ]
    },
    {
      "cell_type": "code",
      "source": [
        "#Shuffle training dataframe \n",
        "train_df_shuffles = train_df.sample(frac=1, random_state=42) # frac=1 mowi, że 100% danych mieszamy\n",
        "train_df_shuffles.head()"
      ],
      "metadata": {
        "colab": {
          "base_uri": "https://localhost:8080/",
          "height": 206
        },
        "id": "i9lzNuWQ5ssS",
        "outputId": "0b7f1fc7-2eab-46df-82c9-3fb4ed59d516"
      },
      "execution_count": null,
      "outputs": [
        {
          "output_type": "execute_result",
          "data": {
            "text/plain": [
              "        id      keyword               location  \\\n",
              "2644  3796  destruction                    NaN   \n",
              "2227  3185       deluge                    NaN   \n",
              "5448  7769       police                     UK   \n",
              "132    191   aftershock                    NaN   \n",
              "6845  9810       trauma  Montgomery County, MD   \n",
              "\n",
              "                                                   text  target  \n",
              "2644  So you have a new weapon that can cause un-ima...       1  \n",
              "2227  The f$&amp;@ing things I do for #GISHWHES Just...       0  \n",
              "5448  DT @georgegalloway: RT @Galloway4Mayor: ÛÏThe...       1  \n",
              "132   Aftershock back to school kick off was great. ...       0  \n",
              "6845  in response to trauma Children of Addicts deve...       0  "
            ],
            "text/html": [
              "\n",
              "  <div id=\"df-7c7ed457-ddb0-4e22-b82b-cb21779781ba\">\n",
              "    <div class=\"colab-df-container\">\n",
              "      <div>\n",
              "<style scoped>\n",
              "    .dataframe tbody tr th:only-of-type {\n",
              "        vertical-align: middle;\n",
              "    }\n",
              "\n",
              "    .dataframe tbody tr th {\n",
              "        vertical-align: top;\n",
              "    }\n",
              "\n",
              "    .dataframe thead th {\n",
              "        text-align: right;\n",
              "    }\n",
              "</style>\n",
              "<table border=\"1\" class=\"dataframe\">\n",
              "  <thead>\n",
              "    <tr style=\"text-align: right;\">\n",
              "      <th></th>\n",
              "      <th>id</th>\n",
              "      <th>keyword</th>\n",
              "      <th>location</th>\n",
              "      <th>text</th>\n",
              "      <th>target</th>\n",
              "    </tr>\n",
              "  </thead>\n",
              "  <tbody>\n",
              "    <tr>\n",
              "      <th>2644</th>\n",
              "      <td>3796</td>\n",
              "      <td>destruction</td>\n",
              "      <td>NaN</td>\n",
              "      <td>So you have a new weapon that can cause un-ima...</td>\n",
              "      <td>1</td>\n",
              "    </tr>\n",
              "    <tr>\n",
              "      <th>2227</th>\n",
              "      <td>3185</td>\n",
              "      <td>deluge</td>\n",
              "      <td>NaN</td>\n",
              "      <td>The f$&amp;amp;@ing things I do for #GISHWHES Just...</td>\n",
              "      <td>0</td>\n",
              "    </tr>\n",
              "    <tr>\n",
              "      <th>5448</th>\n",
              "      <td>7769</td>\n",
              "      <td>police</td>\n",
              "      <td>UK</td>\n",
              "      <td>DT @georgegalloway: RT @Galloway4Mayor: ÛÏThe...</td>\n",
              "      <td>1</td>\n",
              "    </tr>\n",
              "    <tr>\n",
              "      <th>132</th>\n",
              "      <td>191</td>\n",
              "      <td>aftershock</td>\n",
              "      <td>NaN</td>\n",
              "      <td>Aftershock back to school kick off was great. ...</td>\n",
              "      <td>0</td>\n",
              "    </tr>\n",
              "    <tr>\n",
              "      <th>6845</th>\n",
              "      <td>9810</td>\n",
              "      <td>trauma</td>\n",
              "      <td>Montgomery County, MD</td>\n",
              "      <td>in response to trauma Children of Addicts deve...</td>\n",
              "      <td>0</td>\n",
              "    </tr>\n",
              "  </tbody>\n",
              "</table>\n",
              "</div>\n",
              "      <button class=\"colab-df-convert\" onclick=\"convertToInteractive('df-7c7ed457-ddb0-4e22-b82b-cb21779781ba')\"\n",
              "              title=\"Convert this dataframe to an interactive table.\"\n",
              "              style=\"display:none;\">\n",
              "        \n",
              "  <svg xmlns=\"http://www.w3.org/2000/svg\" height=\"24px\"viewBox=\"0 0 24 24\"\n",
              "       width=\"24px\">\n",
              "    <path d=\"M0 0h24v24H0V0z\" fill=\"none\"/>\n",
              "    <path d=\"M18.56 5.44l.94 2.06.94-2.06 2.06-.94-2.06-.94-.94-2.06-.94 2.06-2.06.94zm-11 1L8.5 8.5l.94-2.06 2.06-.94-2.06-.94L8.5 2.5l-.94 2.06-2.06.94zm10 10l.94 2.06.94-2.06 2.06-.94-2.06-.94-.94-2.06-.94 2.06-2.06.94z\"/><path d=\"M17.41 7.96l-1.37-1.37c-.4-.4-.92-.59-1.43-.59-.52 0-1.04.2-1.43.59L10.3 9.45l-7.72 7.72c-.78.78-.78 2.05 0 2.83L4 21.41c.39.39.9.59 1.41.59.51 0 1.02-.2 1.41-.59l7.78-7.78 2.81-2.81c.8-.78.8-2.07 0-2.86zM5.41 20L4 18.59l7.72-7.72 1.47 1.35L5.41 20z\"/>\n",
              "  </svg>\n",
              "      </button>\n",
              "      \n",
              "  <style>\n",
              "    .colab-df-container {\n",
              "      display:flex;\n",
              "      flex-wrap:wrap;\n",
              "      gap: 12px;\n",
              "    }\n",
              "\n",
              "    .colab-df-convert {\n",
              "      background-color: #E8F0FE;\n",
              "      border: none;\n",
              "      border-radius: 50%;\n",
              "      cursor: pointer;\n",
              "      display: none;\n",
              "      fill: #1967D2;\n",
              "      height: 32px;\n",
              "      padding: 0 0 0 0;\n",
              "      width: 32px;\n",
              "    }\n",
              "\n",
              "    .colab-df-convert:hover {\n",
              "      background-color: #E2EBFA;\n",
              "      box-shadow: 0px 1px 2px rgba(60, 64, 67, 0.3), 0px 1px 3px 1px rgba(60, 64, 67, 0.15);\n",
              "      fill: #174EA6;\n",
              "    }\n",
              "\n",
              "    [theme=dark] .colab-df-convert {\n",
              "      background-color: #3B4455;\n",
              "      fill: #D2E3FC;\n",
              "    }\n",
              "\n",
              "    [theme=dark] .colab-df-convert:hover {\n",
              "      background-color: #434B5C;\n",
              "      box-shadow: 0px 1px 3px 1px rgba(0, 0, 0, 0.15);\n",
              "      filter: drop-shadow(0px 1px 2px rgba(0, 0, 0, 0.3));\n",
              "      fill: #FFFFFF;\n",
              "    }\n",
              "  </style>\n",
              "\n",
              "      <script>\n",
              "        const buttonEl =\n",
              "          document.querySelector('#df-7c7ed457-ddb0-4e22-b82b-cb21779781ba button.colab-df-convert');\n",
              "        buttonEl.style.display =\n",
              "          google.colab.kernel.accessAllowed ? 'block' : 'none';\n",
              "\n",
              "        async function convertToInteractive(key) {\n",
              "          const element = document.querySelector('#df-7c7ed457-ddb0-4e22-b82b-cb21779781ba');\n",
              "          const dataTable =\n",
              "            await google.colab.kernel.invokeFunction('convertToInteractive',\n",
              "                                                     [key], {});\n",
              "          if (!dataTable) return;\n",
              "\n",
              "          const docLinkHtml = 'Like what you see? Visit the ' +\n",
              "            '<a target=\"_blank\" href=https://colab.research.google.com/notebooks/data_table.ipynb>data table notebook</a>'\n",
              "            + ' to learn more about interactive tables.';\n",
              "          element.innerHTML = '';\n",
              "          dataTable['output_type'] = 'display_data';\n",
              "          await google.colab.output.renderOutput(dataTable, element);\n",
              "          const docLink = document.createElement('div');\n",
              "          docLink.innerHTML = docLinkHtml;\n",
              "          element.appendChild(docLink);\n",
              "        }\n",
              "      </script>\n",
              "    </div>\n",
              "  </div>\n",
              "  "
            ]
          },
          "metadata": {},
          "execution_count": 8
        }
      ]
    },
    {
      "cell_type": "code",
      "source": [
        "#Check test datafram\n",
        "test_df.head()"
      ],
      "metadata": {
        "colab": {
          "base_uri": "https://localhost:8080/",
          "height": 206
        },
        "id": "xslPW3446bJ3",
        "outputId": "014b53ec-4b29-4978-ebce-0ae07071540b"
      },
      "execution_count": null,
      "outputs": [
        {
          "output_type": "execute_result",
          "data": {
            "text/plain": [
              "   id keyword location                                               text\n",
              "0   0     NaN      NaN                 Just happened a terrible car crash\n",
              "1   2     NaN      NaN  Heard about #earthquake is different cities, s...\n",
              "2   3     NaN      NaN  there is a forest fire at spot pond, geese are...\n",
              "3   9     NaN      NaN           Apocalypse lighting. #Spokane #wildfires\n",
              "4  11     NaN      NaN      Typhoon Soudelor kills 28 in China and Taiwan"
            ],
            "text/html": [
              "\n",
              "  <div id=\"df-7be8671c-9545-4690-bf96-c02b63c1f265\">\n",
              "    <div class=\"colab-df-container\">\n",
              "      <div>\n",
              "<style scoped>\n",
              "    .dataframe tbody tr th:only-of-type {\n",
              "        vertical-align: middle;\n",
              "    }\n",
              "\n",
              "    .dataframe tbody tr th {\n",
              "        vertical-align: top;\n",
              "    }\n",
              "\n",
              "    .dataframe thead th {\n",
              "        text-align: right;\n",
              "    }\n",
              "</style>\n",
              "<table border=\"1\" class=\"dataframe\">\n",
              "  <thead>\n",
              "    <tr style=\"text-align: right;\">\n",
              "      <th></th>\n",
              "      <th>id</th>\n",
              "      <th>keyword</th>\n",
              "      <th>location</th>\n",
              "      <th>text</th>\n",
              "    </tr>\n",
              "  </thead>\n",
              "  <tbody>\n",
              "    <tr>\n",
              "      <th>0</th>\n",
              "      <td>0</td>\n",
              "      <td>NaN</td>\n",
              "      <td>NaN</td>\n",
              "      <td>Just happened a terrible car crash</td>\n",
              "    </tr>\n",
              "    <tr>\n",
              "      <th>1</th>\n",
              "      <td>2</td>\n",
              "      <td>NaN</td>\n",
              "      <td>NaN</td>\n",
              "      <td>Heard about #earthquake is different cities, s...</td>\n",
              "    </tr>\n",
              "    <tr>\n",
              "      <th>2</th>\n",
              "      <td>3</td>\n",
              "      <td>NaN</td>\n",
              "      <td>NaN</td>\n",
              "      <td>there is a forest fire at spot pond, geese are...</td>\n",
              "    </tr>\n",
              "    <tr>\n",
              "      <th>3</th>\n",
              "      <td>9</td>\n",
              "      <td>NaN</td>\n",
              "      <td>NaN</td>\n",
              "      <td>Apocalypse lighting. #Spokane #wildfires</td>\n",
              "    </tr>\n",
              "    <tr>\n",
              "      <th>4</th>\n",
              "      <td>11</td>\n",
              "      <td>NaN</td>\n",
              "      <td>NaN</td>\n",
              "      <td>Typhoon Soudelor kills 28 in China and Taiwan</td>\n",
              "    </tr>\n",
              "  </tbody>\n",
              "</table>\n",
              "</div>\n",
              "      <button class=\"colab-df-convert\" onclick=\"convertToInteractive('df-7be8671c-9545-4690-bf96-c02b63c1f265')\"\n",
              "              title=\"Convert this dataframe to an interactive table.\"\n",
              "              style=\"display:none;\">\n",
              "        \n",
              "  <svg xmlns=\"http://www.w3.org/2000/svg\" height=\"24px\"viewBox=\"0 0 24 24\"\n",
              "       width=\"24px\">\n",
              "    <path d=\"M0 0h24v24H0V0z\" fill=\"none\"/>\n",
              "    <path d=\"M18.56 5.44l.94 2.06.94-2.06 2.06-.94-2.06-.94-.94-2.06-.94 2.06-2.06.94zm-11 1L8.5 8.5l.94-2.06 2.06-.94-2.06-.94L8.5 2.5l-.94 2.06-2.06.94zm10 10l.94 2.06.94-2.06 2.06-.94-2.06-.94-.94-2.06-.94 2.06-2.06.94z\"/><path d=\"M17.41 7.96l-1.37-1.37c-.4-.4-.92-.59-1.43-.59-.52 0-1.04.2-1.43.59L10.3 9.45l-7.72 7.72c-.78.78-.78 2.05 0 2.83L4 21.41c.39.39.9.59 1.41.59.51 0 1.02-.2 1.41-.59l7.78-7.78 2.81-2.81c.8-.78.8-2.07 0-2.86zM5.41 20L4 18.59l7.72-7.72 1.47 1.35L5.41 20z\"/>\n",
              "  </svg>\n",
              "      </button>\n",
              "      \n",
              "  <style>\n",
              "    .colab-df-container {\n",
              "      display:flex;\n",
              "      flex-wrap:wrap;\n",
              "      gap: 12px;\n",
              "    }\n",
              "\n",
              "    .colab-df-convert {\n",
              "      background-color: #E8F0FE;\n",
              "      border: none;\n",
              "      border-radius: 50%;\n",
              "      cursor: pointer;\n",
              "      display: none;\n",
              "      fill: #1967D2;\n",
              "      height: 32px;\n",
              "      padding: 0 0 0 0;\n",
              "      width: 32px;\n",
              "    }\n",
              "\n",
              "    .colab-df-convert:hover {\n",
              "      background-color: #E2EBFA;\n",
              "      box-shadow: 0px 1px 2px rgba(60, 64, 67, 0.3), 0px 1px 3px 1px rgba(60, 64, 67, 0.15);\n",
              "      fill: #174EA6;\n",
              "    }\n",
              "\n",
              "    [theme=dark] .colab-df-convert {\n",
              "      background-color: #3B4455;\n",
              "      fill: #D2E3FC;\n",
              "    }\n",
              "\n",
              "    [theme=dark] .colab-df-convert:hover {\n",
              "      background-color: #434B5C;\n",
              "      box-shadow: 0px 1px 3px 1px rgba(0, 0, 0, 0.15);\n",
              "      filter: drop-shadow(0px 1px 2px rgba(0, 0, 0, 0.3));\n",
              "      fill: #FFFFFF;\n",
              "    }\n",
              "  </style>\n",
              "\n",
              "      <script>\n",
              "        const buttonEl =\n",
              "          document.querySelector('#df-7be8671c-9545-4690-bf96-c02b63c1f265 button.colab-df-convert');\n",
              "        buttonEl.style.display =\n",
              "          google.colab.kernel.accessAllowed ? 'block' : 'none';\n",
              "\n",
              "        async function convertToInteractive(key) {\n",
              "          const element = document.querySelector('#df-7be8671c-9545-4690-bf96-c02b63c1f265');\n",
              "          const dataTable =\n",
              "            await google.colab.kernel.invokeFunction('convertToInteractive',\n",
              "                                                     [key], {});\n",
              "          if (!dataTable) return;\n",
              "\n",
              "          const docLinkHtml = 'Like what you see? Visit the ' +\n",
              "            '<a target=\"_blank\" href=https://colab.research.google.com/notebooks/data_table.ipynb>data table notebook</a>'\n",
              "            + ' to learn more about interactive tables.';\n",
              "          element.innerHTML = '';\n",
              "          dataTable['output_type'] = 'display_data';\n",
              "          await google.colab.output.renderOutput(dataTable, element);\n",
              "          const docLink = document.createElement('div');\n",
              "          docLink.innerHTML = docLinkHtml;\n",
              "          element.appendChild(docLink);\n",
              "        }\n",
              "      </script>\n",
              "    </div>\n",
              "  </div>\n",
              "  "
            ]
          },
          "metadata": {},
          "execution_count": 9
        }
      ]
    },
    {
      "cell_type": "code",
      "source": [
        "# How many examples of each class - Czy zbalansowane\n",
        "train_df[\"target\"].value_counts()"
      ],
      "metadata": {
        "colab": {
          "base_uri": "https://localhost:8080/"
        },
        "id": "BgroFUNk6mh3",
        "outputId": "b830de06-9d8b-43ea-de8d-aa6e38b0fd0b"
      },
      "execution_count": null,
      "outputs": [
        {
          "output_type": "execute_result",
          "data": {
            "text/plain": [
              "0    4342\n",
              "1    3271\n",
              "Name: target, dtype: int64"
            ]
          },
          "metadata": {},
          "execution_count": 10
        }
      ]
    },
    {
      "cell_type": "code",
      "source": [
        "#How many samples \n",
        "len(train_df), len(test_df)"
      ],
      "metadata": {
        "colab": {
          "base_uri": "https://localhost:8080/"
        },
        "id": "mz6Kl4YQ6zfj",
        "outputId": "c3268798-90d7-4bce-f31b-86376d85a985"
      },
      "execution_count": null,
      "outputs": [
        {
          "output_type": "execute_result",
          "data": {
            "text/plain": [
              "(7613, 3263)"
            ]
          },
          "metadata": {},
          "execution_count": 11
        }
      ]
    },
    {
      "cell_type": "code",
      "source": [
        "#Visualizing some random training examples\n",
        "import random\n",
        "\n",
        "train_df.iloc[random.randint(0,len(train_df_shuffles))][['text','target']]"
      ],
      "metadata": {
        "colab": {
          "base_uri": "https://localhost:8080/"
        },
        "id": "BzpMQezy7Xts",
        "outputId": "54bbce89-2ea7-484b-dfcc-cd3346fc8d4f"
      },
      "execution_count": null,
      "outputs": [
        {
          "output_type": "execute_result",
          "data": {
            "text/plain": [
              "text      Some great footage of STRONG work from San Ber...\n",
              "target                                                    1\n",
              "Name: 7299, dtype: object"
            ]
          },
          "metadata": {},
          "execution_count": 12
        }
      ]
    },
    {
      "cell_type": "code",
      "source": [
        "import random\n",
        "random_index = random.randint(0,len(train_df_shuffles)-5)\n",
        "for row in train_df_shuffles[['text','target']][random_index : random_index+5].itertuples():#itertuples zmienia w tuple dane - bo tak w 1 stringu\n",
        "  _,text,target=row\n",
        "  print(f\"Target: {target}\", \"- real disaster\" if target >0 else \"- not real disaster\")\n",
        "  print(f\"Test:\\n{text}\\n\")\n",
        "  print(\"---\\n\")\n"
      ],
      "metadata": {
        "colab": {
          "base_uri": "https://localhost:8080/"
        },
        "id": "wVPeNrs67_bt",
        "outputId": "5b313f94-32f2-44f9-c5b5-a18aef23f472"
      },
      "execution_count": null,
      "outputs": [
        {
          "output_type": "stream",
          "name": "stdout",
          "text": [
            "Target: 0 - not real disaster\n",
            "Test:\n",
            "Loved Chicago so much that it game me Pink Eye. Now I sit and design in quarantine and in the dark.\n",
            "\n",
            "---\n",
            "\n",
            "Target: 0 - not real disaster\n",
            "Test:\n",
            "LRT LOOK AT ALL MY TOM FEELS FLOODING BACK\n",
            "\n",
            "---\n",
            "\n",
            "Target: 0 - not real disaster\n",
            "Test:\n",
            "100  1' MIX NEW FLAT DOUBLE SIDED LINERLESS BOTTLE CAPS YOU CHOOSE MIX FLATTENED - Full reÛ_ http://t.co/w00kjPrfdR http://t.co/mIXl1pFRJe\n",
            "\n",
            "---\n",
            "\n",
            "Target: 0 - not real disaster\n",
            "Test:\n",
            "New cocktail on the list! El Diablo Mas Verde: mezcal yellow chartreuse honey cucumber hellfire bitters.... http://t.co/REuosJEK4m\n",
            "\n",
            "---\n",
            "\n",
            "Target: 1 - real disaster\n",
            "Test:\n",
            "Bend Post Office roofers cut gas line prompt evacuation - http://t.co/6mF7eyZOAw\n",
            "\n",
            "---\n",
            "\n"
          ]
        }
      ]
    },
    {
      "cell_type": "markdown",
      "source": [
        "# Split data into training and validation sets"
      ],
      "metadata": {
        "id": "f4I2KH2J_YlX"
      }
    },
    {
      "cell_type": "code",
      "source": [
        "from sklearn.model_selection import train_test_split\n",
        "train_sentences, val_sentences, train_labels, val_labels = train_test_split(train_df_shuffles[\"text\"].to_numpy(),\n",
        "                                                                            train_df_shuffles[\"target\"].to_numpy(),\n",
        "                                                                            test_size=0.1,#10%of training data for validation split\n",
        "                                                                            random_state=42)"
      ],
      "metadata": {
        "id": "x0ebfSPcCz29"
      },
      "execution_count": null,
      "outputs": []
    },
    {
      "cell_type": "code",
      "source": [
        "# Check lengths\n",
        "len(train_sentences), len(train_labels), len(val_sentences), len(val_labels)"
      ],
      "metadata": {
        "colab": {
          "base_uri": "https://localhost:8080/"
        },
        "id": "E_KEIZ_ZDpal",
        "outputId": "e638fc12-0f0f-4e40-a791-aae4fb133061"
      },
      "execution_count": null,
      "outputs": [
        {
          "output_type": "execute_result",
          "data": {
            "text/plain": [
              "(6851, 6851, 762, 762)"
            ]
          },
          "metadata": {},
          "execution_count": 15
        }
      ]
    },
    {
      "cell_type": "code",
      "source": [
        "#Check the first 10 samples\n",
        "train_sentences[:10], train_labels[:10]"
      ],
      "metadata": {
        "colab": {
          "base_uri": "https://localhost:8080/"
        },
        "id": "EnN0N4_nDydP",
        "outputId": "1d823ed2-4d11-4960-cc8a-8dbf5377d673"
      },
      "execution_count": null,
      "outputs": [
        {
          "output_type": "execute_result",
          "data": {
            "text/plain": [
              "(array(['@mogacola @zamtriossu i screamed after hitting tweet',\n",
              "        'Imagine getting flattened by Kurt Zouma',\n",
              "        '@Gurmeetramrahim #MSGDoing111WelfareWorks Green S welfare force ke appx 65000 members har time disaster victim ki help ke liye tyar hai....',\n",
              "        \"@shakjn @C7 @Magnums im shaking in fear he's gonna hack the planet\",\n",
              "        'Somehow find you and I collide http://t.co/Ee8RpOahPk',\n",
              "        '@EvaHanderek @MarleyKnysh great times until the bus driver held us hostage in the mall parking lot lmfao',\n",
              "        'destroy the free fandom honestly',\n",
              "        'Weapons stolen from National Guard Armory in New Albany still missing #Gunsense http://t.co/lKNU8902JE',\n",
              "        '@wfaaweather Pete when will the heat wave pass? Is it really going to be mid month? Frisco Boy Scouts have a canoe trip in Okla.',\n",
              "        'Patient-reported outcomes in long-term survivors of metastatic colorectal cancer - British Journal of Surgery http://t.co/5Yl4DC1Tqt'],\n",
              "       dtype=object), array([0, 0, 1, 0, 0, 1, 1, 0, 1, 1]))"
            ]
          },
          "metadata": {},
          "execution_count": 16
        }
      ]
    },
    {
      "cell_type": "markdown",
      "source": [
        "# Converting text to numbers\n",
        "\n",
        "* Tokenazation- direct mapping word - number\n",
        "* Embedding - create a matric of feature vector for each word/token"
      ],
      "metadata": {
        "id": "ISXO2We3EGKf"
      }
    },
    {
      "cell_type": "markdown",
      "source": [
        "# Text vectorization(tokenization)"
      ],
      "metadata": {
        "id": "T5BvMKoJEmbe"
      }
    },
    {
      "cell_type": "code",
      "source": [
        "train_sentences[:5]"
      ],
      "metadata": {
        "colab": {
          "base_uri": "https://localhost:8080/"
        },
        "id": "H8Og0LIJH9De",
        "outputId": "3eb19494-a743-4091-b18d-92c97cf82000"
      },
      "execution_count": null,
      "outputs": [
        {
          "output_type": "execute_result",
          "data": {
            "text/plain": [
              "array(['@mogacola @zamtriossu i screamed after hitting tweet',\n",
              "       'Imagine getting flattened by Kurt Zouma',\n",
              "       '@Gurmeetramrahim #MSGDoing111WelfareWorks Green S welfare force ke appx 65000 members har time disaster victim ki help ke liye tyar hai....',\n",
              "       \"@shakjn @C7 @Magnums im shaking in fear he's gonna hack the planet\",\n",
              "       'Somehow find you and I collide http://t.co/Ee8RpOahPk'],\n",
              "      dtype=object)"
            ]
          },
          "metadata": {},
          "execution_count": 17
        }
      ]
    },
    {
      "cell_type": "code",
      "source": [
        "import tensorflow as tf\n",
        "from tensorflow.keras.layers.experimental.preprocessing import TextVectorization\n",
        "#Use default TextVectorization parameters\n",
        "text_vectorizer = TextVectorization(max_tokens=None,#how many word in the the vocabulary (Automatically add <OOV> - means out of vocabulary)\n",
        "                                                    #Jakbysmy dali np max=10000 to wybraloby 10000 most common words, a reszta by była replaced\n",
        "                                                    # tokenem <OOV>\n",
        "                                    standardize=\"lower_and_strip_punctuation\",\n",
        "                                    split=\"whitespace\",\n",
        "                                    ngrams=None,#Create groups of n words\n",
        "                                    output_mode=\"int\",#How to map tokens to numbers\n",
        "                                    output_sequence_length=None,#how long do you want your sequences to be?\n",
        "                                    pad_to_max_tokens=None) "
      ],
      "metadata": {
        "id": "afxSow0kIDeX"
      },
      "execution_count": null,
      "outputs": []
    },
    {
      "cell_type": "code",
      "source": [
        "train_sentences[0].split(), len(train_sentences[0].split())"
      ],
      "metadata": {
        "colab": {
          "base_uri": "https://localhost:8080/"
        },
        "id": "rLJTTXiqNSk2",
        "outputId": "ca35d63f-e09e-402d-f484-1d55fd832742"
      },
      "execution_count": null,
      "outputs": [
        {
          "output_type": "execute_result",
          "data": {
            "text/plain": [
              "(['@mogacola', '@zamtriossu', 'i', 'screamed', 'after', 'hitting', 'tweet'], 7)"
            ]
          },
          "metadata": {},
          "execution_count": 19
        }
      ]
    },
    {
      "cell_type": "code",
      "source": [
        "all_sum = sum([len(i.split()) for i in train_sentences])#Dlugosc kazdego ze zdan, po czym zsumowana"
      ],
      "metadata": {
        "id": "zUTIuIkINyta"
      },
      "execution_count": null,
      "outputs": []
    },
    {
      "cell_type": "code",
      "source": [
        "#Average\n",
        "round(all_sum/len(train_sentences))"
      ],
      "metadata": {
        "colab": {
          "base_uri": "https://localhost:8080/"
        },
        "id": "R0sDfWz_OCfj",
        "outputId": "27902907-a044-41ba-b474-05d08f29c711"
      },
      "execution_count": null,
      "outputs": [
        {
          "output_type": "execute_result",
          "data": {
            "text/plain": [
              "15"
            ]
          },
          "metadata": {},
          "execution_count": 21
        }
      ]
    },
    {
      "cell_type": "code",
      "source": [
        "#Setup text vectorization variables\n",
        "max_vocab_length = 10000 # MAx number of words to habe in our vocabulary\n",
        "max_length =15 # max length our sequences will be (np how many words from tweet does a model see)\n",
        "\n",
        "#Building Vectorizer using our hyperparameters\n",
        "text_vectorizer = TextVectorization(max_tokens=max_vocab_length,\n",
        "                                    output_mode=\"int\",\n",
        "                                    output_sequence_length=max_length)"
      ],
      "metadata": {
        "id": "_RXsJQ1wO7Wm"
      },
      "execution_count": null,
      "outputs": []
    },
    {
      "cell_type": "code",
      "source": [
        "#Metoda adapt\n",
        "#Fit the text vectorizer to training data\n",
        "text_vectorizer.adapt(train_sentences)"
      ],
      "metadata": {
        "id": "8ar8od-sPfAq"
      },
      "execution_count": null,
      "outputs": []
    },
    {
      "cell_type": "code",
      "source": [
        "#Create a sample sentence and tokenize it\n",
        "sample_sentence = \"There's a flood in my street\"\n",
        "text_vectorizer([sample_sentence])"
      ],
      "metadata": {
        "colab": {
          "base_uri": "https://localhost:8080/"
        },
        "id": "NDXsPIxMNOkc",
        "outputId": "43c14f17-5b92-42a4-e6f4-c84fed80bbc2"
      },
      "execution_count": null,
      "outputs": [
        {
          "output_type": "execute_result",
          "data": {
            "text/plain": [
              "<tf.Tensor: shape=(1, 15), dtype=int64, numpy=\n",
              "array([[264,   3, 232,   4,  13, 698,   0,   0,   0,   0,   0,   0,   0,\n",
              "          0,   0]])>"
            ]
          },
          "metadata": {},
          "execution_count": 24
        }
      ]
    },
    {
      "cell_type": "code",
      "source": [
        "#Random sentences from training dataset\n",
        "random_sentence = random.choice(train_sentences)\n",
        "print(f\"Original text:\\n {random_sentence} \\n\\n Vectorized version:\\n {text_vectorizer([random_sentence])}\")"
      ],
      "metadata": {
        "colab": {
          "base_uri": "https://localhost:8080/"
        },
        "id": "pGEAKBwSNe3m",
        "outputId": "73c69358-7686-4e7b-ae7d-b5c647673836"
      },
      "execution_count": null,
      "outputs": [
        {
          "output_type": "stream",
          "name": "stdout",
          "text": [
            "Original text:\n",
            " @TomcatArts 'who then were annihilated by the legion itself. The survivors of the imperfect hybrid project quickly formed a new secret cell \n",
            "\n",
            " Vectorized version:\n",
            " [[4401   65  143   67  558   18    2 3683 2418    2  362    6    2 5382\n",
            "  3757]]\n"
          ]
        }
      ]
    },
    {
      "cell_type": "code",
      "source": [
        "#Getting unique words in the vocabulary\n",
        "words_in_vocab = text_vectorizer.get_vocabulary() #get all unique words i ntraining data\n",
        "top_5_words = words_in_vocab[:5] #get mose common words\n",
        "bottom_5_word = words_in_vocab[-5:] #get leasr common words\n",
        "print(f\"Number of words in vocab: {len(words_in_vocab)} \\n Most commmon: {top_5_words}\\n Least common {bottom_5_word}\")"
      ],
      "metadata": {
        "colab": {
          "base_uri": "https://localhost:8080/"
        },
        "id": "rl07MEQFONmV",
        "outputId": "378ce7b2-b3ed-4dd9-cd25-ff5920da4e12"
      },
      "execution_count": null,
      "outputs": [
        {
          "output_type": "stream",
          "name": "stdout",
          "text": [
            "Number of words in vocab: 10000 \n",
            " Most commmon: ['', '[UNK]', 'the', 'a', 'in']\n",
            " Least common ['pages', 'paeds', 'pads', 'padres', 'paddytomlinson1']\n"
          ]
        }
      ]
    },
    {
      "cell_type": "markdown",
      "source": [
        "# Creating an Embedding using an Embedding Layer\n",
        "\n",
        "tf.keras.layers.Embedding - Turns positive integers into dense vectors of fixed size\n",
        "\n",
        "Parameters about embedding layer:\n",
        "- 'input_dim' - the size of vocabulary - czyli ile lacznie slow wrzuci\n",
        "- 'output_dim' - dlugosc wektora, kty bedzie rezprezentowa token. Przykadowo wartoc 10 oznacza, ze pojedynczy wektor bedzie mial dlugosc 10 - czyli ile liczb reprezentuje jedno slowo\n",
        "- input_length - dlugosc sekwencji ktora bedzie przekazywana do embedding layer, tzn. dlugosc np jednego tweeta\n",
        "- embeddings_initializer - jaki rozkad do pocztkowo losowo wybranych liczb do reprezentacji slow (cyfr w tych wektorach)"
      ],
      "metadata": {
        "id": "Dox3bGFEPQzS"
      }
    },
    {
      "cell_type": "code",
      "source": [
        "from tensorflow.keras.layers import Embedding\n",
        "embedded_layer = Embedding(input_dim=max_vocab_length,\n",
        "          output_dim=128,\n",
        "          input_length=max_length,\n",
        "          embeddings_initializer='uniform')"
      ],
      "metadata": {
        "id": "pEeCnIRBQFIN"
      },
      "execution_count": null,
      "outputs": []
    },
    {
      "cell_type": "code",
      "source": [
        "#Take random sentence and check how does it works with embeddin\n",
        "# Important - embedding requires to have positive integers as input\n",
        "\n",
        "random_sentence = random.choice(train_sentences)\n",
        "print(f\"Original text:\\n {random_sentence}\\n Embedded sentence:\\n {embedded_layer(text_vectorizer([random_sentence]))}\")"
      ],
      "metadata": {
        "colab": {
          "base_uri": "https://localhost:8080/"
        },
        "id": "qtgB9zmLT1gj",
        "outputId": "8befbd4b-bf74-451d-985b-c745da66d86d"
      },
      "execution_count": null,
      "outputs": [
        {
          "output_type": "stream",
          "name": "stdout",
          "text": [
            "Original text:\n",
            " Myanmar Flooding: Heavy monsoon rains during the month of July have caused flooding flash floods and landsli... http://t.co/9TG7A5OqFP\n",
            " Embedded sentence:\n",
            " [[[ 0.02798807  0.02416385 -0.01978276 ...  0.01328672 -0.04680321\n",
            "   -0.04180241]\n",
            "  [-0.02630057 -0.01856955 -0.00182316 ...  0.01701334 -0.0071617\n",
            "    0.02213292]\n",
            "  [-0.01074681  0.02829008 -0.03034972 ... -0.01666043 -0.02435688\n",
            "    0.02510344]\n",
            "  ...\n",
            "  [-0.02630057 -0.01856955 -0.00182316 ...  0.01701334 -0.0071617\n",
            "    0.02213292]\n",
            "  [ 0.03302974 -0.03092754 -0.0187093  ...  0.02371545 -0.01951141\n",
            "    0.01665124]\n",
            "  [-0.01732668 -0.0245051  -0.00372068 ...  0.00512676 -0.0039371\n",
            "    0.04294896]]]\n"
          ]
        }
      ]
    },
    {
      "cell_type": "code",
      "source": [
        "embedded_layer(text_vectorizer([random_sentence])), embedded_layer(text_vectorizer([random_sentence])).shape"
      ],
      "metadata": {
        "colab": {
          "base_uri": "https://localhost:8080/"
        },
        "id": "HE8NS3KTVM6u",
        "outputId": "35f777af-156b-4fc1-91df-8f35ba8e9db1"
      },
      "execution_count": null,
      "outputs": [
        {
          "output_type": "execute_result",
          "data": {
            "text/plain": [
              "(<tf.Tensor: shape=(1, 15, 128), dtype=float32, numpy=\n",
              " array([[[ 0.02798807,  0.02416385, -0.01978276, ...,  0.01328672,\n",
              "          -0.04680321, -0.04180241],\n",
              "         [-0.02630057, -0.01856955, -0.00182316, ...,  0.01701334,\n",
              "          -0.0071617 ,  0.02213292],\n",
              "         [-0.01074681,  0.02829008, -0.03034972, ..., -0.01666043,\n",
              "          -0.02435688,  0.02510344],\n",
              "         ...,\n",
              "         [-0.02630057, -0.01856955, -0.00182316, ...,  0.01701334,\n",
              "          -0.0071617 ,  0.02213292],\n",
              "         [ 0.03302974, -0.03092754, -0.0187093 , ...,  0.02371545,\n",
              "          -0.01951141,  0.01665124],\n",
              "         [-0.01732668, -0.0245051 , -0.00372068, ...,  0.00512676,\n",
              "          -0.0039371 ,  0.04294896]]], dtype=float32)>,\n",
              " TensorShape([1, 15, 128]))"
            ]
          },
          "metadata": {},
          "execution_count": 29
        }
      ]
    },
    {
      "cell_type": "code",
      "source": [
        "# 15, bo 15 wyrazow w zdaniu. 128 bo 128 liczb reprezentuje jeden wyraz :)\n",
        "embedded_layer(text_vectorizer([random_sentence]))[0][0] , random_sentence[0]"
      ],
      "metadata": {
        "colab": {
          "base_uri": "https://localhost:8080/"
        },
        "id": "ebQ7MIcWVaXU",
        "outputId": "f7d17b6d-7091-4121-84df-88156778de7e"
      },
      "execution_count": null,
      "outputs": [
        {
          "output_type": "execute_result",
          "data": {
            "text/plain": [
              "(<tf.Tensor: shape=(128,), dtype=float32, numpy=\n",
              " array([ 2.7988065e-02,  2.4163853e-02, -1.9782757e-02,  3.6118161e-02,\n",
              "         1.4238451e-02, -2.7509332e-03,  2.5835861e-02,  2.4063621e-02,\n",
              "        -3.7823737e-02, -1.3318181e-02,  3.1277034e-02,  2.6633549e-02,\n",
              "         3.0558322e-02,  4.5748714e-02, -2.6638998e-02,  6.3056834e-03,\n",
              "        -1.6150046e-02, -3.5314906e-02,  2.3706283e-02, -1.6881764e-02,\n",
              "        -3.6707032e-02, -4.3794490e-02, -4.9709011e-02,  3.0285481e-02,\n",
              "         2.5769249e-03, -2.5464619e-02,  1.1887394e-02, -1.7658316e-02,\n",
              "        -4.7754087e-02, -4.1049220e-02,  3.3378210e-02,  4.9894340e-03,\n",
              "        -3.8507618e-02, -1.3276923e-02, -4.8125327e-02, -2.7899945e-02,\n",
              "         3.7649181e-02,  7.0515871e-03,  9.6809044e-03, -4.2860329e-02,\n",
              "        -4.7635045e-02, -3.6025383e-02,  1.5607562e-02,  3.0085925e-02,\n",
              "         1.7174333e-04,  2.2150587e-02,  5.6570396e-03, -4.6228923e-02,\n",
              "         4.8183952e-02, -4.5588255e-02,  3.0299153e-02, -3.9333977e-02,\n",
              "         1.9475270e-02,  3.0916844e-02, -3.3300817e-02,  2.4428081e-02,\n",
              "        -3.9668821e-02, -2.6801050e-02,  6.6963546e-03,  5.4950640e-04,\n",
              "         3.9393116e-02,  3.7058536e-02,  4.1204061e-02,  1.5185405e-02,\n",
              "        -4.2168774e-02, -2.7262151e-02, -5.0684214e-03, -4.0223788e-02,\n",
              "         2.4855956e-03,  2.4680544e-02,  8.4676966e-03, -3.3829823e-02,\n",
              "         3.7400220e-02, -4.6069037e-02, -1.7163932e-02, -3.2716170e-03,\n",
              "         2.1187294e-02,  3.1332970e-03, -1.1995267e-02,  4.1310821e-02,\n",
              "         4.8095230e-02,  3.2076549e-02, -4.8720948e-03,  4.9256239e-02,\n",
              "        -3.8823258e-02,  4.3392051e-02, -3.7837267e-02,  1.8954646e-02,\n",
              "         3.9594721e-02, -3.3951402e-02, -3.2676086e-03,  3.8109172e-02,\n",
              "         4.1250054e-02,  3.9082732e-02, -1.5869379e-02,  7.8182705e-03,\n",
              "         2.6239682e-02,  8.7935925e-03, -1.9040419e-02,  1.4851142e-02,\n",
              "         5.2364841e-03,  3.1433474e-02, -2.8125895e-02,  3.3398774e-02,\n",
              "        -1.0611128e-02, -1.5383877e-02,  1.9900504e-02, -4.7723424e-02,\n",
              "         2.7464334e-02, -4.2374827e-02,  2.7602617e-02,  7.5422898e-03,\n",
              "        -3.3756390e-02, -1.3958991e-02, -3.3191551e-02,  3.3927631e-02,\n",
              "         3.4857813e-02,  4.8030626e-02,  8.9704990e-05, -1.3782013e-02,\n",
              "        -2.8280450e-02,  4.2673174e-02,  2.6001226e-02,  1.6030241e-02,\n",
              "        -1.7815817e-02,  1.3286721e-02, -4.6803214e-02, -4.1802406e-02],\n",
              "       dtype=float32)>, 'M')"
            ]
          },
          "metadata": {},
          "execution_count": 30
        }
      ]
    },
    {
      "cell_type": "markdown",
      "source": [
        "# Modeling a text dataset (series of experiments)\n",
        "\n",
        "* Model 0: Naive Bayers (baseline)\n",
        "* Model 1: Feed-forward neural network (dense model)\n",
        "* Model 2: LSTM model (RNN)\n",
        "* Model 3: GRU model (RNN)\n",
        "* Model 4: Bidirectional-LSTM model (RNN)\n",
        "* Model 5: 1D Convolutional Neural Network  (CNN)\n",
        "* Model 6: Tensorflow Hub pretrained Feature Extractor (sing transfer learning for NLP)\n",
        "* Model 7: Same as model 6 with 1-0% of training data\n",
        "\n",
        "Steps:\n",
        "\n",
        "* Create a model\n",
        "* Build a model\n",
        "* Fit a model\n",
        "* Evaluate a model"
      ],
      "metadata": {
        "id": "hO6Dlt6AVtsW"
      }
    },
    {
      "cell_type": "markdown",
      "source": [
        "# Model 0: Getting baseline\n",
        "\n",
        "- To get some benchmark for future model to built upon\n",
        "- It will be Multinomial Naive  Base with TF-IDF\n"
      ],
      "metadata": {
        "id": "Zt-0itklhJmF"
      }
    },
    {
      "cell_type": "code",
      "source": [
        "from sklearn.feature_extraction.text import TfidfVectorizer\n",
        "from sklearn.naive_bayes import MultinomialNB\n",
        "from sklearn.pipeline import Pipeline\n",
        "\n",
        "model_0 =Pipeline([\n",
        "    (\"tfidf\", TfidfVectorizer()),#converts words to integers in format tf-idf\n",
        "    (\"clf\", MultinomialNB())#Model the text clf - classification\n",
        "])\n",
        "\n",
        "#tf_idf = TfidfVectorizer()\n",
        "#tf_idf.fit(train_sentences)\n",
        "#train_idf = tf_idf.transform(train_sentences)\n",
        "#nb = MultinomialNB( )\n",
        "#nb.fit(train_idf)\n",
        "\n",
        "#PIPELINE SPRAWNIEJSZY - MOŻE WYGODNIEJSZY\n",
        "\n",
        "model_0.fit(train_sentences,train_labels)"
      ],
      "metadata": {
        "colab": {
          "base_uri": "https://localhost:8080/"
        },
        "id": "AGjJykAsXI0G",
        "outputId": "82c708e7-40a5-4892-ffa6-19da56a92878"
      },
      "execution_count": null,
      "outputs": [
        {
          "output_type": "execute_result",
          "data": {
            "text/plain": [
              "Pipeline(steps=[('tfidf', TfidfVectorizer()), ('clf', MultinomialNB())])"
            ]
          },
          "metadata": {},
          "execution_count": 31
        }
      ]
    },
    {
      "cell_type": "code",
      "source": [
        "#Evaluate our model\n",
        "baseline_score = model_0.score(val_sentences, val_labels)\n",
        "print(f\"Baseline accuracy: {baseline_score*100:.2f}%\")"
      ],
      "metadata": {
        "colab": {
          "base_uri": "https://localhost:8080/"
        },
        "id": "XVcT1Ur8gkN6",
        "outputId": "302b8bd6-b516-4b5a-a4ce-79604e071fc9"
      },
      "execution_count": null,
      "outputs": [
        {
          "output_type": "stream",
          "name": "stdout",
          "text": [
            "Baseline accuracy: 79.27%\n"
          ]
        }
      ]
    },
    {
      "cell_type": "code",
      "source": [
        "train_df.target.value_counts()"
      ],
      "metadata": {
        "colab": {
          "base_uri": "https://localhost:8080/"
        },
        "id": "gKzbLGE1imln",
        "outputId": "a39d8adb-f10a-479d-90f2-024980cb823c"
      },
      "execution_count": null,
      "outputs": [
        {
          "output_type": "execute_result",
          "data": {
            "text/plain": [
              "0    4342\n",
              "1    3271\n",
              "Name: target, dtype: int64"
            ]
          },
          "metadata": {},
          "execution_count": 33
        }
      ]
    },
    {
      "cell_type": "code",
      "source": [
        "#Make predictions\n",
        "baseline_preds = model_0.predict(val_sentences)\n",
        "baseline_preds[:20]"
      ],
      "metadata": {
        "colab": {
          "base_uri": "https://localhost:8080/"
        },
        "id": "2vxJJLxKitPz",
        "outputId": "e675b532-5bf9-44b0-8ce1-3c36acf48f70"
      },
      "execution_count": null,
      "outputs": [
        {
          "output_type": "execute_result",
          "data": {
            "text/plain": [
              "array([1, 1, 1, 0, 0, 1, 1, 1, 1, 0, 0, 1, 0, 0, 0, 0, 0, 0, 0, 1])"
            ]
          },
          "metadata": {},
          "execution_count": 34
        }
      ]
    },
    {
      "cell_type": "markdown",
      "source": [
        "# Create evaluation function"
      ],
      "metadata": {
        "id": "VBVkgZFVnXWE"
      }
    },
    {
      "cell_type": "code",
      "source": [
        "#Precision recall f1-score accuracy in dictionary\n",
        "def evaluation_of_model(y_true,y_pred):\n",
        "  from sklearn.metrics import accuracy_score, precision_recall_fscore_support\n",
        "  '''\n",
        "  Calculates accuracy, precision, recall and f1 score of binary classification model\n",
        "  '''\n",
        "  model_accuracy = accuracy_score(y_true, y_pred) *100\n",
        "  #Calculate precision,recall, f1score using weighted average\n",
        "  model_precision,model_recall,model_f1_score,_ = precision_recall_fscore_support(y_true,y_pred,average=\"weighted\")\n",
        "  model_results={\"accuracy\":model_accuracy,\n",
        "                 \"precision\":model_precision,\n",
        "                 \"recall\":model_recall,\n",
        "                 \"f1\":model_f1_score}\n",
        "  return model_results"
      ],
      "metadata": {
        "id": "VzDobd3Bi3df"
      },
      "execution_count": null,
      "outputs": []
    },
    {
      "cell_type": "code",
      "source": [
        "#Get baseline results\n",
        "baseline_result = evaluation_of_model(val_labels,baseline_preds)\n",
        "baseline_result"
      ],
      "metadata": {
        "colab": {
          "base_uri": "https://localhost:8080/"
        },
        "id": "sedIxv8zpHO7",
        "outputId": "23731b9b-dc33-4020-d40f-af15ce0e06f2"
      },
      "execution_count": null,
      "outputs": [
        {
          "output_type": "execute_result",
          "data": {
            "text/plain": [
              "{'accuracy': 79.26509186351706,\n",
              " 'precision': 0.8111390004213173,\n",
              " 'recall': 0.7926509186351706,\n",
              " 'f1': 0.7862189758049549}"
            ]
          },
          "metadata": {},
          "execution_count": 36
        }
      ]
    },
    {
      "cell_type": "code",
      "source": [
        "from sklearn.metrics import confusion_matrix\n",
        "from sklearn.metrics import classification_report\n"
      ],
      "metadata": {
        "id": "kLM_afCxjzzR"
      },
      "execution_count": null,
      "outputs": []
    },
    {
      "cell_type": "code",
      "source": [
        "dict_class = classification_report(val_labels,baseline_preds,output_dict=True)"
      ],
      "metadata": {
        "id": "Am09Tv-okC-e"
      },
      "execution_count": null,
      "outputs": []
    },
    {
      "cell_type": "code",
      "source": [
        "dict_class"
      ],
      "metadata": {
        "colab": {
          "base_uri": "https://localhost:8080/"
        },
        "id": "6xKsSMHikjam",
        "outputId": "1cf8df7b-a2ed-42d2-8491-17cc394d4187"
      },
      "execution_count": null,
      "outputs": [
        {
          "output_type": "execute_result",
          "data": {
            "text/plain": [
              "{'0': {'precision': 0.748062015503876,\n",
              "  'recall': 0.9323671497584541,\n",
              "  'f1-score': 0.8301075268817204,\n",
              "  'support': 414},\n",
              " '1': {'precision': 0.8861788617886179,\n",
              "  'recall': 0.6264367816091954,\n",
              "  'f1-score': 0.734006734006734,\n",
              "  'support': 348},\n",
              " 'accuracy': 0.7926509186351706,\n",
              " 'macro avg': {'precision': 0.817120438646247,\n",
              "  'recall': 0.7794019656838247,\n",
              "  'f1-score': 0.7820571304442272,\n",
              "  'support': 762},\n",
              " 'weighted avg': {'precision': 0.8111390004213173,\n",
              "  'recall': 0.7926509186351706,\n",
              "  'f1-score': 0.7862189758049549,\n",
              "  'support': 762}}"
            ]
          },
          "metadata": {},
          "execution_count": 39
        }
      ]
    },
    {
      "cell_type": "code",
      "source": [
        "print(classification_report(val_labels,baseline_preds))"
      ],
      "metadata": {
        "colab": {
          "base_uri": "https://localhost:8080/"
        },
        "id": "XWnVaYtVkoi_",
        "outputId": "76737790-0810-453a-eac8-6be881c86c42"
      },
      "execution_count": null,
      "outputs": [
        {
          "output_type": "stream",
          "name": "stdout",
          "text": [
            "              precision    recall  f1-score   support\n",
            "\n",
            "           0       0.75      0.93      0.83       414\n",
            "           1       0.89      0.63      0.73       348\n",
            "\n",
            "    accuracy                           0.79       762\n",
            "   macro avg       0.82      0.78      0.78       762\n",
            "weighted avg       0.81      0.79      0.79       762\n",
            "\n"
          ]
        }
      ]
    },
    {
      "cell_type": "code",
      "source": [
        "confusion_matrix(val_labels,baseline_preds)"
      ],
      "metadata": {
        "colab": {
          "base_uri": "https://localhost:8080/"
        },
        "id": "sIMpmEcJlNcE",
        "outputId": "ee9eb947-cc59-4755-ef66-4a9653097315"
      },
      "execution_count": null,
      "outputs": [
        {
          "output_type": "execute_result",
          "data": {
            "text/plain": [
              "array([[386,  28],\n",
              "       [130, 218]])"
            ]
          },
          "metadata": {},
          "execution_count": 41
        }
      ]
    },
    {
      "cell_type": "markdown",
      "source": [
        "# Model 1: A simple dense model"
      ],
      "metadata": {
        "id": "R_kk6Nzwme36"
      }
    },
    {
      "cell_type": "code",
      "source": [
        "#Directory for Tensorboard logs\n",
        "SAVE_DIR = \"model_logs\"\n"
      ],
      "metadata": {
        "id": "_BNxC5esX04G"
      },
      "execution_count": null,
      "outputs": []
    },
    {
      "cell_type": "code",
      "source": [
        "#build model with Functional API\n",
        "from tensorflow.keras import layers\n",
        "inputs = layers.Input(shape=(1,),dtype=tf.string) #1 at the time - shape(1,)\n",
        "x = text_vectorizer(inputs) # Input text into numbers\n",
        "x = embedded_layer(x) #Create embeding of numberized inputs\n",
        "#x = layers.GlobalAveragePooling1D()(x) # Condense the feature vector for each token to one vector (none,15,128) -> (none,128)\n",
        "x = layers.GlobalMaxPool1D()(x)\n",
        "outputs = layers.Dense(1, activation=\"sigmoid\")(x) #Create the output layer, 1 because binary classiicaiton\n",
        "model_1 = tf.keras.Model(inputs,outputs,name=\"model_1_dense\")"
      ],
      "metadata": {
        "id": "Fr3PZEgMX-cp"
      },
      "execution_count": null,
      "outputs": []
    },
    {
      "cell_type": "code",
      "source": [
        "model_1.summary()"
      ],
      "metadata": {
        "colab": {
          "base_uri": "https://localhost:8080/"
        },
        "id": "deJ3YmLmYQY3",
        "outputId": "45e7da71-2650-4a92-f596-072c2b6580b6"
      },
      "execution_count": null,
      "outputs": [
        {
          "output_type": "stream",
          "name": "stdout",
          "text": [
            "Model: \"model_1_dense\"\n",
            "_________________________________________________________________\n",
            " Layer (type)                Output Shape              Param #   \n",
            "=================================================================\n",
            " input_1 (InputLayer)        [(None, 1)]               0         \n",
            "                                                                 \n",
            " text_vectorization_1 (TextV  (None, 15)               0         \n",
            " ectorization)                                                   \n",
            "                                                                 \n",
            " embedding (Embedding)       (None, 15, 128)           1280000   \n",
            "                                                                 \n",
            " global_max_pooling1d (Globa  (None, 128)              0         \n",
            " lMaxPooling1D)                                                  \n",
            "                                                                 \n",
            " dense (Dense)               (None, 1)                 129       \n",
            "                                                                 \n",
            "=================================================================\n",
            "Total params: 1,280,129\n",
            "Trainable params: 1,280,129\n",
            "Non-trainable params: 0\n",
            "_________________________________________________________________\n"
          ]
        }
      ]
    },
    {
      "cell_type": "code",
      "source": [
        "# Compiole model\n",
        "model_1.compile(loss=\"binary_crossentropy\",\n",
        "                optimizer=tf.keras.optimizers.Adam(),\n",
        "                metrics=[\"accuracy\"])"
      ],
      "metadata": {
        "id": "6krwXJyAZayC"
      },
      "execution_count": null,
      "outputs": []
    },
    {
      "cell_type": "code",
      "source": [
        "#Fit model\n",
        "model_1_history = model_1.fit(x=train_sentences,\n",
        "                              y=train_labels,\n",
        "                              epochs=5,\n",
        "                              validation_data = (val_sentences,val_labels),\n",
        "                              callbacks=[hp.create_tensorboard_callback(dir_name=SAVE_DIR,\n",
        "                                                                     experiment_name=\"model_1\")])"
      ],
      "metadata": {
        "colab": {
          "base_uri": "https://localhost:8080/"
        },
        "id": "xdvY-rCOZzq6",
        "outputId": "966f8690-b6f7-4585-d92c-36c8209df68c"
      },
      "execution_count": null,
      "outputs": [
        {
          "output_type": "stream",
          "name": "stdout",
          "text": [
            "Saving TensorBoard log files to: model_logs/model_1/20230221-132219\n",
            "Epoch 1/5\n",
            "215/215 [==============================] - 4s 14ms/step - loss: 0.6351 - accuracy: 0.6517 - val_loss: 0.5712 - val_accuracy: 0.7625\n",
            "Epoch 2/5\n",
            "215/215 [==============================] - 2s 11ms/step - loss: 0.4677 - accuracy: 0.8298 - val_loss: 0.4760 - val_accuracy: 0.7835\n",
            "Epoch 3/5\n",
            "215/215 [==============================] - 2s 11ms/step - loss: 0.3391 - accuracy: 0.8770 - val_loss: 0.4546 - val_accuracy: 0.7887\n",
            "Epoch 4/5\n",
            "215/215 [==============================] - 2s 11ms/step - loss: 0.2560 - accuracy: 0.9079 - val_loss: 0.4549 - val_accuracy: 0.7822\n",
            "Epoch 5/5\n",
            "215/215 [==============================] - 2s 11ms/step - loss: 0.1953 - accuracy: 0.9346 - val_loss: 0.4736 - val_accuracy: 0.7848\n"
          ]
        }
      ]
    },
    {
      "cell_type": "code",
      "source": [
        "model_1_pred_probs = model_1.predict(val_sentences)"
      ],
      "metadata": {
        "colab": {
          "base_uri": "https://localhost:8080/"
        },
        "id": "68WZC6cebsbS",
        "outputId": "25503112-2683-46eb-b2e7-02696dfaa69e"
      },
      "execution_count": null,
      "outputs": [
        {
          "output_type": "stream",
          "name": "stdout",
          "text": [
            "24/24 [==============================] - 0s 1ms/step\n"
          ]
        }
      ]
    },
    {
      "cell_type": "code",
      "source": [
        "model_1_pred_probs[:10]"
      ],
      "metadata": {
        "colab": {
          "base_uri": "https://localhost:8080/"
        },
        "id": "rRAUfIbYdzJ7",
        "outputId": "ba1071bd-b31d-47a0-9d6c-556febe81084"
      },
      "execution_count": null,
      "outputs": [
        {
          "output_type": "execute_result",
          "data": {
            "text/plain": [
              "array([[0.33266157],\n",
              "       [0.8313768 ],\n",
              "       [0.9924845 ],\n",
              "       [0.05230355],\n",
              "       [0.31471506],\n",
              "       [0.9571351 ],\n",
              "       [0.88355106],\n",
              "       [0.982262  ],\n",
              "       [0.8938588 ],\n",
              "       [0.08632199]], dtype=float32)"
            ]
          },
          "metadata": {},
          "execution_count": 48
        }
      ]
    },
    {
      "cell_type": "code",
      "source": [
        "#Convert model prediction probabilities to balel format \n",
        "model_1_preds= model_1_pred_probs.round()\n",
        "model_1_preds = model_1_preds.squeeze()\n",
        "model_1_preds[:20]"
      ],
      "metadata": {
        "colab": {
          "base_uri": "https://localhost:8080/"
        },
        "id": "K00b9g5Hd_ay",
        "outputId": "3bd278f3-1d04-4783-9ee9-3b3d57e0ed2c"
      },
      "execution_count": null,
      "outputs": [
        {
          "output_type": "execute_result",
          "data": {
            "text/plain": [
              "array([0., 1., 1., 0., 0., 1., 1., 1., 1., 0., 0., 1., 0., 0., 0., 0., 0.,\n",
              "       0., 0., 1.], dtype=float32)"
            ]
          },
          "metadata": {},
          "execution_count": 49
        }
      ]
    },
    {
      "cell_type": "code",
      "source": [
        "#Check model 1 resuluts\n",
        "model_1_results = evaluation_of_model(val_labels,model_1_preds)\n",
        "model_1_results"
      ],
      "metadata": {
        "colab": {
          "base_uri": "https://localhost:8080/"
        },
        "id": "c49gnqyPeM0d",
        "outputId": "3f27f42b-ffac-4c5b-add7-ae86c42c5ee6"
      },
      "execution_count": null,
      "outputs": [
        {
          "output_type": "execute_result",
          "data": {
            "text/plain": [
              "{'accuracy': 78.4776902887139,\n",
              " 'precision': 0.7895833902086796,\n",
              " 'recall': 0.7847769028871391,\n",
              " 'f1': 0.7817499108999565}"
            ]
          },
          "metadata": {},
          "execution_count": 50
        }
      ]
    },
    {
      "cell_type": "code",
      "source": [
        "baseline_result"
      ],
      "metadata": {
        "colab": {
          "base_uri": "https://localhost:8080/"
        },
        "id": "hzf6zrLieruK",
        "outputId": "c573ebb8-268d-42d5-d2bd-f59b6796ac94"
      },
      "execution_count": null,
      "outputs": [
        {
          "output_type": "execute_result",
          "data": {
            "text/plain": [
              "{'accuracy': 79.26509186351706,\n",
              " 'precision': 0.8111390004213173,\n",
              " 'recall': 0.7926509186351706,\n",
              " 'f1': 0.7862189758049549}"
            ]
          },
          "metadata": {},
          "execution_count": 51
        }
      ]
    },
    {
      "cell_type": "code",
      "source": [
        "#Baseline is outperforming model_1\n",
        "import numpy as np\n",
        "np.array(list(model_1_results.values())) > np.array(list(baseline_result.values()))"
      ],
      "metadata": {
        "colab": {
          "base_uri": "https://localhost:8080/"
        },
        "id": "3jB8o_ixexjP",
        "outputId": "e585f871-0b59-4d51-87ad-6d8827ef6f6d"
      },
      "execution_count": null,
      "outputs": [
        {
          "output_type": "execute_result",
          "data": {
            "text/plain": [
              "array([False, False, False, False])"
            ]
          },
          "metadata": {},
          "execution_count": 52
        }
      ]
    },
    {
      "cell_type": "markdown",
      "source": [
        "# Visualizing learned embeddings"
      ],
      "metadata": {
        "id": "a2CPvNJMfGBs"
      }
    },
    {
      "cell_type": "code",
      "source": [
        "#Get weight matrix of embedding layer\n",
        "embed_weights = model_1.get_layer(\"embedding\").get_weights()[0]\n",
        "embed_weights"
      ],
      "metadata": {
        "colab": {
          "base_uri": "https://localhost:8080/"
        },
        "id": "PaoKgOiUgDyq",
        "outputId": "a5f206ae-3a7d-4165-cc66-0c50daaf55d4"
      },
      "execution_count": null,
      "outputs": [
        {
          "output_type": "execute_result",
          "data": {
            "text/plain": [
              "array([[-0.04564693, -0.02079643, -0.12704615, ..., -0.06382237,\n",
              "        -0.03989882, -0.02418624],\n",
              "       [-0.03981275, -0.02423115, -0.06184434, ..., -0.06453726,\n",
              "        -0.04062672, -0.0212037 ],\n",
              "       [-0.04291101, -0.02559499, -0.03571619, ..., -0.05573842,\n",
              "        -0.02482034, -0.0170679 ],\n",
              "       ...,\n",
              "       [-0.01068112,  0.04797448, -0.0004902 , ...,  0.04135792,\n",
              "        -0.04844612, -0.04045209],\n",
              "       [-0.01676222, -0.04790216, -0.00369153, ..., -0.01463412,\n",
              "         0.0921093 , -0.03860553],\n",
              "       [-0.04658175,  0.04305102, -0.03039669, ..., -0.03793997,\n",
              "        -0.0497815 , -0.0190696 ]], dtype=float32)"
            ]
          },
          "metadata": {},
          "execution_count": 53
        }
      ]
    },
    {
      "cell_type": "markdown",
      "source": [
        "Visualizing embedding matrix of model\n",
        "\n",
        "- With projector tool from Tensorflow can be used. \n",
        "\n"
      ],
      "metadata": {
        "id": "KoVI6H71hOVF"
      }
    },
    {
      "cell_type": "code",
      "source": [
        "import io\n",
        "out_v = io.open('vectors.tsv', 'w', encoding='utf-8')\n",
        "out_m = io.open('metadata.tsv', 'w', encoding='utf-8')\n",
        "\n",
        "for index, word in enumerate(words_in_vocab):\n",
        "  if index == 0:\n",
        "    continue  # skip 0, it's padding.\n",
        "  vec = embed_weights[index]\n",
        "  out_v.write('\\t'.join([str(x) for x in vec]) + \"\\n\")\n",
        "  out_m.write(word + \"\\n\")\n",
        "out_v.close()\n",
        "out_m.close()"
      ],
      "metadata": {
        "id": "WFFtFg_ahPVk"
      },
      "execution_count": null,
      "outputs": []
    },
    {
      "cell_type": "code",
      "source": [
        "try:\n",
        "  from google.colab import files\n",
        "  files.download('vectors.tsv')\n",
        "  #files.download('metadata.tsv')\n",
        "except Exception:\n",
        "  pass"
      ],
      "metadata": {
        "colab": {
          "base_uri": "https://localhost:8080/",
          "height": 34
        },
        "id": "5dtsL-5rzTCc",
        "outputId": "6e9e0559-ec18-402f-c281-f4f225d8d5f8"
      },
      "execution_count": null,
      "outputs": [
        {
          "output_type": "display_data",
          "data": {
            "text/plain": [
              "<IPython.core.display.Javascript object>"
            ],
            "application/javascript": [
              "\n",
              "    async function download(id, filename, size) {\n",
              "      if (!google.colab.kernel.accessAllowed) {\n",
              "        return;\n",
              "      }\n",
              "      const div = document.createElement('div');\n",
              "      const label = document.createElement('label');\n",
              "      label.textContent = `Downloading \"${filename}\": `;\n",
              "      div.appendChild(label);\n",
              "      const progress = document.createElement('progress');\n",
              "      progress.max = size;\n",
              "      div.appendChild(progress);\n",
              "      document.body.appendChild(div);\n",
              "\n",
              "      const buffers = [];\n",
              "      let downloaded = 0;\n",
              "\n",
              "      const channel = await google.colab.kernel.comms.open(id);\n",
              "      // Send a message to notify the kernel that we're ready.\n",
              "      channel.send({})\n",
              "\n",
              "      for await (const message of channel.messages) {\n",
              "        // Send a message to notify the kernel that we're ready.\n",
              "        channel.send({})\n",
              "        if (message.buffers) {\n",
              "          for (const buffer of message.buffers) {\n",
              "            buffers.push(buffer);\n",
              "            downloaded += buffer.byteLength;\n",
              "            progress.value = downloaded;\n",
              "          }\n",
              "        }\n",
              "      }\n",
              "      const blob = new Blob(buffers, {type: 'application/binary'});\n",
              "      const a = document.createElement('a');\n",
              "      a.href = window.URL.createObjectURL(blob);\n",
              "      a.download = filename;\n",
              "      div.appendChild(a);\n",
              "      a.click();\n",
              "      div.remove();\n",
              "    }\n",
              "  "
            ]
          },
          "metadata": {}
        },
        {
          "output_type": "display_data",
          "data": {
            "text/plain": [
              "<IPython.core.display.Javascript object>"
            ],
            "application/javascript": [
              "download(\"download_46873dfe-339c-4071-93d6-e4d1be5fd9fe\", \"vectors.tsv\", 16008847)"
            ]
          },
          "metadata": {}
        }
      ]
    },
    {
      "cell_type": "markdown",
      "source": [
        "# Model 2 - LSTM\n",
        "\n",
        "Input - Tokenize - Embedding - Layers (Rnns.Dens) - Outpu (probability label)"
      ],
      "metadata": {
        "id": "XxKCuViF0K-S"
      }
    },
    {
      "cell_type": "code",
      "source": [
        "from tensorflow.keras import layers \n",
        "inputs = layers.Input(shape=(1,), dtype=\"string\")\n",
        "x = text_vectorizer(inputs)\n",
        "x = embedded_layer(x)\n",
        "print(x.shape)\n",
        "x = layers.LSTM(units=64,return_sequences=True)(x) # 64 - hidden units/return_sequences - if you're stacking RNN cells together, you need to \n",
        "                                                   #return sequences \n",
        "print(x.shape)\n",
        "x = layers.LSTM(64)(x)\n",
        "print(x.shape)\n",
        "x = layers.Dense(64,activation=\"relu\")(x)\n",
        "outputs = layers.Dense(1, activation=\"sigmoid\")(x)\n",
        "model_2 = tf.keras.Model(inputs,outputs,name=\"model_2_LSTM\")"
      ],
      "metadata": {
        "colab": {
          "base_uri": "https://localhost:8080/"
        },
        "id": "nyinc55gQXvX",
        "outputId": "38cb55c4-706b-4710-a7ce-2010d2f19758"
      },
      "execution_count": null,
      "outputs": [
        {
          "output_type": "stream",
          "name": "stdout",
          "text": [
            "(None, 15, 128)\n",
            "(None, 15, 64)\n",
            "(None, 64)\n"
          ]
        }
      ]
    },
    {
      "cell_type": "markdown",
      "source": [
        "Return_sequence dajemy na true, jeżeli łączymy ze sobą warstwy rekurencyjne jak np lstm, ponieważ żeby sie uczył lstm to potrzebuje dostać sentences, czyli wyrazy (tekst), a jak nie damy tru to wtedy on zwraca wagi, a slow juz nie. Stad też ten rozmiar z 3dim na 2dim sie zmniejsza wtedy. Timesteps to po prostu wyrazy bo lstm kolejne wyrazy traktuje jako timesteps."
      ],
      "metadata": {
        "id": "DUmhZvyTQ6Vv"
      }
    },
    {
      "cell_type": "code",
      "source": [
        "from tensorflow.keras import layers\n",
        "inputs = layers.Input(shape=(1,),dtype=\"string\")\n",
        "x = text_vectorizer(inputs)\n",
        "x = embedded_layer(x)\n",
        "x = layers.LSTM(units=64)(x)\n",
        "outputs = layers.Dense(1,activation=\"sigmoid\")(x)\n",
        "model_2 = tf.keras.Model(inputs,outputs,name=\"Model_2_LSTM\")"
      ],
      "metadata": {
        "id": "F6I5hxWzTexi"
      },
      "execution_count": null,
      "outputs": []
    },
    {
      "cell_type": "code",
      "source": [
        "model_2.summary()"
      ],
      "metadata": {
        "colab": {
          "base_uri": "https://localhost:8080/"
        },
        "id": "sA6Myl8-UDgF",
        "outputId": "9ab5f51e-95aa-4c22-89bc-0de75ab3e954"
      },
      "execution_count": null,
      "outputs": [
        {
          "output_type": "stream",
          "name": "stdout",
          "text": [
            "Model: \"Model_2_LSTM\"\n",
            "_________________________________________________________________\n",
            " Layer (type)                Output Shape              Param #   \n",
            "=================================================================\n",
            " input_3 (InputLayer)        [(None, 1)]               0         \n",
            "                                                                 \n",
            " text_vectorization_1 (TextV  (None, 15)               0         \n",
            " ectorization)                                                   \n",
            "                                                                 \n",
            " embedding (Embedding)       (None, 15, 128)           1280000   \n",
            "                                                                 \n",
            " lstm_2 (LSTM)               (None, 64)                49408     \n",
            "                                                                 \n",
            " dense_3 (Dense)             (None, 1)                 65        \n",
            "                                                                 \n",
            "=================================================================\n",
            "Total params: 1,329,473\n",
            "Trainable params: 1,329,473\n",
            "Non-trainable params: 0\n",
            "_________________________________________________________________\n"
          ]
        }
      ]
    },
    {
      "cell_type": "code",
      "source": [
        "model_2.compile(loss=\"binary_crossentropy\",\n",
        "                optimizer=tf.keras.optimizers.Adam(),\n",
        "                metrics=[\"accuracy\"])"
      ],
      "metadata": {
        "id": "KbVBL5wwUdE2"
      },
      "execution_count": null,
      "outputs": []
    },
    {
      "cell_type": "code",
      "source": [
        "history_2 = model_2.fit(train_sentences,\n",
        "                        train_labels,\n",
        "                        epochs=5,\n",
        "                        validation_data=(val_sentences,val_labels),\n",
        "                        callbacks=[hp.create_tensorboard_callback(SAVE_DIR,\n",
        "                                                                  \"model_2_LSTM\")])"
      ],
      "metadata": {
        "colab": {
          "base_uri": "https://localhost:8080/"
        },
        "id": "XKboJih3Upz0",
        "outputId": "57d2a92f-dfb3-4ccb-c9f6-440942ecdeea"
      },
      "execution_count": null,
      "outputs": [
        {
          "output_type": "stream",
          "name": "stdout",
          "text": [
            "Saving TensorBoard log files to: model_logs/model_2_LSTM/20230221-132235\n",
            "Epoch 1/5\n",
            "215/215 [==============================] - 7s 22ms/step - loss: 0.3706 - accuracy: 0.8374 - val_loss: 0.4706 - val_accuracy: 0.7822\n",
            "Epoch 2/5\n",
            "215/215 [==============================] - 5s 23ms/step - loss: 0.2464 - accuracy: 0.9007 - val_loss: 0.4825 - val_accuracy: 0.7887\n",
            "Epoch 3/5\n",
            "215/215 [==============================] - 4s 20ms/step - loss: 0.1792 - accuracy: 0.9355 - val_loss: 0.5526 - val_accuracy: 0.7940\n",
            "Epoch 4/5\n",
            "215/215 [==============================] - 4s 20ms/step - loss: 0.1372 - accuracy: 0.9496 - val_loss: 0.6109 - val_accuracy: 0.7795\n",
            "Epoch 5/5\n",
            "215/215 [==============================] - 5s 22ms/step - loss: 0.1101 - accuracy: 0.9634 - val_loss: 0.6298 - val_accuracy: 0.7808\n"
          ]
        }
      ]
    },
    {
      "cell_type": "code",
      "source": [
        "model_2_pred_probs = model_2.predict(val_sentences)\n",
        "model_2_pred_probs[:10]"
      ],
      "metadata": {
        "colab": {
          "base_uri": "https://localhost:8080/"
        },
        "id": "9y_xVnZNU4j7",
        "outputId": "713a41a8-b50b-4d4f-8fe7-73bb917cd949"
      },
      "execution_count": null,
      "outputs": [
        {
          "output_type": "stream",
          "name": "stdout",
          "text": [
            "24/24 [==============================] - 0s 4ms/step\n"
          ]
        },
        {
          "output_type": "execute_result",
          "data": {
            "text/plain": [
              "array([[0.07352471],\n",
              "       [0.92235404],\n",
              "       [0.99798083],\n",
              "       [0.03779572],\n",
              "       [0.01978632],\n",
              "       [0.9948504 ],\n",
              "       [0.41062474],\n",
              "       [0.9992606 ],\n",
              "       [0.9991757 ],\n",
              "       [0.27635357]], dtype=float32)"
            ]
          },
          "metadata": {},
          "execution_count": 61
        }
      ]
    },
    {
      "cell_type": "code",
      "source": [
        "model_2_predict = np.round(tf.squeeze(model_2_pred_probs))\n",
        "model_2_predict[:10]"
      ],
      "metadata": {
        "colab": {
          "base_uri": "https://localhost:8080/"
        },
        "id": "9f3HBVNNVF6w",
        "outputId": "a335ff78-53d4-43cf-a5be-7b72798daeac"
      },
      "execution_count": null,
      "outputs": [
        {
          "output_type": "execute_result",
          "data": {
            "text/plain": [
              "array([0., 1., 1., 0., 0., 1., 0., 1., 1., 0.], dtype=float32)"
            ]
          },
          "metadata": {},
          "execution_count": 62
        }
      ]
    },
    {
      "cell_type": "code",
      "source": [
        "model_2_results = hp.calculate_results(val_labels,model_2_predict)\n",
        "model_2_results"
      ],
      "metadata": {
        "colab": {
          "base_uri": "https://localhost:8080/"
        },
        "id": "8km5k1-4VRlU",
        "outputId": "47d2cb60-53c9-427e-9e79-b723113374d7"
      },
      "execution_count": null,
      "outputs": [
        {
          "output_type": "execute_result",
          "data": {
            "text/plain": [
              "{'accuracy': 78.08398950131233,\n",
              " 'precision': 0.7861251265484451,\n",
              " 'recall': 0.7808398950131233,\n",
              " 'f1': 0.7775280856169867}"
            ]
          },
          "metadata": {},
          "execution_count": 63
        }
      ]
    },
    {
      "cell_type": "code",
      "source": [
        "baseline_result"
      ],
      "metadata": {
        "colab": {
          "base_uri": "https://localhost:8080/"
        },
        "id": "_GVO3MITViwD",
        "outputId": "eabf6cf6-386e-4659-e4af-ded588b977d7"
      },
      "execution_count": null,
      "outputs": [
        {
          "output_type": "execute_result",
          "data": {
            "text/plain": [
              "{'accuracy': 79.26509186351706,\n",
              " 'precision': 0.8111390004213173,\n",
              " 'recall': 0.7926509186351706,\n",
              " 'f1': 0.7862189758049549}"
            ]
          },
          "metadata": {},
          "execution_count": 64
        }
      ]
    },
    {
      "cell_type": "markdown",
      "source": [
        "# Model 3: GRU - Gated Recurent Units\n",
        "\n",
        "Podobny do LSTM - ma udpate gate, która mówi jakie dane z input wziąć i reset gate, która mówi o tym jakie stare zapomnieć... Ma mniej parametrów, jest nieco szybsza\n"
      ],
      "metadata": {
        "id": "omWpV-AOVxp4"
      }
    },
    {
      "cell_type": "code",
      "source": [
        "from tensorflow.keras import layers\n",
        "inputs = layers.Input(shape=(1,),dtype=\"string\")\n",
        "x = text_vectorizer(inputs)\n",
        "x = embedded_layer(x)\n",
        "x = layers.GRU(units=64)(x) # tu to samo z return_sequences na True jak chcemy iles layers\n",
        "x = layers.Dense(64,activation=\"relu\")(x)\n",
        "outputs = layers.Dense(1, activation=\"sigmoid\")(x)\n",
        "model_3 = tf.keras.Model(inputs,outputs,name=\"model_3_GRU\")\n"
      ],
      "metadata": {
        "id": "U8JygAvCZ-p7"
      },
      "execution_count": null,
      "outputs": []
    },
    {
      "cell_type": "code",
      "source": [
        "model_3.summary()"
      ],
      "metadata": {
        "colab": {
          "base_uri": "https://localhost:8080/"
        },
        "id": "i1arnjFcbIzq",
        "outputId": "3dd00b78-7026-45ac-f96d-436bb20bffa8"
      },
      "execution_count": null,
      "outputs": [
        {
          "output_type": "stream",
          "name": "stdout",
          "text": [
            "Model: \"model_3_GRU\"\n",
            "_________________________________________________________________\n",
            " Layer (type)                Output Shape              Param #   \n",
            "=================================================================\n",
            " input_4 (InputLayer)        [(None, 1)]               0         \n",
            "                                                                 \n",
            " text_vectorization_1 (TextV  (None, 15)               0         \n",
            " ectorization)                                                   \n",
            "                                                                 \n",
            " embedding (Embedding)       (None, 15, 128)           1280000   \n",
            "                                                                 \n",
            " gru (GRU)                   (None, 64)                37248     \n",
            "                                                                 \n",
            " dense_4 (Dense)             (None, 64)                4160      \n",
            "                                                                 \n",
            " dense_5 (Dense)             (None, 1)                 65        \n",
            "                                                                 \n",
            "=================================================================\n",
            "Total params: 1,321,473\n",
            "Trainable params: 1,321,473\n",
            "Non-trainable params: 0\n",
            "_________________________________________________________________\n"
          ]
        }
      ]
    },
    {
      "cell_type": "code",
      "source": [
        "#Compile model\n",
        "model_3.compile(loss=\"binary_crossentropy\",\n",
        "                optimizer=tf.keras.optimizers.Adam(),\n",
        "                metrics=[\"accuracy\"])\n"
      ],
      "metadata": {
        "id": "Cvu5XpCabNck"
      },
      "execution_count": null,
      "outputs": []
    },
    {
      "cell_type": "code",
      "source": [
        "#Fit the model \n",
        "history_3 = model_3.fit(train_sentences,\n",
        "                        train_labels,\n",
        "                        epochs=5,\n",
        "                        validation_data=(val_sentences,val_labels),\n",
        "                        callbacks=[hp.create_tensorboard_callback(SAVE_DIR,\n",
        "                                                                  \"model_3_GRU\")])"
      ],
      "metadata": {
        "colab": {
          "base_uri": "https://localhost:8080/"
        },
        "id": "kP0gb8sgbYkm",
        "outputId": "b929d2a7-4e51-408b-c5c7-ed735d352198"
      },
      "execution_count": null,
      "outputs": [
        {
          "output_type": "stream",
          "name": "stdout",
          "text": [
            "Saving TensorBoard log files to: model_logs/model_3_GRU/20230221-132301\n",
            "Epoch 1/5\n",
            "215/215 [==============================] - 7s 25ms/step - loss: 0.2086 - accuracy: 0.9162 - val_loss: 0.6328 - val_accuracy: 0.7730\n",
            "Epoch 2/5\n",
            "215/215 [==============================] - 4s 20ms/step - loss: 0.1012 - accuracy: 0.9657 - val_loss: 0.8358 - val_accuracy: 0.7769\n",
            "Epoch 3/5\n",
            "215/215 [==============================] - 4s 21ms/step - loss: 0.0788 - accuracy: 0.9711 - val_loss: 0.8890 - val_accuracy: 0.7677\n",
            "Epoch 4/5\n",
            "215/215 [==============================] - 5s 22ms/step - loss: 0.0579 - accuracy: 0.9761 - val_loss: 1.2944 - val_accuracy: 0.7625\n",
            "Epoch 5/5\n",
            "215/215 [==============================] - 4s 20ms/step - loss: 0.0514 - accuracy: 0.9766 - val_loss: 1.5008 - val_accuracy: 0.7717\n"
          ]
        }
      ]
    },
    {
      "cell_type": "code",
      "source": [
        "#Make predictions\n",
        "model_3_predict_probs = model_3.predict(val_sentences)\n",
        "model_3_predict_probs[:10]"
      ],
      "metadata": {
        "colab": {
          "base_uri": "https://localhost:8080/"
        },
        "id": "1LjkrHmVbqYV",
        "outputId": "4df2c581-9498-4d9d-eab2-81a4ab77e369"
      },
      "execution_count": null,
      "outputs": [
        {
          "output_type": "stream",
          "name": "stdout",
          "text": [
            "24/24 [==============================] - 0s 4ms/step\n"
          ]
        },
        {
          "output_type": "execute_result",
          "data": {
            "text/plain": [
              "array([[6.9345915e-05],\n",
              "       [7.1375555e-01],\n",
              "       [9.9992245e-01],\n",
              "       [6.7050792e-03],\n",
              "       [1.3368243e-05],\n",
              "       [9.9951720e-01],\n",
              "       [2.8615621e-01],\n",
              "       [9.9998277e-01],\n",
              "       [9.9998957e-01],\n",
              "       [4.8242185e-01]], dtype=float32)"
            ]
          },
          "metadata": {},
          "execution_count": 69
        }
      ]
    },
    {
      "cell_type": "code",
      "source": [
        "model_3_predicts = tf.squeeze(tf.round(model_3_predict_probs))\n",
        "model_3_predicts[:10]"
      ],
      "metadata": {
        "colab": {
          "base_uri": "https://localhost:8080/"
        },
        "id": "YW-gEXdNdqb-",
        "outputId": "a05f8253-6ef8-439b-f5e2-dbdaf00187a5"
      },
      "execution_count": null,
      "outputs": [
        {
          "output_type": "execute_result",
          "data": {
            "text/plain": [
              "<tf.Tensor: shape=(10,), dtype=float32, numpy=array([0., 1., 1., 0., 0., 1., 0., 1., 1., 0.], dtype=float32)>"
            ]
          },
          "metadata": {},
          "execution_count": 70
        }
      ]
    },
    {
      "cell_type": "code",
      "source": [
        "model_3_results = hp.calculate_results(val_labels,model_3_predicts)\n",
        "model_3_results"
      ],
      "metadata": {
        "colab": {
          "base_uri": "https://localhost:8080/"
        },
        "id": "tPHFDolMd3xW",
        "outputId": "7148d8b3-3a09-4671-c44b-0e49489bdfce"
      },
      "execution_count": null,
      "outputs": [
        {
          "output_type": "execute_result",
          "data": {
            "text/plain": [
              "{'accuracy': 77.16535433070865,\n",
              " 'precision': 0.7791293682827463,\n",
              " 'recall': 0.7716535433070866,\n",
              " 'f1': 0.7672567495577469}"
            ]
          },
          "metadata": {},
          "execution_count": 71
        }
      ]
    },
    {
      "cell_type": "markdown",
      "source": [
        "# Model 4: Bidirectional RNN"
      ],
      "metadata": {
        "id": "yW3-GM1leCeF"
      }
    },
    {
      "cell_type": "code",
      "source": [
        "#Build a bidirectional RNN in tensorflow\n",
        "from tensorflow.keras import layers\n",
        "inputs =  layers.Input(shape=(1,), dtype=\"string\")\n",
        "x = text_vectorizer(inputs)\n",
        "x = embedded_layer(x)\n",
        "#x = layers.Bidirectional(layers.LSTM(64,return_sequences=True))(x)\n",
        "#print(x.shape)\n",
        "x = layers.Bidirectional(layers.GRU(64))(x)\n",
        "print(x.shape)\n",
        "outputs = layers.Dense(1,activation=\"sigmoid\")(x)\n",
        "model_4 = tf.keras.Model(inputs,outputs,name=\"model_4_bidirectional\")"
      ],
      "metadata": {
        "colab": {
          "base_uri": "https://localhost:8080/"
        },
        "id": "hfztkhwOfIg7",
        "outputId": "31968930-e93a-40ff-d64d-321aa9ebb67b"
      },
      "execution_count": null,
      "outputs": [
        {
          "output_type": "stream",
          "name": "stdout",
          "text": [
            "(None, 128)\n"
          ]
        }
      ]
    },
    {
      "cell_type": "code",
      "source": [
        "#Shape jest 128 zamiast 64, czyli 2krotnie większy bo idzie w drugą stronę jescze to samo czyli 2 razy więcej parametrów (weights, biases)\n",
        "model_4.summary()"
      ],
      "metadata": {
        "colab": {
          "base_uri": "https://localhost:8080/"
        },
        "id": "9koPNDJmytTy",
        "outputId": "1e093813-1d46-4484-c1f3-f70f7301fda9"
      },
      "execution_count": null,
      "outputs": [
        {
          "output_type": "stream",
          "name": "stdout",
          "text": [
            "Model: \"model_4_bidirectional\"\n",
            "_________________________________________________________________\n",
            " Layer (type)                Output Shape              Param #   \n",
            "=================================================================\n",
            " input_5 (InputLayer)        [(None, 1)]               0         \n",
            "                                                                 \n",
            " text_vectorization_1 (TextV  (None, 15)               0         \n",
            " ectorization)                                                   \n",
            "                                                                 \n",
            " embedding (Embedding)       (None, 15, 128)           1280000   \n",
            "                                                                 \n",
            " bidirectional (Bidirectiona  (None, 128)              74496     \n",
            " l)                                                              \n",
            "                                                                 \n",
            " dense_6 (Dense)             (None, 1)                 129       \n",
            "                                                                 \n",
            "=================================================================\n",
            "Total params: 1,354,625\n",
            "Trainable params: 1,354,625\n",
            "Non-trainable params: 0\n",
            "_________________________________________________________________\n"
          ]
        }
      ]
    },
    {
      "cell_type": "code",
      "source": [
        "model_4.compile(loss=\"binary_crossentropy\",\n",
        "                optimizer=tf.keras.optimizers.Adam(),\n",
        "                metrics=[\"accuracy\"])"
      ],
      "metadata": {
        "id": "AlDhjGsKzbIo"
      },
      "execution_count": null,
      "outputs": []
    },
    {
      "cell_type": "code",
      "source": [
        "history_4 = model_4.fit(train_sentences,\n",
        "                        train_labels,\n",
        "                        epochs=5,\n",
        "                        validation_data=(val_sentences,val_labels),\n",
        "                        callbacks=[hp.create_tensorboard_callback(SAVE_DIR,\n",
        "                                                                  \"model_4_BIDIR\")])"
      ],
      "metadata": {
        "colab": {
          "base_uri": "https://localhost:8080/"
        },
        "id": "ODnps4Ox0Bn7",
        "outputId": "1219618e-7d66-47f5-a4c2-e95db9aa7325"
      },
      "execution_count": null,
      "outputs": [
        {
          "output_type": "stream",
          "name": "stdout",
          "text": [
            "Saving TensorBoard log files to: model_logs/model_4_BIDIR/20230221-132327\n",
            "Epoch 1/5\n",
            "215/215 [==============================] - 10s 30ms/step - loss: 0.1465 - accuracy: 0.9391 - val_loss: 0.7729 - val_accuracy: 0.7703\n",
            "Epoch 2/5\n",
            "215/215 [==============================] - 6s 28ms/step - loss: 0.0706 - accuracy: 0.9721 - val_loss: 0.9395 - val_accuracy: 0.7664\n",
            "Epoch 3/5\n",
            "215/215 [==============================] - 5s 25ms/step - loss: 0.0553 - accuracy: 0.9750 - val_loss: 1.1208 - val_accuracy: 0.7651\n",
            "Epoch 4/5\n",
            "215/215 [==============================] - 6s 28ms/step - loss: 0.0503 - accuracy: 0.9762 - val_loss: 1.1381 - val_accuracy: 0.7743\n",
            "Epoch 5/5\n",
            "215/215 [==============================] - 6s 26ms/step - loss: 0.0439 - accuracy: 0.9788 - val_loss: 1.3532 - val_accuracy: 0.7651\n"
          ]
        }
      ]
    },
    {
      "cell_type": "code",
      "source": [
        "model_4_predprobs = model_4.predict(val_sentences)\n",
        "model_4_predprobs[:10]"
      ],
      "metadata": {
        "colab": {
          "base_uri": "https://localhost:8080/"
        },
        "id": "qKElcv4M0S2c",
        "outputId": "e93924c1-3906-417c-e658-c55dd0231f31"
      },
      "execution_count": null,
      "outputs": [
        {
          "output_type": "stream",
          "name": "stdout",
          "text": [
            "24/24 [==============================] - 1s 5ms/step\n"
          ]
        },
        {
          "output_type": "execute_result",
          "data": {
            "text/plain": [
              "array([[6.1753608e-04],\n",
              "       [8.1297839e-01],\n",
              "       [9.9988228e-01],\n",
              "       [7.2453462e-02],\n",
              "       [6.0965587e-05],\n",
              "       [9.9843299e-01],\n",
              "       [9.9632555e-01],\n",
              "       [9.9996817e-01],\n",
              "       [9.9994516e-01],\n",
              "       [9.9927300e-01]], dtype=float32)"
            ]
          },
          "metadata": {},
          "execution_count": 76
        }
      ]
    },
    {
      "cell_type": "code",
      "source": [
        "model_4_predicts = tf.squeeze(tf.round(model_4_predprobs))\n",
        "model_4_predicts[:10]"
      ],
      "metadata": {
        "colab": {
          "base_uri": "https://localhost:8080/"
        },
        "id": "8pXoD7G12F8C",
        "outputId": "b571f0d9-16a7-4f0b-8bc2-411757815cd8"
      },
      "execution_count": null,
      "outputs": [
        {
          "output_type": "execute_result",
          "data": {
            "text/plain": [
              "<tf.Tensor: shape=(10,), dtype=float32, numpy=array([0., 1., 1., 0., 0., 1., 1., 1., 1., 1.], dtype=float32)>"
            ]
          },
          "metadata": {},
          "execution_count": 77
        }
      ]
    },
    {
      "cell_type": "code",
      "source": [
        "model_4_results = hp.calculate_results(val_labels,model_4_predicts)\n",
        "model_4_results"
      ],
      "metadata": {
        "colab": {
          "base_uri": "https://localhost:8080/"
        },
        "id": "XPaKOs3O2MaH",
        "outputId": "cb1287dd-cd02-4d33-b722-84e391bf1974"
      },
      "execution_count": null,
      "outputs": [
        {
          "output_type": "execute_result",
          "data": {
            "text/plain": [
              "{'accuracy': 76.50918635170603,\n",
              " 'precision': 0.7647051291186578,\n",
              " 'recall': 0.7650918635170604,\n",
              " 'f1': 0.7645141685417182}"
            ]
          },
          "metadata": {},
          "execution_count": 78
        }
      ]
    },
    {
      "cell_type": "code",
      "source": [
        "model_3_results"
      ],
      "metadata": {
        "colab": {
          "base_uri": "https://localhost:8080/"
        },
        "id": "8n8unqng2fjG",
        "outputId": "83c4c316-293d-4c2d-9216-fda2e072a146"
      },
      "execution_count": null,
      "outputs": [
        {
          "output_type": "execute_result",
          "data": {
            "text/plain": [
              "{'accuracy': 77.16535433070865,\n",
              " 'precision': 0.7791293682827463,\n",
              " 'recall': 0.7716535433070866,\n",
              " 'f1': 0.7672567495577469}"
            ]
          },
          "metadata": {},
          "execution_count": 79
        }
      ]
    },
    {
      "cell_type": "code",
      "source": [
        "baseline_result"
      ],
      "metadata": {
        "colab": {
          "base_uri": "https://localhost:8080/"
        },
        "id": "jDORwXIO2j-W",
        "outputId": "9324bb68-73d5-4861-99cc-954c696f00b3"
      },
      "execution_count": null,
      "outputs": [
        {
          "output_type": "execute_result",
          "data": {
            "text/plain": [
              "{'accuracy': 79.26509186351706,\n",
              " 'precision': 0.8111390004213173,\n",
              " 'recall': 0.7926509186351706,\n",
              " 'f1': 0.7862189758049549}"
            ]
          },
          "metadata": {},
          "execution_count": 80
        }
      ]
    },
    {
      "cell_type": "markdown",
      "source": [
        "#Convolutional networks for Text (and other types of sequences)\n",
        "\n",
        "Klasyczna sruktura Conv1D z tekstem:\n",
        "\n",
        "- Inputs (text) -> Tokenization -> Embedding -> Layer(s) -> Conv1D layer(s) + pooling -> Outputs (class probabilities)"
      ],
      "metadata": {
        "id": "lfOXd3h_2lml"
      }
    },
    {
      "cell_type": "markdown",
      "source": [
        "#Model 5 Conv1D"
      ],
      "metadata": {
        "id": "xEPiRyXsVcB1"
      }
    },
    {
      "cell_type": "markdown",
      "source": [
        "### **WAŻNE**\n",
        "\n",
        "Max pool bierze jedną wartość z tych w naszym przypadku 15 wartosci i ją zostawia.\n",
        "To 15 to ilość wyrazów w jednym zdaniu i spośród tych 15 wyrazów wybiera max i zostawia, dzięki temu z (1,15,32) shape zostanie (1,32)\n",
        "\n",
        "- Jak kernel_size=5 to patrzy na 5 wyrazów jednocześnie "
      ],
      "metadata": {
        "id": "WCUevIm1V8b5"
      }
    },
    {
      "cell_type": "code",
      "source": [
        "from tensorflow.keras import layers\n",
        "\n",
        "embedded_text = embedded_layer(text_vectorizer([\"Some sequence for testing purposes.\"]))\n",
        "\n",
        "Conv_1D_layer = layers.Conv1D(filters=32,\n",
        "                              kernel_size=5,\n",
        "                              strides=1,\n",
        "                              padding='same',\n",
        "                              activation=\"relu\")\n",
        "Conv_1D_text = Conv_1D_layer(embedded_text)\n",
        "\n",
        "pooling_layer = layers.GlobalMaxPool1D()\n",
        "pooling_text = pooling_layer(Conv_1D_text)\n",
        "\n",
        "embedded_text.shape, Conv_1D_text.shape, pooling_text.shape"
      ],
      "metadata": {
        "colab": {
          "base_uri": "https://localhost:8080/"
        },
        "id": "QydU4wllYqJn",
        "outputId": "e4960c1e-defe-4732-fab1-b368b1ea6652"
      },
      "execution_count": null,
      "outputs": [
        {
          "output_type": "execute_result",
          "data": {
            "text/plain": [
              "(TensorShape([1, 15, 128]), TensorShape([1, 15, 32]), TensorShape([1, 32]))"
            ]
          },
          "metadata": {},
          "execution_count": 81
        }
      ]
    },
    {
      "cell_type": "code",
      "source": [
        "pooling_text"
      ],
      "metadata": {
        "colab": {
          "base_uri": "https://localhost:8080/"
        },
        "id": "uG1F0wHEcIHS",
        "outputId": "1cf36344-b7bc-43ff-dda9-05e24ae269d5"
      },
      "execution_count": null,
      "outputs": [
        {
          "output_type": "execute_result",
          "data": {
            "text/plain": [
              "<tf.Tensor: shape=(1, 32), dtype=float32, numpy=\n",
              "array([[0.07846829, 0.07198178, 0.10898544, 0.07853299, 0.09627344,\n",
              "        0.05250981, 0.00517499, 0.00702675, 0.03362403, 0.04265642,\n",
              "        0.13638836, 0.05281615, 0.1066317 , 0.02597601, 0.03444617,\n",
              "        0.04352522, 0.02577147, 0.08870839, 0.08082615, 0.08533821,\n",
              "        0.10611799, 0.18667044, 0.10324254, 0.04865126, 0.03348124,\n",
              "        0.07228629, 0.17203467, 0.08636199, 0.02241781, 0.11850996,\n",
              "        0.07491378, 0.129221  ]], dtype=float32)>"
            ]
          },
          "metadata": {},
          "execution_count": 82
        }
      ]
    },
    {
      "cell_type": "code",
      "source": [
        "Conv_1D_text[0][0]"
      ],
      "metadata": {
        "colab": {
          "base_uri": "https://localhost:8080/"
        },
        "id": "vWqA1O84chyx",
        "outputId": "70f97831-2302-45da-c59d-fa84b0cb107b"
      },
      "execution_count": null,
      "outputs": [
        {
          "output_type": "execute_result",
          "data": {
            "text/plain": [
              "<tf.Tensor: shape=(32,), dtype=float32, numpy=\n",
              "array([0.        , 0.07198178, 0.04357082, 0.01517786, 0.        ,\n",
              "       0.        , 0.        , 0.        , 0.        , 0.04265642,\n",
              "       0.02044809, 0.        , 0.        , 0.00877066, 0.03444617,\n",
              "       0.        , 0.        , 0.03990887, 0.05691613, 0.        ,\n",
              "       0.00294167, 0.        , 0.03270312, 0.        , 0.        ,\n",
              "       0.        , 0.        , 0.        , 0.02241781, 0.        ,\n",
              "       0.01900829, 0.02303361], dtype=float32)>"
            ]
          },
          "metadata": {},
          "execution_count": 83
        }
      ]
    },
    {
      "cell_type": "code",
      "source": [
        "Conv_1D_text[0]"
      ],
      "metadata": {
        "colab": {
          "base_uri": "https://localhost:8080/"
        },
        "id": "6B95YAvrcmFR",
        "outputId": "66a9caf4-59dd-4b15-a1d8-eee0a7078a14"
      },
      "execution_count": null,
      "outputs": [
        {
          "output_type": "execute_result",
          "data": {
            "text/plain": [
              "<tf.Tensor: shape=(15, 32), dtype=float32, numpy=\n",
              "array([[0.        , 0.07198178, 0.04357082, 0.01517786, 0.        ,\n",
              "        0.        , 0.        , 0.        , 0.        , 0.04265642,\n",
              "        0.02044809, 0.        , 0.        , 0.00877066, 0.03444617,\n",
              "        0.        , 0.        , 0.03990887, 0.05691613, 0.        ,\n",
              "        0.00294167, 0.        , 0.03270312, 0.        , 0.        ,\n",
              "        0.        , 0.        , 0.        , 0.02241781, 0.        ,\n",
              "        0.01900829, 0.02303361],\n",
              "       [0.06341993, 0.        , 0.02583263, 0.00568129, 0.07814478,\n",
              "        0.05250981, 0.        , 0.        , 0.        , 0.        ,\n",
              "        0.07623146, 0.        , 0.1066317 , 0.        , 0.        ,\n",
              "        0.04352522, 0.        , 0.0044624 , 0.        , 0.        ,\n",
              "        0.        , 0.06380562, 0.04228031, 0.02455088, 0.        ,\n",
              "        0.        , 0.17203467, 0.        , 0.0012294 , 0.08423183,\n",
              "        0.        , 0.129221  ],\n",
              "       [0.        , 0.03493122, 0.09112807, 0.        , 0.03127097,\n",
              "        0.01995609, 0.        , 0.        , 0.        , 0.00465532,\n",
              "        0.1018227 , 0.        , 0.        , 0.        , 0.        ,\n",
              "        0.        , 0.02577147, 0.        , 0.        , 0.        ,\n",
              "        0.        , 0.03478318, 0.0233461 , 0.04053628, 0.        ,\n",
              "        0.07228629, 0.03163704, 0.04951536, 0.        , 0.        ,\n",
              "        0.        , 0.08983323],\n",
              "       [0.        , 0.        , 0.        , 0.07853299, 0.02939821,\n",
              "        0.0315843 , 0.        , 0.        , 0.03362403, 0.        ,\n",
              "        0.03219062, 0.03936062, 0.0715549 , 0.00844805, 0.        ,\n",
              "        0.        , 0.        , 0.07279523, 0.        , 0.07226552,\n",
              "        0.10611799, 0.01150391, 0.10324254, 0.04865126, 0.03348124,\n",
              "        0.        , 0.0998538 , 0.08636199, 0.        , 0.        ,\n",
              "        0.07491378, 0.00909333],\n",
              "       [0.07846829, 0.04981745, 0.10898544, 0.        , 0.        ,\n",
              "        0.        , 0.        , 0.00702675, 0.        , 0.02241058,\n",
              "        0.12159362, 0.00710379, 0.        , 0.        , 0.        ,\n",
              "        0.        , 0.        , 0.08870839, 0.        , 0.08533821,\n",
              "        0.        , 0.18667044, 0.        , 0.        , 0.        ,\n",
              "        0.02900911, 0.00790953, 0.        , 0.        , 0.11488006,\n",
              "        0.        , 0.06739879],\n",
              "       [0.        , 0.        , 0.        , 0.        , 0.09627344,\n",
              "        0.        , 0.        , 0.        , 0.        , 0.        ,\n",
              "        0.1128235 , 0.05281615, 0.        , 0.        , 0.        ,\n",
              "        0.        , 0.        , 0.05191182, 0.        , 0.04669296,\n",
              "        0.00346179, 0.        , 0.        , 0.00302975, 0.00832881,\n",
              "        0.        , 0.        , 0.00514529, 0.00969445, 0.07261682,\n",
              "        0.06308523, 0.01029167],\n",
              "       [0.        , 0.        , 0.04307636, 0.        , 0.02762107,\n",
              "        0.03018329, 0.        , 0.        , 0.00157254, 0.        ,\n",
              "        0.13527097, 0.03919588, 0.01163907, 0.        , 0.        ,\n",
              "        0.        , 0.        , 0.01816226, 0.03834239, 0.01827619,\n",
              "        0.03447691, 0.04532889, 0.        , 0.00344778, 0.        ,\n",
              "        0.        , 0.        , 0.        , 0.        , 0.11850996,\n",
              "        0.        , 0.        ],\n",
              "       [0.        , 0.        , 0.02928363, 0.        , 0.00464907,\n",
              "        0.03457233, 0.        , 0.        , 0.0006389 , 0.        ,\n",
              "        0.13638832, 0.03326168, 0.0249051 , 0.02204404, 0.        ,\n",
              "        0.        , 0.        , 0.02416604, 0.00517173, 0.04281952,\n",
              "        0.02099152, 0.06555562, 0.        , 0.02353139, 0.        ,\n",
              "        0.        , 0.        , 0.        , 0.        , 0.11309547,\n",
              "        0.        , 0.        ],\n",
              "       [0.        , 0.        , 0.02928363, 0.        , 0.00464907,\n",
              "        0.03457233, 0.        , 0.        , 0.0006389 , 0.        ,\n",
              "        0.13638832, 0.03326168, 0.0249051 , 0.02204404, 0.        ,\n",
              "        0.        , 0.        , 0.02416604, 0.00517173, 0.04281952,\n",
              "        0.02099152, 0.06555562, 0.        , 0.02353139, 0.        ,\n",
              "        0.        , 0.        , 0.        , 0.        , 0.11309547,\n",
              "        0.        , 0.        ],\n",
              "       [0.        , 0.        , 0.02928363, 0.        , 0.00464907,\n",
              "        0.03457233, 0.        , 0.        , 0.0006389 , 0.        ,\n",
              "        0.13638832, 0.03326168, 0.0249051 , 0.02204404, 0.        ,\n",
              "        0.        , 0.        , 0.02416604, 0.00517173, 0.04281952,\n",
              "        0.02099152, 0.06555562, 0.        , 0.02353139, 0.        ,\n",
              "        0.        , 0.        , 0.        , 0.        , 0.11309547,\n",
              "        0.        , 0.        ],\n",
              "       [0.        , 0.        , 0.02928363, 0.        , 0.00464907,\n",
              "        0.03457233, 0.        , 0.        , 0.0006389 , 0.        ,\n",
              "        0.13638832, 0.03326168, 0.0249051 , 0.02204404, 0.        ,\n",
              "        0.        , 0.        , 0.02416604, 0.00517173, 0.04281952,\n",
              "        0.02099152, 0.06555562, 0.        , 0.02353139, 0.        ,\n",
              "        0.        , 0.        , 0.        , 0.        , 0.11309547,\n",
              "        0.        , 0.        ],\n",
              "       [0.        , 0.        , 0.02928363, 0.        , 0.00464907,\n",
              "        0.03457233, 0.        , 0.        , 0.0006389 , 0.        ,\n",
              "        0.13638832, 0.03326168, 0.0249051 , 0.02204404, 0.        ,\n",
              "        0.        , 0.        , 0.02416604, 0.00517173, 0.04281952,\n",
              "        0.02099152, 0.06555562, 0.        , 0.02353139, 0.        ,\n",
              "        0.        , 0.        , 0.        , 0.        , 0.11309547,\n",
              "        0.        , 0.        ],\n",
              "       [0.        , 0.        , 0.02928363, 0.        , 0.00464905,\n",
              "        0.03457233, 0.        , 0.        , 0.00063889, 0.        ,\n",
              "        0.13638836, 0.03326168, 0.02490511, 0.02204405, 0.        ,\n",
              "        0.        , 0.        , 0.02416601, 0.00517175, 0.04281951,\n",
              "        0.02099155, 0.0655556 , 0.        , 0.02353139, 0.        ,\n",
              "        0.        , 0.        , 0.        , 0.        , 0.11309544,\n",
              "        0.        , 0.        ],\n",
              "       [0.0195805 , 0.        , 0.00602487, 0.        , 0.02161571,\n",
              "        0.04471551, 0.        , 0.        , 0.        , 0.        ,\n",
              "        0.09985562, 0.0395241 , 0.04715781, 0.02597601, 0.        ,\n",
              "        0.        , 0.        , 0.        , 0.00130242, 0.04679965,\n",
              "        0.        , 0.08183122, 0.        , 0.02690519, 0.        ,\n",
              "        0.        , 0.        , 0.        , 0.        , 0.08776759,\n",
              "        0.        , 0.        ],\n",
              "       [0.00967044, 0.        , 0.00403048, 0.        , 0.03235495,\n",
              "        0.0400133 , 0.00517499, 0.        , 0.00520198, 0.        ,\n",
              "        0.13120525, 0.03733131, 0.03720611, 0.01206063, 0.00065978,\n",
              "        0.        , 0.        , 0.        , 0.08082615, 0.        ,\n",
              "        0.00273313, 0.03519533, 0.        , 0.03411535, 0.        ,\n",
              "        0.        , 0.        , 0.        , 0.        , 0.07537936,\n",
              "        0.        , 0.        ]], dtype=float32)>"
            ]
          },
          "metadata": {},
          "execution_count": 84
        }
      ]
    },
    {
      "cell_type": "code",
      "source": [
        "#Buildin model_5 for Conv1D\n",
        "inputs = layers.Input(shape=(1,),dtype=tf.string)\n",
        "x = text_vectorizer(inputs)\n",
        "x = embedded_layer(x)\n",
        "x = layers.Conv1D(filters=64,\n",
        "                  kernel_size=5,\n",
        "                  strides=1,\n",
        "                  padding=\"same\",\n",
        "                  activation=\"relu\")(x)\n",
        "x = layers.GlobalMaxPool1D()(x)\n",
        "outputs=layers.Dense(1,activation=\"sigmoid\")(x)\n",
        "model_5=tf.keras.Model(inputs,outputs,name=\"model_5_CONV1D\")\n",
        "\n",
        "\n"
      ],
      "metadata": {
        "id": "m_r2uQHjct4E"
      },
      "execution_count": null,
      "outputs": []
    },
    {
      "cell_type": "code",
      "source": [
        "#Compile the model\n",
        "model_5.compile(loss=\"binary_crossentropy\",\n",
        "                optimizer=tf.keras.optimizers.Adam(),\n",
        "                metrics=[\"accuracy\"])\n",
        "#Get a summary\n",
        "model_5.summary()"
      ],
      "metadata": {
        "colab": {
          "base_uri": "https://localhost:8080/"
        },
        "id": "6iy9vtFnhjoP",
        "outputId": "adb2869f-ad9c-4e30-b4f5-b053479256d8"
      },
      "execution_count": null,
      "outputs": [
        {
          "output_type": "stream",
          "name": "stdout",
          "text": [
            "Model: \"model_5_CONV1D\"\n",
            "_________________________________________________________________\n",
            " Layer (type)                Output Shape              Param #   \n",
            "=================================================================\n",
            " input_6 (InputLayer)        [(None, 1)]               0         \n",
            "                                                                 \n",
            " text_vectorization_1 (TextV  (None, 15)               0         \n",
            " ectorization)                                                   \n",
            "                                                                 \n",
            " embedding (Embedding)       (None, 15, 128)           1280000   \n",
            "                                                                 \n",
            " conv1d_1 (Conv1D)           (None, 15, 64)            41024     \n",
            "                                                                 \n",
            " global_max_pooling1d_2 (Glo  (None, 64)               0         \n",
            " balMaxPooling1D)                                                \n",
            "                                                                 \n",
            " dense_7 (Dense)             (None, 1)                 65        \n",
            "                                                                 \n",
            "=================================================================\n",
            "Total params: 1,321,089\n",
            "Trainable params: 1,321,089\n",
            "Non-trainable params: 0\n",
            "_________________________________________________________________\n"
          ]
        }
      ]
    },
    {
      "cell_type": "code",
      "source": [
        "#fit the model\n",
        "model_5_history = model_5.fit(train_sentences,\n",
        "                              train_labels,\n",
        "                              epochs=5,\n",
        "                              validation_data=(val_sentences,val_labels),\n",
        "                              callbacks=[hp.create_tensorboard_callback(SAVE_DIR,\n",
        "                                                                        \"Conv1D\")])"
      ],
      "metadata": {
        "colab": {
          "base_uri": "https://localhost:8080/"
        },
        "id": "ZlCjXy2rjBFU",
        "outputId": "5eb23099-5a32-4718-9fc2-c9f29d3c57c0"
      },
      "execution_count": null,
      "outputs": [
        {
          "output_type": "stream",
          "name": "stdout",
          "text": [
            "Saving TensorBoard log files to: model_logs/Conv1D/20230221-132412\n",
            "Epoch 1/5\n",
            "215/215 [==============================] - 4s 17ms/step - loss: 0.1389 - accuracy: 0.9590 - val_loss: 0.8403 - val_accuracy: 0.7677\n",
            "Epoch 2/5\n",
            "215/215 [==============================] - 3s 14ms/step - loss: 0.0700 - accuracy: 0.9743 - val_loss: 0.9133 - val_accuracy: 0.7651\n",
            "Epoch 3/5\n",
            "215/215 [==============================] - 3s 14ms/step - loss: 0.0595 - accuracy: 0.9764 - val_loss: 1.0270 - val_accuracy: 0.7638\n",
            "Epoch 4/5\n",
            "215/215 [==============================] - 3s 14ms/step - loss: 0.0526 - accuracy: 0.9787 - val_loss: 1.0572 - val_accuracy: 0.7546\n",
            "Epoch 5/5\n",
            "215/215 [==============================] - 3s 15ms/step - loss: 0.0505 - accuracy: 0.9788 - val_loss: 1.0981 - val_accuracy: 0.7572\n"
          ]
        }
      ]
    },
    {
      "cell_type": "code",
      "source": [
        "#Make predictions\n",
        "model_5_pred_probs = model_5.predict(val_sentences)\n",
        "model_5_pred_probs[:10]"
      ],
      "metadata": {
        "colab": {
          "base_uri": "https://localhost:8080/"
        },
        "id": "-mq1Cgw9jcmV",
        "outputId": "ed38246a-d23e-40f9-f662-40a965791df4"
      },
      "execution_count": null,
      "outputs": [
        {
          "output_type": "stream",
          "name": "stdout",
          "text": [
            "24/24 [==============================] - 0s 2ms/step\n"
          ]
        },
        {
          "output_type": "execute_result",
          "data": {
            "text/plain": [
              "array([[2.4261922e-02],\n",
              "       [9.3539977e-01],\n",
              "       [9.9991763e-01],\n",
              "       [3.7989538e-02],\n",
              "       [1.5927564e-05],\n",
              "       [9.8276955e-01],\n",
              "       [9.7019237e-01],\n",
              "       [9.9992430e-01],\n",
              "       [9.9999744e-01],\n",
              "       [7.5674391e-01]], dtype=float32)"
            ]
          },
          "metadata": {},
          "execution_count": 88
        }
      ]
    },
    {
      "cell_type": "code",
      "source": [
        "#Convert model 5 pred probs to labels\n",
        "model_5_preds = tf.squeeze(tf.round(model_5_pred_probs))\n",
        "model_5_preds[:10]"
      ],
      "metadata": {
        "colab": {
          "base_uri": "https://localhost:8080/"
        },
        "id": "TQ3urBrMjqEV",
        "outputId": "fb82d6bf-a8fa-4792-e2ae-1c0ebb6787e9"
      },
      "execution_count": null,
      "outputs": [
        {
          "output_type": "execute_result",
          "data": {
            "text/plain": [
              "<tf.Tensor: shape=(10,), dtype=float32, numpy=array([0., 1., 1., 0., 0., 1., 1., 1., 1., 1.], dtype=float32)>"
            ]
          },
          "metadata": {},
          "execution_count": 89
        }
      ]
    },
    {
      "cell_type": "code",
      "source": [
        "model_5_results = hp.calculate_results(val_labels,\n",
        "                                       model_5_preds)\n",
        "model_5_results"
      ],
      "metadata": {
        "colab": {
          "base_uri": "https://localhost:8080/"
        },
        "id": "Ukipo3Qcjwmd",
        "outputId": "312da7bb-b930-4344-c7e3-66681fd5ec6c"
      },
      "execution_count": null,
      "outputs": [
        {
          "output_type": "execute_result",
          "data": {
            "text/plain": [
              "{'accuracy': 75.7217847769029,\n",
              " 'precision': 0.7581583214678428,\n",
              " 'recall': 0.7572178477690289,\n",
              " 'f1': 0.755217155129904}"
            ]
          },
          "metadata": {},
          "execution_count": 90
        }
      ]
    },
    {
      "cell_type": "code",
      "source": [
        "baseline_result"
      ],
      "metadata": {
        "colab": {
          "base_uri": "https://localhost:8080/"
        },
        "id": "WmngrhrNj4pA",
        "outputId": "db01112a-036b-4460-c528-20a8eb81e7c3"
      },
      "execution_count": null,
      "outputs": [
        {
          "output_type": "execute_result",
          "data": {
            "text/plain": [
              "{'accuracy': 79.26509186351706,\n",
              " 'precision': 0.8111390004213173,\n",
              " 'recall': 0.7926509186351706,\n",
              " 'f1': 0.7862189758049549}"
            ]
          },
          "metadata": {},
          "execution_count": 91
        }
      ]
    },
    {
      "cell_type": "markdown",
      "source": [
        "## Model 6: Transfer learning in Natural Language processing - feature Extractor\n",
        "\n",
        "- USE from tensorflowHub: https://tfhub.dev/google/collections/universal-sentence-encoder/1\n"
      ],
      "metadata": {
        "id": "dU6t2qVYj53P"
      }
    },
    {
      "cell_type": "code",
      "source": [
        "import tensorflow_hub as hub\n",
        "embed = hub.load(\"https://tfhub.dev/google/universal-sentence-encoder/4\")\n",
        "embed_samples = embed([\"Cos tam jest tu \", \"When you can the universal sentence encoder on a sentence, it is nice\"])\n",
        "print(embed_samples[0][:50])"
      ],
      "metadata": {
        "colab": {
          "base_uri": "https://localhost:8080/"
        },
        "id": "csNmqt_GkNJW",
        "outputId": "dc981381-e178-45b1-e00a-12aa1cf54861"
      },
      "execution_count": null,
      "outputs": [
        {
          "output_type": "stream",
          "name": "stdout",
          "text": [
            "tf.Tensor(\n",
            "[ 0.02301363 -0.05784905 -0.01954926  0.01570043  0.08097009  0.00321706\n",
            " -0.04755097 -0.07479252 -0.04965644 -0.00220098  0.01474864  0.0471207\n",
            " -0.05042075  0.03861337 -0.03970479 -0.07660559  0.03279081  0.02729708\n",
            "  0.02302069 -0.03725989 -0.06205907 -0.02771713  0.0029624   0.00757279\n",
            "  0.04343591 -0.05144028 -0.05154376 -0.08140069 -0.04901499 -0.02197866\n",
            "  0.00510144 -0.01525923 -0.05342756 -0.07022043  0.01554425 -0.03442787\n",
            "  0.03450677  0.03335502 -0.03401287 -0.00296862  0.02412598 -0.0556336\n",
            " -0.00829798  0.06195008  0.03804887 -0.00708972 -0.06233815 -0.00436053\n",
            "  0.02668559  0.03314091], shape=(50,), dtype=float32)\n"
          ]
        }
      ]
    },
    {
      "cell_type": "code",
      "source": [
        "embed_samples.shape, embed_samples[0].shape, embed_samples.shape[1]"
      ],
      "metadata": {
        "colab": {
          "base_uri": "https://localhost:8080/"
        },
        "id": "XCBPUwoenxeb",
        "outputId": "c765ea37-9772-434c-aa0c-6dee436a3afd"
      },
      "execution_count": null,
      "outputs": [
        {
          "output_type": "execute_result",
          "data": {
            "text/plain": [
              "(TensorShape([2, 512]), TensorShape([512]), 512)"
            ]
          },
          "metadata": {},
          "execution_count": 93
        }
      ]
    },
    {
      "cell_type": "code",
      "source": [
        "#Build model\n",
        "sequence_encoder_layer = hub.KerasLayer(\"https://tfhub.dev/google/universal-sentence-encoder/4\",\n",
        "                                  input_shape=[],\n",
        "                                  dtype=tf.string,\n",
        "                                  trainable=False,\n",
        "                                  name=\"USE\")\n",
        "model_6 = tf.keras.Sequential([\n",
        "      sequence_encoder_layer,\n",
        "      layers.Dense(64,activation=\"relu\"),\n",
        "      layers.Dense(1,activation=\"sigmoid\")\n",
        "      \n",
        "],name=\"model_6_USE\")\n",
        "\n",
        "#Compile model\n",
        "model_6.compile(loss=\"binary_crossentropy\",\n",
        "                optimizer=tf.keras.optimizers.Adam(),\n",
        "                metrics=[\"accuracy\"])"
      ],
      "metadata": {
        "colab": {
          "base_uri": "https://localhost:8080/"
        },
        "id": "t6Vd_3c5oK9H",
        "outputId": "df8c31fb-ee23-4a69-b292-f8f4ab7bc9a5"
      },
      "execution_count": null,
      "outputs": [
        {
          "output_type": "stream",
          "name": "stderr",
          "text": [
            "WARNING:tensorflow:Please fix your imports. Module tensorflow.python.training.tracking.data_structures has been moved to tensorflow.python.trackable.data_structures. The old module will be deleted in version 2.11.\n",
            "WARNING:tensorflow:From /usr/local/lib/python3.8/dist-packages/tensorflow/python/autograph/pyct/static_analysis/liveness.py:83: Analyzer.lamba_check (from tensorflow.python.autograph.pyct.static_analysis.liveness) is deprecated and will be removed after 2023-09-23.\n",
            "Instructions for updating:\n",
            "Lambda fuctions will be no more assumed to be used in the statement where they are used, or at least in the same block. https://github.com/tensorflow/tensorflow/issues/56089\n"
          ]
        }
      ]
    },
    {
      "cell_type": "code",
      "source": [
        "#Fit the model on top of USE pretrained embeddings\n",
        "model_6_history = model_6.fit(train_sentences,\n",
        "                              train_labels,\n",
        "                              epochs=5,\n",
        "                              validation_data=(val_sentences,val_labels),\n",
        "                              callbacks=[hp.create_tensorboard_callback(SAVE_DIR,\n",
        "                                                                        \"model_6_USE\")])"
      ],
      "metadata": {
        "colab": {
          "base_uri": "https://localhost:8080/"
        },
        "id": "NahGZcujrxVr",
        "outputId": "c2814896-2c25-4a82-bbe6-2841cc8daaff"
      },
      "execution_count": null,
      "outputs": [
        {
          "output_type": "stream",
          "name": "stdout",
          "text": [
            "Saving TensorBoard log files to: model_logs/model_6_USE/20230221-132446\n",
            "Epoch 1/5\n",
            "215/215 [==============================] - 5s 11ms/step - loss: 0.5095 - accuracy: 0.7790 - val_loss: 0.4465 - val_accuracy: 0.8031\n",
            "Epoch 2/5\n",
            "215/215 [==============================] - 2s 9ms/step - loss: 0.4151 - accuracy: 0.8177 - val_loss: 0.4367 - val_accuracy: 0.8097\n",
            "Epoch 3/5\n",
            "215/215 [==============================] - 2s 10ms/step - loss: 0.4002 - accuracy: 0.8232 - val_loss: 0.4294 - val_accuracy: 0.8110\n",
            "Epoch 4/5\n",
            "215/215 [==============================] - 2s 9ms/step - loss: 0.3924 - accuracy: 0.8256 - val_loss: 0.4290 - val_accuracy: 0.8084\n",
            "Epoch 5/5\n",
            "215/215 [==============================] - 2s 11ms/step - loss: 0.3849 - accuracy: 0.8295 - val_loss: 0.4273 - val_accuracy: 0.8123\n"
          ]
        }
      ]
    },
    {
      "cell_type": "code",
      "source": [
        "#Make predictions with USE Tf Hub model\n",
        "model_6_pred_probs = model_6.predict(val_sentences)\n",
        "model_6_pred_probs[:10]"
      ],
      "metadata": {
        "colab": {
          "base_uri": "https://localhost:8080/"
        },
        "id": "6IV22CzSsOXm",
        "outputId": "0cb76d79-1d78-444c-b621-89d150ff0a0d"
      },
      "execution_count": null,
      "outputs": [
        {
          "output_type": "stream",
          "name": "stdout",
          "text": [
            "24/24 [==============================] - 1s 8ms/step\n"
          ]
        },
        {
          "output_type": "execute_result",
          "data": {
            "text/plain": [
              "array([[0.1787136 ],\n",
              "       [0.7383488 ],\n",
              "       [0.99202996],\n",
              "       [0.20612627],\n",
              "       [0.70278484],\n",
              "       [0.66898876],\n",
              "       [0.9793355 ],\n",
              "       [0.97692686],\n",
              "       [0.95178217],\n",
              "       [0.09976571]], dtype=float32)"
            ]
          },
          "metadata": {},
          "execution_count": 96
        }
      ]
    },
    {
      "cell_type": "code",
      "source": [
        "model_6_predicts = tf.squeeze(tf.round(model_6_pred_probs))\n",
        "model_6_predicts[:10]"
      ],
      "metadata": {
        "colab": {
          "base_uri": "https://localhost:8080/"
        },
        "id": "cGR6anE-sgab",
        "outputId": "836ac3c5-0974-44ca-eb8b-20e26c3f5cf0"
      },
      "execution_count": null,
      "outputs": [
        {
          "output_type": "execute_result",
          "data": {
            "text/plain": [
              "<tf.Tensor: shape=(10,), dtype=float32, numpy=array([0., 1., 1., 0., 1., 1., 1., 1., 1., 0.], dtype=float32)>"
            ]
          },
          "metadata": {},
          "execution_count": 97
        }
      ]
    },
    {
      "cell_type": "code",
      "source": [
        "model_6_results = hp.calculate_results(val_labels,model_6_predicts)\n",
        "model_6_results"
      ],
      "metadata": {
        "colab": {
          "base_uri": "https://localhost:8080/"
        },
        "id": "pes-J7IytJnp",
        "outputId": "33f970a5-31e3-48d9-8440-d6c250bb1609"
      },
      "execution_count": null,
      "outputs": [
        {
          "output_type": "execute_result",
          "data": {
            "text/plain": [
              "{'accuracy': 81.23359580052494,\n",
              " 'precision': 0.8163219290181186,\n",
              " 'recall': 0.8123359580052494,\n",
              " 'f1': 0.8102465800135692}"
            ]
          },
          "metadata": {},
          "execution_count": 98
        }
      ]
    },
    {
      "cell_type": "markdown",
      "source": [
        "# Model 7: TF HUB Pretrained USE but with 10% of training data\n"
      ],
      "metadata": {
        "id": "l7hF3WMttO8J"
      }
    },
    {
      "cell_type": "code",
      "source": [
        "random_number = random.randint(0, int(0.9*len(train_df_shuffles)) )\n",
        "train_10prec_data = train_df_shuffles[['text','target']][random_number : random_number+int(0.1*len(train_df_shuffles))]\n",
        "len(train_10prec_data)/len(train_df_shuffles)*100 , len(train_10prec_data)"
      ],
      "metadata": {
        "colab": {
          "base_uri": "https://localhost:8080/"
        },
        "id": "obsbXKTGvVfL",
        "outputId": "63f30947-6c56-4dab-b151-4022b553df2e"
      },
      "execution_count": null,
      "outputs": [
        {
          "output_type": "execute_result",
          "data": {
            "text/plain": [
              "(9.996059372126625, 761)"
            ]
          },
          "metadata": {},
          "execution_count": 99
        }
      ]
    },
    {
      "cell_type": "code",
      "source": [
        "train_df_shuffles[['text','target']][1:4]"
      ],
      "metadata": {
        "colab": {
          "base_uri": "https://localhost:8080/",
          "height": 143
        },
        "id": "_hDGPUGkwIKo",
        "outputId": "6e653813-e19d-4873-b6e9-2db277f04f21"
      },
      "execution_count": null,
      "outputs": [
        {
          "output_type": "execute_result",
          "data": {
            "text/plain": [
              "                                                   text  target\n",
              "2227  The f$&amp;@ing things I do for #GISHWHES Just...       0\n",
              "5448  DT @georgegalloway: RT @Galloway4Mayor: ÛÏThe...       1\n",
              "132   Aftershock back to school kick off was great. ...       0"
            ],
            "text/html": [
              "\n",
              "  <div id=\"df-b37a15eb-8ea8-411d-ad0b-716bcdda0d64\">\n",
              "    <div class=\"colab-df-container\">\n",
              "      <div>\n",
              "<style scoped>\n",
              "    .dataframe tbody tr th:only-of-type {\n",
              "        vertical-align: middle;\n",
              "    }\n",
              "\n",
              "    .dataframe tbody tr th {\n",
              "        vertical-align: top;\n",
              "    }\n",
              "\n",
              "    .dataframe thead th {\n",
              "        text-align: right;\n",
              "    }\n",
              "</style>\n",
              "<table border=\"1\" class=\"dataframe\">\n",
              "  <thead>\n",
              "    <tr style=\"text-align: right;\">\n",
              "      <th></th>\n",
              "      <th>text</th>\n",
              "      <th>target</th>\n",
              "    </tr>\n",
              "  </thead>\n",
              "  <tbody>\n",
              "    <tr>\n",
              "      <th>2227</th>\n",
              "      <td>The f$&amp;amp;@ing things I do for #GISHWHES Just...</td>\n",
              "      <td>0</td>\n",
              "    </tr>\n",
              "    <tr>\n",
              "      <th>5448</th>\n",
              "      <td>DT @georgegalloway: RT @Galloway4Mayor: ÛÏThe...</td>\n",
              "      <td>1</td>\n",
              "    </tr>\n",
              "    <tr>\n",
              "      <th>132</th>\n",
              "      <td>Aftershock back to school kick off was great. ...</td>\n",
              "      <td>0</td>\n",
              "    </tr>\n",
              "  </tbody>\n",
              "</table>\n",
              "</div>\n",
              "      <button class=\"colab-df-convert\" onclick=\"convertToInteractive('df-b37a15eb-8ea8-411d-ad0b-716bcdda0d64')\"\n",
              "              title=\"Convert this dataframe to an interactive table.\"\n",
              "              style=\"display:none;\">\n",
              "        \n",
              "  <svg xmlns=\"http://www.w3.org/2000/svg\" height=\"24px\"viewBox=\"0 0 24 24\"\n",
              "       width=\"24px\">\n",
              "    <path d=\"M0 0h24v24H0V0z\" fill=\"none\"/>\n",
              "    <path d=\"M18.56 5.44l.94 2.06.94-2.06 2.06-.94-2.06-.94-.94-2.06-.94 2.06-2.06.94zm-11 1L8.5 8.5l.94-2.06 2.06-.94-2.06-.94L8.5 2.5l-.94 2.06-2.06.94zm10 10l.94 2.06.94-2.06 2.06-.94-2.06-.94-.94-2.06-.94 2.06-2.06.94z\"/><path d=\"M17.41 7.96l-1.37-1.37c-.4-.4-.92-.59-1.43-.59-.52 0-1.04.2-1.43.59L10.3 9.45l-7.72 7.72c-.78.78-.78 2.05 0 2.83L4 21.41c.39.39.9.59 1.41.59.51 0 1.02-.2 1.41-.59l7.78-7.78 2.81-2.81c.8-.78.8-2.07 0-2.86zM5.41 20L4 18.59l7.72-7.72 1.47 1.35L5.41 20z\"/>\n",
              "  </svg>\n",
              "      </button>\n",
              "      \n",
              "  <style>\n",
              "    .colab-df-container {\n",
              "      display:flex;\n",
              "      flex-wrap:wrap;\n",
              "      gap: 12px;\n",
              "    }\n",
              "\n",
              "    .colab-df-convert {\n",
              "      background-color: #E8F0FE;\n",
              "      border: none;\n",
              "      border-radius: 50%;\n",
              "      cursor: pointer;\n",
              "      display: none;\n",
              "      fill: #1967D2;\n",
              "      height: 32px;\n",
              "      padding: 0 0 0 0;\n",
              "      width: 32px;\n",
              "    }\n",
              "\n",
              "    .colab-df-convert:hover {\n",
              "      background-color: #E2EBFA;\n",
              "      box-shadow: 0px 1px 2px rgba(60, 64, 67, 0.3), 0px 1px 3px 1px rgba(60, 64, 67, 0.15);\n",
              "      fill: #174EA6;\n",
              "    }\n",
              "\n",
              "    [theme=dark] .colab-df-convert {\n",
              "      background-color: #3B4455;\n",
              "      fill: #D2E3FC;\n",
              "    }\n",
              "\n",
              "    [theme=dark] .colab-df-convert:hover {\n",
              "      background-color: #434B5C;\n",
              "      box-shadow: 0px 1px 3px 1px rgba(0, 0, 0, 0.15);\n",
              "      filter: drop-shadow(0px 1px 2px rgba(0, 0, 0, 0.3));\n",
              "      fill: #FFFFFF;\n",
              "    }\n",
              "  </style>\n",
              "\n",
              "      <script>\n",
              "        const buttonEl =\n",
              "          document.querySelector('#df-b37a15eb-8ea8-411d-ad0b-716bcdda0d64 button.colab-df-convert');\n",
              "        buttonEl.style.display =\n",
              "          google.colab.kernel.accessAllowed ? 'block' : 'none';\n",
              "\n",
              "        async function convertToInteractive(key) {\n",
              "          const element = document.querySelector('#df-b37a15eb-8ea8-411d-ad0b-716bcdda0d64');\n",
              "          const dataTable =\n",
              "            await google.colab.kernel.invokeFunction('convertToInteractive',\n",
              "                                                     [key], {});\n",
              "          if (!dataTable) return;\n",
              "\n",
              "          const docLinkHtml = 'Like what you see? Visit the ' +\n",
              "            '<a target=\"_blank\" href=https://colab.research.google.com/notebooks/data_table.ipynb>data table notebook</a>'\n",
              "            + ' to learn more about interactive tables.';\n",
              "          element.innerHTML = '';\n",
              "          dataTable['output_type'] = 'display_data';\n",
              "          await google.colab.output.renderOutput(dataTable, element);\n",
              "          const docLink = document.createElement('div');\n",
              "          docLink.innerHTML = docLinkHtml;\n",
              "          element.appendChild(docLink);\n",
              "        }\n",
              "      </script>\n",
              "    </div>\n",
              "  </div>\n",
              "  "
            ]
          },
          "metadata": {},
          "execution_count": 100
        }
      ]
    },
    {
      "cell_type": "code",
      "source": [
        "#Inny krótszy sposób\n",
        "train_10_percent = train_df_shuffles[[\"text\",\"target\"]].sample(frac=0.1,random_state=42)\n",
        "\n",
        "train_sentences_10_percent = train_10_percent[\"text\"].to_list()\n",
        "train_labels_10_percent = train_10_percent[\"target\"].to_list()\n",
        "\n",
        "len(train_sentences_10_percent), len(train_labels_10_percent)"
      ],
      "metadata": {
        "colab": {
          "base_uri": "https://localhost:8080/"
        },
        "id": "_bRMO9xRwSO6",
        "outputId": "2b5c8448-8b89-4fe8-a9e9-cd3bc9575ebb"
      },
      "execution_count": null,
      "outputs": [
        {
          "output_type": "execute_result",
          "data": {
            "text/plain": [
              "(761, 761)"
            ]
          },
          "metadata": {},
          "execution_count": 101
        }
      ]
    },
    {
      "cell_type": "code",
      "source": [
        "#Check number of target in dataset\n",
        "train_10_percent[\"target\"].value_counts()"
      ],
      "metadata": {
        "colab": {
          "base_uri": "https://localhost:8080/"
        },
        "id": "gXOFjKMDyOWy",
        "outputId": "f4c492c0-0019-4913-abac-70919f882dea"
      },
      "execution_count": null,
      "outputs": [
        {
          "output_type": "execute_result",
          "data": {
            "text/plain": [
              "0    413\n",
              "1    348\n",
              "Name: target, dtype: int64"
            ]
          },
          "metadata": {},
          "execution_count": 102
        }
      ]
    },
    {
      "cell_type": "code",
      "source": [
        "train_df_shuffles[\"target\"].value_counts()"
      ],
      "metadata": {
        "colab": {
          "base_uri": "https://localhost:8080/"
        },
        "id": "MhRrmEjCyaYV",
        "outputId": "0ac821d1-a83e-42d4-9b97-fb7daa6b3f37"
      },
      "execution_count": null,
      "outputs": [
        {
          "output_type": "execute_result",
          "data": {
            "text/plain": [
              "0    4342\n",
              "1    3271\n",
              "Name: target, dtype: int64"
            ]
          },
          "metadata": {},
          "execution_count": 103
        }
      ]
    },
    {
      "cell_type": "code",
      "source": [
        "#Building model\n",
        "import tensorflow_hub as hub\n",
        "import tensorflow as tf\n",
        "from tensorflow.keras import layers\n",
        "sequence_encoder_layer = hub.KerasLayer(\"https://tfhub.dev/google/universal-sentence-encoder/4\",\n",
        "                                        dtype=tf.string,\n",
        "                                        trainable=False,\n",
        "                                        input_shape=[],\n",
        "                                        name=\"USE\")\n",
        "model_7 = tf.keras.Sequential([\n",
        "    sequence_encoder_layer,\n",
        "    layers.Dense(64,activation=\"relu\"),\n",
        "    layers.Dense(1,activation=\"sigmoid\")\n",
        "],name=\"model_7_10percent\")\n",
        "\n",
        "#Compile model\n",
        "model_7.compile(loss=\"binary_crossentropy\",\n",
        "                optimizer=tf.keras.optimizers.Adam(),\n",
        "                metrics=[\"accuracy\"])"
      ],
      "metadata": {
        "id": "BToDyMaXyemS"
      },
      "execution_count": null,
      "outputs": []
    },
    {
      "cell_type": "code",
      "source": [
        "model_7.summary()"
      ],
      "metadata": {
        "colab": {
          "base_uri": "https://localhost:8080/"
        },
        "id": "6lLmDy_oz0pI",
        "outputId": "c6031528-bc6f-4e26-f3ab-53695a2c5793"
      },
      "execution_count": null,
      "outputs": [
        {
          "output_type": "stream",
          "name": "stdout",
          "text": [
            "Model: \"model_7_10percent\"\n",
            "_________________________________________________________________\n",
            " Layer (type)                Output Shape              Param #   \n",
            "=================================================================\n",
            " USE (KerasLayer)            (None, 512)               256797824 \n",
            "                                                                 \n",
            " dense_10 (Dense)            (None, 64)                32832     \n",
            "                                                                 \n",
            " dense_11 (Dense)            (None, 1)                 65        \n",
            "                                                                 \n",
            "=================================================================\n",
            "Total params: 256,830,721\n",
            "Trainable params: 32,897\n",
            "Non-trainable params: 256,797,824\n",
            "_________________________________________________________________\n"
          ]
        }
      ]
    },
    {
      "cell_type": "code",
      "source": [
        "#fit the model\n",
        "history_7 = model_7.fit(train_sentences_10_percent,\n",
        "                        train_labels_10_percent,\n",
        "                        epochs=5,\n",
        "                        validation_data=(val_sentences,val_labels),\n",
        "                        callbacks=[hp.create_tensorboard_callback(SAVE_DIR,\n",
        "                                                                  \"USE_10prec_model7\")])"
      ],
      "metadata": {
        "colab": {
          "base_uri": "https://localhost:8080/"
        },
        "id": "AeBC7pjS0UHj",
        "outputId": "7f8cdc38-03d4-4e1d-d5b8-8b1ba4090116"
      },
      "execution_count": null,
      "outputs": [
        {
          "output_type": "stream",
          "name": "stdout",
          "text": [
            "Saving TensorBoard log files to: model_logs/USE_10prec_model7/20230221-132505\n",
            "Epoch 1/5\n",
            "24/24 [==============================] - 3s 40ms/step - loss: 0.6698 - accuracy: 0.6413 - val_loss: 0.6278 - val_accuracy: 0.7822\n",
            "Epoch 2/5\n",
            "24/24 [==============================] - 1s 22ms/step - loss: 0.5944 - accuracy: 0.7898 - val_loss: 0.5515 - val_accuracy: 0.7953\n",
            "Epoch 3/5\n",
            "24/24 [==============================] - 1s 23ms/step - loss: 0.5223 - accuracy: 0.7963 - val_loss: 0.4838 - val_accuracy: 0.8005\n",
            "Epoch 4/5\n",
            "24/24 [==============================] - 0s 17ms/step - loss: 0.4665 - accuracy: 0.7963 - val_loss: 0.4397 - val_accuracy: 0.8097\n",
            "Epoch 5/5\n",
            "24/24 [==============================] - 1s 23ms/step - loss: 0.4294 - accuracy: 0.8134 - val_loss: 0.4083 - val_accuracy: 0.8255\n"
          ]
        }
      ]
    },
    {
      "cell_type": "markdown",
      "source": [
        "Can be also by cloning the model\n",
        "\n",
        "- Klonuje architekture danego modelu, ale nie klonuje jego wag i biases, czyli w skrócie mówiąc parametrów. Je trzebaq wytrenować sobie od początku albo z jakąś dodatkowa konfiguracją, innymi danymi"
      ],
      "metadata": {
        "id": "IOPnkU1c00nE"
      }
    },
    {
      "cell_type": "code",
      "source": [
        "#model_7 = tf.keras.models.clone_model(model_6) "
      ],
      "metadata": {
        "id": "mgj7Jap515Rc"
      },
      "execution_count": null,
      "outputs": []
    },
    {
      "cell_type": "code",
      "source": [
        "#predictions\n",
        "model_7_pred_probas = model_7.predict(val_sentences)\n",
        "model_7_pred_probas[:10]"
      ],
      "metadata": {
        "colab": {
          "base_uri": "https://localhost:8080/"
        },
        "id": "yt3LSUcS2jKb",
        "outputId": "9a2e0497-c155-4e30-dc1c-796d9c4e9c83"
      },
      "execution_count": null,
      "outputs": [
        {
          "output_type": "stream",
          "name": "stdout",
          "text": [
            "24/24 [==============================] - 1s 13ms/step\n"
          ]
        },
        {
          "output_type": "execute_result",
          "data": {
            "text/plain": [
              "array([[0.24899267],\n",
              "       [0.7979001 ],\n",
              "       [0.91650504],\n",
              "       [0.33132   ],\n",
              "       [0.79830194],\n",
              "       [0.8428447 ],\n",
              "       [0.9013609 ],\n",
              "       [0.9436529 ],\n",
              "       [0.8341893 ],\n",
              "       [0.06975573]], dtype=float32)"
            ]
          },
          "metadata": {},
          "execution_count": 108
        }
      ]
    },
    {
      "cell_type": "code",
      "source": [
        "model_7_predicts = tf.squeeze(tf.round(model_7_pred_probas))\n",
        "model_7_predicts[:10]"
      ],
      "metadata": {
        "colab": {
          "base_uri": "https://localhost:8080/"
        },
        "id": "WJ3Sb3b32r6P",
        "outputId": "c3519c7f-8516-45ba-c293-c1214e1210cf"
      },
      "execution_count": null,
      "outputs": [
        {
          "output_type": "execute_result",
          "data": {
            "text/plain": [
              "<tf.Tensor: shape=(10,), dtype=float32, numpy=array([0., 1., 1., 0., 1., 1., 1., 1., 1., 0.], dtype=float32)>"
            ]
          },
          "metadata": {},
          "execution_count": 109
        }
      ]
    },
    {
      "cell_type": "code",
      "source": [
        "model_7_results = hp.calculate_results(val_labels,model_7_predicts)\n",
        "model_7_results"
      ],
      "metadata": {
        "colab": {
          "base_uri": "https://localhost:8080/"
        },
        "id": "z5K23fkn203-",
        "outputId": "5da2c6d6-8414-43bf-c369-caafdecb4ecc"
      },
      "execution_count": null,
      "outputs": [
        {
          "output_type": "execute_result",
          "data": {
            "text/plain": [
              "{'accuracy': 82.54593175853019,\n",
              " 'precision': 0.8256179935749094,\n",
              " 'recall': 0.8254593175853019,\n",
              " 'f1': 0.8249028706511805}"
            ]
          },
          "metadata": {},
          "execution_count": 110
        }
      ]
    },
    {
      "cell_type": "code",
      "source": [
        "model_6_results"
      ],
      "metadata": {
        "colab": {
          "base_uri": "https://localhost:8080/"
        },
        "id": "MUg6Ndpu26SD",
        "outputId": "d604777a-3de1-4b1d-db12-346292ae7c81"
      },
      "execution_count": null,
      "outputs": [
        {
          "output_type": "execute_result",
          "data": {
            "text/plain": [
              "{'accuracy': 81.23359580052494,\n",
              " 'precision': 0.8163219290181186,\n",
              " 'recall': 0.8123359580052494,\n",
              " 'f1': 0.8102465800135692}"
            ]
          },
          "metadata": {},
          "execution_count": 111
        }
      ]
    },
    {
      "cell_type": "markdown",
      "source": [
        "# Why model with 10 times less data makes better predictions...\n",
        "\n",
        "- Lets find out what is wrong"
      ],
      "metadata": {
        "id": "PZkA8RS62-TQ"
      }
    },
    {
      "cell_type": "code",
      "source": [
        "train_10_percent"
      ],
      "metadata": {
        "colab": {
          "base_uri": "https://localhost:8080/",
          "height": 423
        },
        "id": "i_HwnkLm4DHZ",
        "outputId": "763d7f3a-2f9b-47e6-b70d-7656b1d62903"
      },
      "execution_count": null,
      "outputs": [
        {
          "output_type": "execute_result",
          "data": {
            "text/plain": [
              "                                                   text  target\n",
              "4955  DFR EP016 Monthly Meltdown - On Dnbheaven 2015...       0\n",
              "584   FedEx no longer to transport bioterror germs i...       0\n",
              "7411  Gunmen kill four in El Salvador bus attack: Su...       1\n",
              "5950  @camilacabello97 Internally and externally scr...       1\n",
              "5541  Radiation emergency #preparedness starts with ...       1\n",
              "...                                                 ...     ...\n",
              "7593  I just heard a really loud bang and everyone i...       0\n",
              "2638            That's the ultimate road to destruction       0\n",
              "859   @SetZorah dad why dont you claim me that mean ...       0\n",
              "578   FedEx will no longer transport bioterror patho...       0\n",
              "7445  Crack in the path where I wiped out this morni...       0\n",
              "\n",
              "[761 rows x 2 columns]"
            ],
            "text/html": [
              "\n",
              "  <div id=\"df-df41fede-ff80-4a23-bcda-dfa94fba416f\">\n",
              "    <div class=\"colab-df-container\">\n",
              "      <div>\n",
              "<style scoped>\n",
              "    .dataframe tbody tr th:only-of-type {\n",
              "        vertical-align: middle;\n",
              "    }\n",
              "\n",
              "    .dataframe tbody tr th {\n",
              "        vertical-align: top;\n",
              "    }\n",
              "\n",
              "    .dataframe thead th {\n",
              "        text-align: right;\n",
              "    }\n",
              "</style>\n",
              "<table border=\"1\" class=\"dataframe\">\n",
              "  <thead>\n",
              "    <tr style=\"text-align: right;\">\n",
              "      <th></th>\n",
              "      <th>text</th>\n",
              "      <th>target</th>\n",
              "    </tr>\n",
              "  </thead>\n",
              "  <tbody>\n",
              "    <tr>\n",
              "      <th>4955</th>\n",
              "      <td>DFR EP016 Monthly Meltdown - On Dnbheaven 2015...</td>\n",
              "      <td>0</td>\n",
              "    </tr>\n",
              "    <tr>\n",
              "      <th>584</th>\n",
              "      <td>FedEx no longer to transport bioterror germs i...</td>\n",
              "      <td>0</td>\n",
              "    </tr>\n",
              "    <tr>\n",
              "      <th>7411</th>\n",
              "      <td>Gunmen kill four in El Salvador bus attack: Su...</td>\n",
              "      <td>1</td>\n",
              "    </tr>\n",
              "    <tr>\n",
              "      <th>5950</th>\n",
              "      <td>@camilacabello97 Internally and externally scr...</td>\n",
              "      <td>1</td>\n",
              "    </tr>\n",
              "    <tr>\n",
              "      <th>5541</th>\n",
              "      <td>Radiation emergency #preparedness starts with ...</td>\n",
              "      <td>1</td>\n",
              "    </tr>\n",
              "    <tr>\n",
              "      <th>...</th>\n",
              "      <td>...</td>\n",
              "      <td>...</td>\n",
              "    </tr>\n",
              "    <tr>\n",
              "      <th>7593</th>\n",
              "      <td>I just heard a really loud bang and everyone i...</td>\n",
              "      <td>0</td>\n",
              "    </tr>\n",
              "    <tr>\n",
              "      <th>2638</th>\n",
              "      <td>That's the ultimate road to destruction</td>\n",
              "      <td>0</td>\n",
              "    </tr>\n",
              "    <tr>\n",
              "      <th>859</th>\n",
              "      <td>@SetZorah dad why dont you claim me that mean ...</td>\n",
              "      <td>0</td>\n",
              "    </tr>\n",
              "    <tr>\n",
              "      <th>578</th>\n",
              "      <td>FedEx will no longer transport bioterror patho...</td>\n",
              "      <td>0</td>\n",
              "    </tr>\n",
              "    <tr>\n",
              "      <th>7445</th>\n",
              "      <td>Crack in the path where I wiped out this morni...</td>\n",
              "      <td>0</td>\n",
              "    </tr>\n",
              "  </tbody>\n",
              "</table>\n",
              "<p>761 rows × 2 columns</p>\n",
              "</div>\n",
              "      <button class=\"colab-df-convert\" onclick=\"convertToInteractive('df-df41fede-ff80-4a23-bcda-dfa94fba416f')\"\n",
              "              title=\"Convert this dataframe to an interactive table.\"\n",
              "              style=\"display:none;\">\n",
              "        \n",
              "  <svg xmlns=\"http://www.w3.org/2000/svg\" height=\"24px\"viewBox=\"0 0 24 24\"\n",
              "       width=\"24px\">\n",
              "    <path d=\"M0 0h24v24H0V0z\" fill=\"none\"/>\n",
              "    <path d=\"M18.56 5.44l.94 2.06.94-2.06 2.06-.94-2.06-.94-.94-2.06-.94 2.06-2.06.94zm-11 1L8.5 8.5l.94-2.06 2.06-.94-2.06-.94L8.5 2.5l-.94 2.06-2.06.94zm10 10l.94 2.06.94-2.06 2.06-.94-2.06-.94-.94-2.06-.94 2.06-2.06.94z\"/><path d=\"M17.41 7.96l-1.37-1.37c-.4-.4-.92-.59-1.43-.59-.52 0-1.04.2-1.43.59L10.3 9.45l-7.72 7.72c-.78.78-.78 2.05 0 2.83L4 21.41c.39.39.9.59 1.41.59.51 0 1.02-.2 1.41-.59l7.78-7.78 2.81-2.81c.8-.78.8-2.07 0-2.86zM5.41 20L4 18.59l7.72-7.72 1.47 1.35L5.41 20z\"/>\n",
              "  </svg>\n",
              "      </button>\n",
              "      \n",
              "  <style>\n",
              "    .colab-df-container {\n",
              "      display:flex;\n",
              "      flex-wrap:wrap;\n",
              "      gap: 12px;\n",
              "    }\n",
              "\n",
              "    .colab-df-convert {\n",
              "      background-color: #E8F0FE;\n",
              "      border: none;\n",
              "      border-radius: 50%;\n",
              "      cursor: pointer;\n",
              "      display: none;\n",
              "      fill: #1967D2;\n",
              "      height: 32px;\n",
              "      padding: 0 0 0 0;\n",
              "      width: 32px;\n",
              "    }\n",
              "\n",
              "    .colab-df-convert:hover {\n",
              "      background-color: #E2EBFA;\n",
              "      box-shadow: 0px 1px 2px rgba(60, 64, 67, 0.3), 0px 1px 3px 1px rgba(60, 64, 67, 0.15);\n",
              "      fill: #174EA6;\n",
              "    }\n",
              "\n",
              "    [theme=dark] .colab-df-convert {\n",
              "      background-color: #3B4455;\n",
              "      fill: #D2E3FC;\n",
              "    }\n",
              "\n",
              "    [theme=dark] .colab-df-convert:hover {\n",
              "      background-color: #434B5C;\n",
              "      box-shadow: 0px 1px 3px 1px rgba(0, 0, 0, 0.15);\n",
              "      filter: drop-shadow(0px 1px 2px rgba(0, 0, 0, 0.3));\n",
              "      fill: #FFFFFF;\n",
              "    }\n",
              "  </style>\n",
              "\n",
              "      <script>\n",
              "        const buttonEl =\n",
              "          document.querySelector('#df-df41fede-ff80-4a23-bcda-dfa94fba416f button.colab-df-convert');\n",
              "        buttonEl.style.display =\n",
              "          google.colab.kernel.accessAllowed ? 'block' : 'none';\n",
              "\n",
              "        async function convertToInteractive(key) {\n",
              "          const element = document.querySelector('#df-df41fede-ff80-4a23-bcda-dfa94fba416f');\n",
              "          const dataTable =\n",
              "            await google.colab.kernel.invokeFunction('convertToInteractive',\n",
              "                                                     [key], {});\n",
              "          if (!dataTable) return;\n",
              "\n",
              "          const docLinkHtml = 'Like what you see? Visit the ' +\n",
              "            '<a target=\"_blank\" href=https://colab.research.google.com/notebooks/data_table.ipynb>data table notebook</a>'\n",
              "            + ' to learn more about interactive tables.';\n",
              "          element.innerHTML = '';\n",
              "          dataTable['output_type'] = 'display_data';\n",
              "          await google.colab.output.renderOutput(dataTable, element);\n",
              "          const docLink = document.createElement('div');\n",
              "          docLink.innerHTML = docLinkHtml;\n",
              "          element.appendChild(docLink);\n",
              "        }\n",
              "      </script>\n",
              "    </div>\n",
              "  </div>\n",
              "  "
            ]
          },
          "metadata": {},
          "execution_count": 112
        }
      ]
    },
    {
      "cell_type": "code",
      "source": [
        "train_sentences_10_percent[:20], train_labels_10_percent[:10]"
      ],
      "metadata": {
        "colab": {
          "base_uri": "https://localhost:8080/"
        },
        "id": "rvRmKuY64Dq2",
        "outputId": "2e56a183-b4cc-4a8f-b032-c462e10a9c06"
      },
      "execution_count": null,
      "outputs": [
        {
          "output_type": "execute_result",
          "data": {
            "text/plain": [
              "(['DFR EP016 Monthly Meltdown - On Dnbheaven 2015.08.06 http://t.co/EjKRf8N8A8 #Drum and Bass #heavy #nasty http://t.co/SPHWE6wFI5',\n",
              "  'FedEx no longer to transport bioterror germs in wake of anthrax lab mishaps http://t.co/qZQc8WWwcN via @usatoday',\n",
              "  'Gunmen kill four in El Salvador bus attack: Suspected Salvadoran gang members killed four people and wounded s... http://t.co/CNtwB6ScZj',\n",
              "  '@camilacabello97 Internally and externally screaming',\n",
              "  'Radiation emergency #preparedness starts with knowing to: get inside stay inside and stay tuned http://t.co/RFFPqBAz2F via @CDCgov',\n",
              "  'Investigators rule catastrophic structural failure resulted in 2014 Virg.. Related Articles: http://t.co/Cy1LFeNyV8',\n",
              "  'How the West was burned: Thousands of wildfires ablaze in #California alone http://t.co/iCSjGZ9tE1 #climate #energy http://t.co/9FxmN0l0Bd',\n",
              "  \"Map: Typhoon Soudelor's predicted path as it approaches Taiwan; expected to make landfall over southern China by S\\x89Û_ http://t.co/JDVSGVhlIs\",\n",
              "  '\\x89Ûª93 blasts accused Yeda Yakub dies in Karachi of heart attack http://t.co/mfKqyxd8XG #Mumbai',\n",
              "  'My ears are bleeding  https://t.co/k5KnNwugwT',\n",
              "  \"@RedCoatJackpot *As it was typical for them their bullets collided and none managed to reach their targets; such was the ''curse'' of a --\",\n",
              "  'The Five Fatal Flaws in the Iran Deal https://t.co/ztfEAd8GId via @YouTube',\n",
              "  'Isai 60:1; Psm 138:8\\n Every conspiracy against my lifting be scattered unto desolation in the name o f Jesus.',\n",
              "  \"k_matako_bot: Breaking news! Unconfirmed! I just heard a loud bang nearby. in what appears to be a blast of wind from my neighbour's ass.\",\n",
              "  'The Drowning Girl by Caitlin R. Kiernan Centipede Press Signed numbered Limited - Full re\\x89Û_ http://t.co/McSEK4hX5S http://t.co/IIfGaZ0Fil',\n",
              "  'Greedy bastards @Fullscreen way to ruin creativity.  CENSORSHIP ON YOUTUBE: https://t.co/nMtlpO4B58',\n",
              "  'One day I want someone to run for the ferry fall and crack there face open for almost knocking me over just to get on a boat ??????',\n",
              "  \"there's this person &amp; they reckon when you're dying your brain floods with dmt causing you to relive your life in real time in a simulation\",\n",
              "  'Policyholders object to Clico rescue plan http://t.co/E4DvI9vUXZ http://t.co/JyCpf8iYhg',\n",
              "  'Brooklyn locksmith: domesticate emergency mechanic services circa the clock movement!: gba http://t.co/1Q6ccFfzV6'],\n",
              " [0, 0, 1, 1, 1, 1, 1, 1, 1, 0])"
            ]
          },
          "metadata": {},
          "execution_count": 113
        }
      ]
    },
    {
      "cell_type": "code",
      "source": [
        "train_sentences[:20], train_labels[:10].dtype"
      ],
      "metadata": {
        "colab": {
          "base_uri": "https://localhost:8080/"
        },
        "id": "T6pX0K6J4H5H",
        "outputId": "2eab3568-df4b-45e7-c906-57ae8c434384"
      },
      "execution_count": null,
      "outputs": [
        {
          "output_type": "execute_result",
          "data": {
            "text/plain": [
              "(array(['@mogacola @zamtriossu i screamed after hitting tweet',\n",
              "        'Imagine getting flattened by Kurt Zouma',\n",
              "        '@Gurmeetramrahim #MSGDoing111WelfareWorks Green S welfare force ke appx 65000 members har time disaster victim ki help ke liye tyar hai....',\n",
              "        \"@shakjn @C7 @Magnums im shaking in fear he's gonna hack the planet\",\n",
              "        'Somehow find you and I collide http://t.co/Ee8RpOahPk',\n",
              "        '@EvaHanderek @MarleyKnysh great times until the bus driver held us hostage in the mall parking lot lmfao',\n",
              "        'destroy the free fandom honestly',\n",
              "        'Weapons stolen from National Guard Armory in New Albany still missing #Gunsense http://t.co/lKNU8902JE',\n",
              "        '@wfaaweather Pete when will the heat wave pass? Is it really going to be mid month? Frisco Boy Scouts have a canoe trip in Okla.',\n",
              "        'Patient-reported outcomes in long-term survivors of metastatic colorectal cancer - British Journal of Surgery http://t.co/5Yl4DC1Tqt',\n",
              "        'Lava Dragon Breeder! I just bred a Lava Dragon in DragonVale! Visit my park to check it out! http://t.co/QGum9xHEOs',\n",
              "        '@BehindAShield @Wars_Goddess Sweet Lord.  (I collapse as my knees buckle)',\n",
              "        'Several wild fires have burned a lot of land in California. Here is one of the larger fires. http://t.co/2M1gNeaiFl http://t.co/UQh85MiP0v',\n",
              "        \"1st wk of Rainier Diet and my street Seward Park Ave is inundated w/ bypass traffic so @seattledot what's your plan? @seattletimes\",\n",
              "        'Madhya Pradesh Train Derailment: Village Youth Saved Many Lives',\n",
              "        'Fair enough we have two of the best attacking wingers in the Prem in Hazard and Willian who will basically start every game 100%',\n",
              "        \"@AlexeiVolkov1 @McFaul\\nAnd in an equal spirit I leave you to Roskomnadzor and to ridiculously politicized destruction of 'illegal food.'\",\n",
              "        'SOOOO PUMPED FOR ABLAZE ???? @southridgelife',\n",
              "        'Ready for this storm',\n",
              "        'WHEN U BOMBED AND U TRY 2 GET HOME FOR CURFEW http://t.co/oi6CmAGASi'],\n",
              "       dtype=object), dtype('int64'))"
            ]
          },
          "metadata": {},
          "execution_count": 114
        }
      ]
    },
    {
      "cell_type": "markdown",
      "source": [
        "Ok it is because new 10% of train data was created from train_df_shuffled from which also validation data was made. So 10% of data should be taken from another set. So it leads to data leakage...\n",
        "- Lets make good set now"
      ],
      "metadata": {
        "id": "mg_tBciH4SfG"
      }
    },
    {
      "cell_type": "code",
      "source": [
        "train_sentences"
      ],
      "metadata": {
        "colab": {
          "base_uri": "https://localhost:8080/"
        },
        "id": "89nMvO9Y53IZ",
        "outputId": "e74c56d8-3a69-44ea-895f-f963768b319a"
      },
      "execution_count": null,
      "outputs": [
        {
          "output_type": "execute_result",
          "data": {
            "text/plain": [
              "array(['@mogacola @zamtriossu i screamed after hitting tweet',\n",
              "       'Imagine getting flattened by Kurt Zouma',\n",
              "       '@Gurmeetramrahim #MSGDoing111WelfareWorks Green S welfare force ke appx 65000 members har time disaster victim ki help ke liye tyar hai....',\n",
              "       ...,\n",
              "       'Near them on the sand half sunk a shattered visage lies... http://t.co/0kCCG1BT06',\n",
              "       \"kesabaran membuahkan hasil indah pada saat tepat! life isn't about waiting for the storm to pass it's about learning to dance in the rain.\",\n",
              "       \"@ScottDPierce @billharris_tv @HarrisGle @Beezersun I'm forfeiting this years fantasy football pool out of fear I may win n get my ass kicked\"],\n",
              "      dtype=object)"
            ]
          },
          "metadata": {},
          "execution_count": 115
        }
      ]
    },
    {
      "cell_type": "code",
      "source": [
        "len(train_sentences)"
      ],
      "metadata": {
        "colab": {
          "base_uri": "https://localhost:8080/"
        },
        "id": "pJANhv_X6gjp",
        "outputId": "bf582a47-938d-4acc-9516-af0930ebb181"
      },
      "execution_count": null,
      "outputs": [
        {
          "output_type": "execute_result",
          "data": {
            "text/plain": [
              "6851"
            ]
          },
          "metadata": {},
          "execution_count": 116
        }
      ]
    },
    {
      "cell_type": "code",
      "source": [
        "#train_10_percent  = random.sample(list(train_sentences), int(0.1*len(train_sentences))) - zabawa\n",
        "train_sentences_10_percent = train_sentences[:int(0.1*len(train_sentences))]\n",
        "train_sentences_10_percent[:10], len(train_10_percent)"
      ],
      "metadata": {
        "colab": {
          "base_uri": "https://localhost:8080/"
        },
        "id": "EUgTRzzR6mlX",
        "outputId": "32ba8811-95f0-4b7c-eeef-8fb49cdfafa7"
      },
      "execution_count": null,
      "outputs": [
        {
          "output_type": "execute_result",
          "data": {
            "text/plain": [
              "(array(['@mogacola @zamtriossu i screamed after hitting tweet',\n",
              "        'Imagine getting flattened by Kurt Zouma',\n",
              "        '@Gurmeetramrahim #MSGDoing111WelfareWorks Green S welfare force ke appx 65000 members har time disaster victim ki help ke liye tyar hai....',\n",
              "        \"@shakjn @C7 @Magnums im shaking in fear he's gonna hack the planet\",\n",
              "        'Somehow find you and I collide http://t.co/Ee8RpOahPk',\n",
              "        '@EvaHanderek @MarleyKnysh great times until the bus driver held us hostage in the mall parking lot lmfao',\n",
              "        'destroy the free fandom honestly',\n",
              "        'Weapons stolen from National Guard Armory in New Albany still missing #Gunsense http://t.co/lKNU8902JE',\n",
              "        '@wfaaweather Pete when will the heat wave pass? Is it really going to be mid month? Frisco Boy Scouts have a canoe trip in Okla.',\n",
              "        'Patient-reported outcomes in long-term survivors of metastatic colorectal cancer - British Journal of Surgery http://t.co/5Yl4DC1Tqt'],\n",
              "       dtype=object), 761)"
            ]
          },
          "metadata": {},
          "execution_count": 117
        }
      ]
    },
    {
      "cell_type": "code",
      "source": [
        "train_labels_10_percent = train_labels[:int(0.1*len(train_sentences))]\n",
        "train_labels_10_percent[:10]"
      ],
      "metadata": {
        "colab": {
          "base_uri": "https://localhost:8080/"
        },
        "id": "oayobsT06v4i",
        "outputId": "7b66d3b3-409d-4825-d836-c2c60e13020a"
      },
      "execution_count": null,
      "outputs": [
        {
          "output_type": "execute_result",
          "data": {
            "text/plain": [
              "array([0, 0, 1, 0, 0, 1, 1, 0, 1, 1])"
            ]
          },
          "metadata": {},
          "execution_count": 118
        }
      ]
    },
    {
      "cell_type": "code",
      "source": [
        "#check number of each label in updated train subset\n",
        "pd.Series(np.array(train_labels_10_percent)).value_counts()"
      ],
      "metadata": {
        "colab": {
          "base_uri": "https://localhost:8080/"
        },
        "id": "fatAF1l69TP1",
        "outputId": "f10fff61-3a4c-471a-aa1f-5e0d04481d12"
      },
      "execution_count": null,
      "outputs": [
        {
          "output_type": "execute_result",
          "data": {
            "text/plain": [
              "0    406\n",
              "1    279\n",
              "dtype: int64"
            ]
          },
          "metadata": {},
          "execution_count": 119
        }
      ]
    },
    {
      "cell_type": "code",
      "source": [
        "# So build model once again\n",
        "model_8 = tf.keras.Sequential([\n",
        "    sequence_encoder_layer,\n",
        "    layers.Dense(64,activation=\"relu\"),\n",
        "    layers.Dense(1,activation=\"sigmoid\")\n",
        "])\n",
        "#Compile\n",
        "model_8.compile(loss=\"binary_crossentropy\",\n",
        "                            optimizer=tf.keras.optimizers.Adam(),\n",
        "                            metrics=[\"accuracy\"])\n",
        "#Fit \n",
        "history_8 = model_8.fit(train_sentences_10_percent,\n",
        "                        train_labels_10_percent,\n",
        "                        epochs=5,\n",
        "                        validation_data=(val_sentences,val_labels),\n",
        "                        callbacks=[hp.create_tensorboard_callback(SAVE_DIR,\n",
        "                                                                  \"USE_10prec_model8_working\")])"
      ],
      "metadata": {
        "colab": {
          "base_uri": "https://localhost:8080/"
        },
        "id": "ybxRVsLh9lY7",
        "outputId": "6102a8b6-bee5-4f0e-b5ec-f175c024e068"
      },
      "execution_count": null,
      "outputs": [
        {
          "output_type": "stream",
          "name": "stdout",
          "text": [
            "Saving TensorBoard log files to: model_logs/USE_10prec_model8_working/20230221-132512\n",
            "Epoch 1/5\n",
            "22/22 [==============================] - 2s 42ms/step - loss: 0.6688 - accuracy: 0.6964 - val_loss: 0.6470 - val_accuracy: 0.7192\n",
            "Epoch 2/5\n",
            "22/22 [==============================] - 1s 24ms/step - loss: 0.5966 - accuracy: 0.8058 - val_loss: 0.5877 - val_accuracy: 0.7677\n",
            "Epoch 3/5\n",
            "22/22 [==============================] - 0s 18ms/step - loss: 0.5211 - accuracy: 0.8234 - val_loss: 0.5336 - val_accuracy: 0.7730\n",
            "Epoch 4/5\n",
            "22/22 [==============================] - 1s 24ms/step - loss: 0.4598 - accuracy: 0.8204 - val_loss: 0.5026 - val_accuracy: 0.7690\n",
            "Epoch 5/5\n",
            "22/22 [==============================] - 0s 23ms/step - loss: 0.4202 - accuracy: 0.8292 - val_loss: 0.4875 - val_accuracy: 0.7756\n"
          ]
        }
      ]
    },
    {
      "cell_type": "code",
      "source": [
        "model_8_probs  = model_8.predict(val_sentences)\n",
        "model_8_predicts=tf.squeeze(tf.round(model_8_probs))\n",
        "model_8_results = hp.calculate_results(val_labels,model_8_predicts)\n",
        "model_8_results"
      ],
      "metadata": {
        "colab": {
          "base_uri": "https://localhost:8080/"
        },
        "id": "BxBr-mP5AyvJ",
        "outputId": "4b29e5e1-7e1c-4e09-aa9a-93ad8444098f"
      },
      "execution_count": null,
      "outputs": [
        {
          "output_type": "stream",
          "name": "stdout",
          "text": [
            "24/24 [==============================] - 1s 8ms/step\n"
          ]
        },
        {
          "output_type": "execute_result",
          "data": {
            "text/plain": [
              "{'accuracy': 77.55905511811024,\n",
              " 'precision': 0.7772070861555818,\n",
              " 'recall': 0.7755905511811023,\n",
              " 'f1': 0.7736182129212565}"
            ]
          },
          "metadata": {},
          "execution_count": 121
        }
      ]
    },
    {
      "cell_type": "markdown",
      "source": [
        "## Compare all models evaluation"
      ],
      "metadata": {
        "id": "iFS1TdyGBKi7"
      }
    },
    {
      "cell_type": "code",
      "source": [
        "model_all_evaluation = pd.DataFrame({\"0_baseline\":baseline_result,\n",
        "                                     \"1_simple_Dense\":model_1_results,\n",
        "                                     \"2_LSTM\":model_2_results,\n",
        "                                     \"3_GRU\":model_3_results,\n",
        "                                     \"4_Bidirectional\":model_4_results,\n",
        "                                     \"5_Conv1D\":model_5_results,\n",
        "                                     \"6_FE_USE_100%data\":model_6_results,\n",
        "                                     \"7_FE_USE_10%data-Leakage\":model_7_results,\n",
        "                                     \"8_FE_USE_10%data-Good\":model_8_results})\n",
        "model_all_evaluation=model_all_evaluation.transpose()\n",
        "model_all_evaluation"
      ],
      "metadata": {
        "colab": {
          "base_uri": "https://localhost:8080/",
          "height": 331
        },
        "id": "o1jXksmJBQap",
        "outputId": "21378eae-6246-4752-b3c3-269be2c065e2"
      },
      "execution_count": null,
      "outputs": [
        {
          "output_type": "execute_result",
          "data": {
            "text/plain": [
              "                           accuracy  precision    recall        f1\n",
              "0_baseline                79.265092   0.811139  0.792651  0.786219\n",
              "1_simple_Dense            78.477690   0.789583  0.784777  0.781750\n",
              "2_LSTM                    78.083990   0.786125  0.780840  0.777528\n",
              "3_GRU                     77.165354   0.779129  0.771654  0.767257\n",
              "4_Bidirectional           76.509186   0.764705  0.765092  0.764514\n",
              "5_Conv1D                  75.721785   0.758158  0.757218  0.755217\n",
              "6_FE_USE_100%data         81.233596   0.816322  0.812336  0.810247\n",
              "7_FE_USE_10%data-Leakage  82.545932   0.825618  0.825459  0.824903\n",
              "8_FE_USE_10%data-Good     77.559055   0.777207  0.775591  0.773618"
            ],
            "text/html": [
              "\n",
              "  <div id=\"df-0d245757-4880-46ae-b369-33083cf2aca8\">\n",
              "    <div class=\"colab-df-container\">\n",
              "      <div>\n",
              "<style scoped>\n",
              "    .dataframe tbody tr th:only-of-type {\n",
              "        vertical-align: middle;\n",
              "    }\n",
              "\n",
              "    .dataframe tbody tr th {\n",
              "        vertical-align: top;\n",
              "    }\n",
              "\n",
              "    .dataframe thead th {\n",
              "        text-align: right;\n",
              "    }\n",
              "</style>\n",
              "<table border=\"1\" class=\"dataframe\">\n",
              "  <thead>\n",
              "    <tr style=\"text-align: right;\">\n",
              "      <th></th>\n",
              "      <th>accuracy</th>\n",
              "      <th>precision</th>\n",
              "      <th>recall</th>\n",
              "      <th>f1</th>\n",
              "    </tr>\n",
              "  </thead>\n",
              "  <tbody>\n",
              "    <tr>\n",
              "      <th>0_baseline</th>\n",
              "      <td>79.265092</td>\n",
              "      <td>0.811139</td>\n",
              "      <td>0.792651</td>\n",
              "      <td>0.786219</td>\n",
              "    </tr>\n",
              "    <tr>\n",
              "      <th>1_simple_Dense</th>\n",
              "      <td>78.477690</td>\n",
              "      <td>0.789583</td>\n",
              "      <td>0.784777</td>\n",
              "      <td>0.781750</td>\n",
              "    </tr>\n",
              "    <tr>\n",
              "      <th>2_LSTM</th>\n",
              "      <td>78.083990</td>\n",
              "      <td>0.786125</td>\n",
              "      <td>0.780840</td>\n",
              "      <td>0.777528</td>\n",
              "    </tr>\n",
              "    <tr>\n",
              "      <th>3_GRU</th>\n",
              "      <td>77.165354</td>\n",
              "      <td>0.779129</td>\n",
              "      <td>0.771654</td>\n",
              "      <td>0.767257</td>\n",
              "    </tr>\n",
              "    <tr>\n",
              "      <th>4_Bidirectional</th>\n",
              "      <td>76.509186</td>\n",
              "      <td>0.764705</td>\n",
              "      <td>0.765092</td>\n",
              "      <td>0.764514</td>\n",
              "    </tr>\n",
              "    <tr>\n",
              "      <th>5_Conv1D</th>\n",
              "      <td>75.721785</td>\n",
              "      <td>0.758158</td>\n",
              "      <td>0.757218</td>\n",
              "      <td>0.755217</td>\n",
              "    </tr>\n",
              "    <tr>\n",
              "      <th>6_FE_USE_100%data</th>\n",
              "      <td>81.233596</td>\n",
              "      <td>0.816322</td>\n",
              "      <td>0.812336</td>\n",
              "      <td>0.810247</td>\n",
              "    </tr>\n",
              "    <tr>\n",
              "      <th>7_FE_USE_10%data-Leakage</th>\n",
              "      <td>82.545932</td>\n",
              "      <td>0.825618</td>\n",
              "      <td>0.825459</td>\n",
              "      <td>0.824903</td>\n",
              "    </tr>\n",
              "    <tr>\n",
              "      <th>8_FE_USE_10%data-Good</th>\n",
              "      <td>77.559055</td>\n",
              "      <td>0.777207</td>\n",
              "      <td>0.775591</td>\n",
              "      <td>0.773618</td>\n",
              "    </tr>\n",
              "  </tbody>\n",
              "</table>\n",
              "</div>\n",
              "      <button class=\"colab-df-convert\" onclick=\"convertToInteractive('df-0d245757-4880-46ae-b369-33083cf2aca8')\"\n",
              "              title=\"Convert this dataframe to an interactive table.\"\n",
              "              style=\"display:none;\">\n",
              "        \n",
              "  <svg xmlns=\"http://www.w3.org/2000/svg\" height=\"24px\"viewBox=\"0 0 24 24\"\n",
              "       width=\"24px\">\n",
              "    <path d=\"M0 0h24v24H0V0z\" fill=\"none\"/>\n",
              "    <path d=\"M18.56 5.44l.94 2.06.94-2.06 2.06-.94-2.06-.94-.94-2.06-.94 2.06-2.06.94zm-11 1L8.5 8.5l.94-2.06 2.06-.94-2.06-.94L8.5 2.5l-.94 2.06-2.06.94zm10 10l.94 2.06.94-2.06 2.06-.94-2.06-.94-.94-2.06-.94 2.06-2.06.94z\"/><path d=\"M17.41 7.96l-1.37-1.37c-.4-.4-.92-.59-1.43-.59-.52 0-1.04.2-1.43.59L10.3 9.45l-7.72 7.72c-.78.78-.78 2.05 0 2.83L4 21.41c.39.39.9.59 1.41.59.51 0 1.02-.2 1.41-.59l7.78-7.78 2.81-2.81c.8-.78.8-2.07 0-2.86zM5.41 20L4 18.59l7.72-7.72 1.47 1.35L5.41 20z\"/>\n",
              "  </svg>\n",
              "      </button>\n",
              "      \n",
              "  <style>\n",
              "    .colab-df-container {\n",
              "      display:flex;\n",
              "      flex-wrap:wrap;\n",
              "      gap: 12px;\n",
              "    }\n",
              "\n",
              "    .colab-df-convert {\n",
              "      background-color: #E8F0FE;\n",
              "      border: none;\n",
              "      border-radius: 50%;\n",
              "      cursor: pointer;\n",
              "      display: none;\n",
              "      fill: #1967D2;\n",
              "      height: 32px;\n",
              "      padding: 0 0 0 0;\n",
              "      width: 32px;\n",
              "    }\n",
              "\n",
              "    .colab-df-convert:hover {\n",
              "      background-color: #E2EBFA;\n",
              "      box-shadow: 0px 1px 2px rgba(60, 64, 67, 0.3), 0px 1px 3px 1px rgba(60, 64, 67, 0.15);\n",
              "      fill: #174EA6;\n",
              "    }\n",
              "\n",
              "    [theme=dark] .colab-df-convert {\n",
              "      background-color: #3B4455;\n",
              "      fill: #D2E3FC;\n",
              "    }\n",
              "\n",
              "    [theme=dark] .colab-df-convert:hover {\n",
              "      background-color: #434B5C;\n",
              "      box-shadow: 0px 1px 3px 1px rgba(0, 0, 0, 0.15);\n",
              "      filter: drop-shadow(0px 1px 2px rgba(0, 0, 0, 0.3));\n",
              "      fill: #FFFFFF;\n",
              "    }\n",
              "  </style>\n",
              "\n",
              "      <script>\n",
              "        const buttonEl =\n",
              "          document.querySelector('#df-0d245757-4880-46ae-b369-33083cf2aca8 button.colab-df-convert');\n",
              "        buttonEl.style.display =\n",
              "          google.colab.kernel.accessAllowed ? 'block' : 'none';\n",
              "\n",
              "        async function convertToInteractive(key) {\n",
              "          const element = document.querySelector('#df-0d245757-4880-46ae-b369-33083cf2aca8');\n",
              "          const dataTable =\n",
              "            await google.colab.kernel.invokeFunction('convertToInteractive',\n",
              "                                                     [key], {});\n",
              "          if (!dataTable) return;\n",
              "\n",
              "          const docLinkHtml = 'Like what you see? Visit the ' +\n",
              "            '<a target=\"_blank\" href=https://colab.research.google.com/notebooks/data_table.ipynb>data table notebook</a>'\n",
              "            + ' to learn more about interactive tables.';\n",
              "          element.innerHTML = '';\n",
              "          dataTable['output_type'] = 'display_data';\n",
              "          await google.colab.output.renderOutput(dataTable, element);\n",
              "          const docLink = document.createElement('div');\n",
              "          docLink.innerHTML = docLinkHtml;\n",
              "          element.appendChild(docLink);\n",
              "        }\n",
              "      </script>\n",
              "    </div>\n",
              "  </div>\n",
              "  "
            ]
          },
          "metadata": {},
          "execution_count": 122
        }
      ]
    },
    {
      "cell_type": "code",
      "source": [
        "#reduce accuracy to be same as other metrics\n",
        "model_all_evaluation[\"accuracy\"] = model_all_evaluation[\"accuracy\"]/10\n"
      ],
      "metadata": {
        "id": "9DUit40BCxes"
      },
      "execution_count": null,
      "outputs": []
    },
    {
      "cell_type": "code",
      "source": [
        "#Plot and comparrre of all the model results\n",
        "model_all_evaluation.plot(kind=\"bar\",figsize=(10,7)).legend(bbox_to_anchor=(1.0,1.0))"
      ],
      "metadata": {
        "colab": {
          "base_uri": "https://localhost:8080/",
          "height": 580
        },
        "id": "bZvFE6jCDe3s",
        "outputId": "be09bb84-7a41-40ef-b244-bb7ee6653d9b"
      },
      "execution_count": null,
      "outputs": [
        {
          "output_type": "execute_result",
          "data": {
            "text/plain": [
              "<matplotlib.legend.Legend at 0x7f4a53c5ed60>"
            ]
          },
          "metadata": {},
          "execution_count": 124
        },
        {
          "output_type": "display_data",
          "data": {
            "text/plain": [
              "<Figure size 720x504 with 1 Axes>"
            ],
            "image/png": "[encoded data removed]"
          },
          "metadata": {
            "needs_background": "light"
          }
        }
      ]
    },
    {
      "cell_type": "code",
      "source": [
        "# Sort model results by f1-score\n",
        "model_all_evaluation.sort_values(\"f1\",ascending=False)[\"f1\"].plot(kind=\"bar\",figsize=(10,7))"
      ],
      "metadata": {
        "colab": {
          "base_uri": "https://localhost:8080/",
          "height": 580
        },
        "id": "Nc-VvLf8EFmd",
        "outputId": "7280d891-85d0-4028-c955-8487ced48ae6"
      },
      "execution_count": null,
      "outputs": [
        {
          "output_type": "execute_result",
          "data": {
            "text/plain": [
              "<matplotlib.axes._subplots.AxesSubplot at 0x7f4a53b62a00>"
            ]
          },
          "metadata": {},
          "execution_count": 125
        },
        {
          "output_type": "display_data",
          "data": {
            "text/plain": [
              "<Figure size 720x504 with 1 Axes>"
            ],
            "image/png": "[encoded data removed]"
          },
          "metadata": {
            "needs_background": "light"
          }
        }
      ]
    },
    {
      "cell_type": "markdown",
      "source": [
        "## Uploading model training logs to tensorboard.dev"
      ],
      "metadata": {
        "id": "3bI9Xsc6Fo6P"
      }
    },
    {
      "cell_type": "code",
      "source": [
        "#Uploading Tensorboard dev records\n",
        "#!tensorboard dev upload --logdir ./model_logs/ \\\n",
        "#--name \"NLP Modelling Experiments\" \\\n",
        "#--description \"Comparing multiple types of architectures on Kaggle DS\" \\\n",
        "#--one_shot #exit uploader once uploading is finished\n"
      ],
      "metadata": {
        "id": "KZJHq-VPGEyo"
      },
      "execution_count": null,
      "outputs": []
    },
    {
      "cell_type": "code",
      "source": [
        "#See previous tensorboard dev experiments that were run\n",
        "#!tensorboard dev list"
      ],
      "metadata": {
        "id": "zl_uVndXcwiZ"
      },
      "execution_count": null,
      "outputs": []
    },
    {
      "cell_type": "code",
      "source": [
        "#To delete some stensorboard experiment to not people see it\n",
        "##!tensorboard dev delete --experiment_id W6nWaSdAQ66znSb3uJECMA\n",
        "\n",
        "#Weights and biases jest innym narzędziem do oglądania experymentów - POLEANY"
      ],
      "metadata": {
        "id": "CtopafH1fC0a"
      },
      "execution_count": null,
      "outputs": []
    },
    {
      "cell_type": "markdown",
      "source": [
        "# **Resource** \n",
        "- For largers experimenting Weights and Biases are even *better* than Tensorboard"
      ],
      "metadata": {
        "id": "5AZik60offzG"
      }
    },
    {
      "cell_type": "code",
      "source": [
        "tf.__version__"
      ],
      "metadata": {
        "colab": {
          "base_uri": "https://localhost:8080/",
          "height": 36
        },
        "id": "mJsSL23lfrk_",
        "outputId": "6a13bf03-4754-46fb-b92b-2702e0053655"
      },
      "execution_count": null,
      "outputs": [
        {
          "output_type": "execute_result",
          "data": {
            "text/plain": [
              "'2.11.0'"
            ],
            "application/vnd.google.colaboratory.intrinsic+json": {
              "type": "string"
            }
          },
          "metadata": {},
          "execution_count": 129
        }
      ]
    },
    {
      "cell_type": "markdown",
      "source": [
        "## Saving a model \n",
        "- One of format is HDF5\n",
        "- The Savedmodel format (default in Tensorflow)"
      ],
      "metadata": {
        "id": "KWXT6MD_f0qE"
      }
    },
    {
      "cell_type": "code",
      "source": [
        "#Save TF Hub Sentence Encoder model to HDF5 format\n",
        "model_6.save(\"model_6.h5\")"
      ],
      "metadata": {
        "id": "S1uJIchsgLBd"
      },
      "execution_count": null,
      "outputs": []
    },
    {
      "cell_type": "code",
      "source": [
        "#Load model with custom Hub layer (required with HDF5 format)\n",
        "import tensorflow_hub as hub\n",
        "loaded_model_6 = tf.keras.models.load_model(\"model_6.h5\",\n",
        "                                            custom_objects={\"KerasLayer\": hub.KerasLayer})"
      ],
      "metadata": {
        "id": "uMt0rVUjgU7t"
      },
      "execution_count": null,
      "outputs": []
    },
    {
      "cell_type": "code",
      "source": [
        "#How does loaded model perform?\n",
        "loaded_model_6.evaluate(val_sentences, val_labels)"
      ],
      "metadata": {
        "colab": {
          "base_uri": "https://localhost:8080/"
        },
        "id": "QLZeZyXVgy9v",
        "outputId": "e5c1bb23-4f8c-4341-d7b0-7898edd448cb"
      },
      "execution_count": null,
      "outputs": [
        {
          "output_type": "stream",
          "name": "stdout",
          "text": [
            "24/24 [==============================] - 1s 8ms/step - loss: 0.4273 - accuracy: 0.8123\n"
          ]
        },
        {
          "output_type": "execute_result",
          "data": {
            "text/plain": [
              "[0.42728129029273987, 0.8123359680175781]"
            ]
          },
          "metadata": {},
          "execution_count": 132
        }
      ]
    },
    {
      "cell_type": "code",
      "source": [
        "model_6_results"
      ],
      "metadata": {
        "colab": {
          "base_uri": "https://localhost:8080/"
        },
        "id": "_7Rq90TjhAXO",
        "outputId": "f95fbe50-2b1f-4a8c-b1e8-acfddeae468a"
      },
      "execution_count": null,
      "outputs": [
        {
          "output_type": "execute_result",
          "data": {
            "text/plain": [
              "{'accuracy': 81.23359580052494,\n",
              " 'precision': 0.8163219290181186,\n",
              " 'recall': 0.8123359580052494,\n",
              " 'f1': 0.8102465800135692}"
            ]
          },
          "metadata": {},
          "execution_count": 133
        }
      ]
    },
    {
      "cell_type": "code",
      "source": [
        "#Save TF Hub Sentence Encoder model to savemodel format\n",
        "model_6.save(\"model_6_savedmodel_format\")"
      ],
      "metadata": {
        "colab": {
          "base_uri": "https://localhost:8080/"
        },
        "id": "EoTeAcV0hCnb",
        "outputId": "510c181a-ac1c-4a83-ec7e-cb1c292a9001"
      },
      "execution_count": null,
      "outputs": [
        {
          "output_type": "stream",
          "name": "stderr",
          "text": [
            "WARNING:absl:Function `_wrapped_model` contains input name(s) USE_input with unsupported characters which will be renamed to use_input in the SavedModel.\n",
            "WARNING:absl:Found untraced functions such as _update_step_xla while saving (showing 1 of 1). These functions will not be directly callable after loading.\n"
          ]
        }
      ]
    },
    {
      "cell_type": "code",
      "source": [
        "loaded_model_savedformat_6 = tf.keras.models.load_model(\"model_6_savedmodel_format\")\n",
        "loaded_model_savedformat_6.evaluate(val_sentences,val_labels)"
      ],
      "metadata": {
        "colab": {
          "base_uri": "https://localhost:8080/"
        },
        "id": "UYr7WbGIhWVx",
        "outputId": "2bc30f2f-5cd8-4f89-f91c-59471369cf25"
      },
      "execution_count": null,
      "outputs": [
        {
          "output_type": "stream",
          "name": "stdout",
          "text": [
            "24/24 [==============================] - 1s 8ms/step - loss: 0.4273 - accuracy: 0.8123\n"
          ]
        },
        {
          "output_type": "execute_result",
          "data": {
            "text/plain": [
              "[0.42728129029273987, 0.8123359680175781]"
            ]
          },
          "metadata": {},
          "execution_count": 135
        }
      ]
    },
    {
      "cell_type": "code",
      "source": [
        "#from google.colab import files\n",
        "#files.download('model_6_savedmodel_format')"
      ],
      "metadata": {
        "id": "NKTRym2qh1li"
      },
      "execution_count": null,
      "outputs": []
    },
    {
      "cell_type": "markdown",
      "source": [
        "# Evaluating further - searching for worst predictions\n",
        "- Investigate why some predictions were extremely bad, maybe some mistakes in data set"
      ],
      "metadata": {
        "id": "uIqr1c3XjWio"
      }
    },
    {
      "cell_type": "code",
      "source": [
        "model_6_pred_probs[:10], len(model_6_pred_probs), len(val_labels), len(model_6_predicts)"
      ],
      "metadata": {
        "colab": {
          "base_uri": "https://localhost:8080/"
        },
        "id": "0nJbzSB1iKNE",
        "outputId": "dfb401cb-b4c8-4170-e57b-75647b8fa5b9"
      },
      "execution_count": null,
      "outputs": [
        {
          "output_type": "execute_result",
          "data": {
            "text/plain": [
              "(array([[0.1787136 ],\n",
              "        [0.7383488 ],\n",
              "        [0.99202996],\n",
              "        [0.20612627],\n",
              "        [0.70278484],\n",
              "        [0.66898876],\n",
              "        [0.9793355 ],\n",
              "        [0.97692686],\n",
              "        [0.95178217],\n",
              "        [0.09976571]], dtype=float32), 762, 762, 762)"
            ]
          },
          "metadata": {},
          "execution_count": 137
        }
      ]
    },
    {
      "cell_type": "code",
      "source": [
        "val_labels[:10], model_6_predicts[:10]"
      ],
      "metadata": {
        "colab": {
          "base_uri": "https://localhost:8080/"
        },
        "id": "vho8rYCTjJLO",
        "outputId": "f5603959-75b7-49ea-8144-69cc368e0895"
      },
      "execution_count": null,
      "outputs": [
        {
          "output_type": "execute_result",
          "data": {
            "text/plain": [
              "(array([0, 0, 1, 1, 1, 1, 1, 1, 1, 0]),\n",
              " <tf.Tensor: shape=(10,), dtype=float32, numpy=array([0., 1., 1., 0., 1., 1., 1., 1., 1., 0.], dtype=float32)>)"
            ]
          },
          "metadata": {},
          "execution_count": 138
        }
      ]
    },
    {
      "cell_type": "code",
      "source": [
        "pred_investigation = pd.DataFrame({\"pred_probs\":tf.squeeze(model_6_pred_probs),\n",
        "                                   \"predictions\":model_6_predicts,\n",
        "                                   \"true_labels\":val_labels,\n",
        "                                   \"sentences\": val_sentences})\n",
        "pred_investigation"
      ],
      "metadata": {
        "colab": {
          "base_uri": "https://localhost:8080/",
          "height": 423
        },
        "id": "XJ8RWAL-jq-g",
        "outputId": "d55854f4-ad3e-434f-cccf-f4c69447bf5b"
      },
      "execution_count": null,
      "outputs": [
        {
          "output_type": "execute_result",
          "data": {
            "text/plain": [
              "     pred_probs  predictions  true_labels  \\\n",
              "0      0.178714          0.0            0   \n",
              "1      0.738349          1.0            0   \n",
              "2      0.992030          1.0            1   \n",
              "3      0.206126          0.0            1   \n",
              "4      0.702785          1.0            1   \n",
              "..          ...          ...          ...   \n",
              "757    0.102956          0.0            0   \n",
              "758    0.130180          0.0            0   \n",
              "759    0.878309          1.0            0   \n",
              "760    0.623299          1.0            0   \n",
              "761    0.091916          0.0            0   \n",
              "\n",
              "                                             sentences  \n",
              "0    DFR EP016 Monthly Meltdown - On Dnbheaven 2015...  \n",
              "1    FedEx no longer to transport bioterror germs i...  \n",
              "2    Gunmen kill four in El Salvador bus attack: Su...  \n",
              "3    @camilacabello97 Internally and externally scr...  \n",
              "4    Radiation emergency #preparedness starts with ...  \n",
              "..                                                 ...  \n",
              "757            That's the ultimate road to destruction  \n",
              "758  @SetZorah dad why dont you claim me that mean ...  \n",
              "759  FedEx will no longer transport bioterror patho...  \n",
              "760  Crack in the path where I wiped out this morni...  \n",
              "761  I liked a @YouTube video from @dannyonpc http:...  \n",
              "\n",
              "[762 rows x 4 columns]"
            ],
            "text/html": [
              "\n",
              "  <div id=\"df-dfc0bd63-dd9b-4243-a638-4c7e9108f894\">\n",
              "    <div class=\"colab-df-container\">\n",
              "      <div>\n",
              "<style scoped>\n",
              "    .dataframe tbody tr th:only-of-type {\n",
              "        vertical-align: middle;\n",
              "    }\n",
              "\n",
              "    .dataframe tbody tr th {\n",
              "        vertical-align: top;\n",
              "    }\n",
              "\n",
              "    .dataframe thead th {\n",
              "        text-align: right;\n",
              "    }\n",
              "</style>\n",
              "<table border=\"1\" class=\"dataframe\">\n",
              "  <thead>\n",
              "    <tr style=\"text-align: right;\">\n",
              "      <th></th>\n",
              "      <th>pred_probs</th>\n",
              "      <th>predictions</th>\n",
              "      <th>true_labels</th>\n",
              "      <th>sentences</th>\n",
              "    </tr>\n",
              "  </thead>\n",
              "  <tbody>\n",
              "    <tr>\n",
              "      <th>0</th>\n",
              "      <td>0.178714</td>\n",
              "      <td>0.0</td>\n",
              "      <td>0</td>\n",
              "      <td>DFR EP016 Monthly Meltdown - On Dnbheaven 2015...</td>\n",
              "    </tr>\n",
              "    <tr>\n",
              "      <th>1</th>\n",
              "      <td>0.738349</td>\n",
              "      <td>1.0</td>\n",
              "      <td>0</td>\n",
              "      <td>FedEx no longer to transport bioterror germs i...</td>\n",
              "    </tr>\n",
              "    <tr>\n",
              "      <th>2</th>\n",
              "      <td>0.992030</td>\n",
              "      <td>1.0</td>\n",
              "      <td>1</td>\n",
              "      <td>Gunmen kill four in El Salvador bus attack: Su...</td>\n",
              "    </tr>\n",
              "    <tr>\n",
              "      <th>3</th>\n",
              "      <td>0.206126</td>\n",
              "      <td>0.0</td>\n",
              "      <td>1</td>\n",
              "      <td>@camilacabello97 Internally and externally scr...</td>\n",
              "    </tr>\n",
              "    <tr>\n",
              "      <th>4</th>\n",
              "      <td>0.702785</td>\n",
              "      <td>1.0</td>\n",
              "      <td>1</td>\n",
              "      <td>Radiation emergency #preparedness starts with ...</td>\n",
              "    </tr>\n",
              "    <tr>\n",
              "      <th>...</th>\n",
              "      <td>...</td>\n",
              "      <td>...</td>\n",
              "      <td>...</td>\n",
              "      <td>...</td>\n",
              "    </tr>\n",
              "    <tr>\n",
              "      <th>757</th>\n",
              "      <td>0.102956</td>\n",
              "      <td>0.0</td>\n",
              "      <td>0</td>\n",
              "      <td>That's the ultimate road to destruction</td>\n",
              "    </tr>\n",
              "    <tr>\n",
              "      <th>758</th>\n",
              "      <td>0.130180</td>\n",
              "      <td>0.0</td>\n",
              "      <td>0</td>\n",
              "      <td>@SetZorah dad why dont you claim me that mean ...</td>\n",
              "    </tr>\n",
              "    <tr>\n",
              "      <th>759</th>\n",
              "      <td>0.878309</td>\n",
              "      <td>1.0</td>\n",
              "      <td>0</td>\n",
              "      <td>FedEx will no longer transport bioterror patho...</td>\n",
              "    </tr>\n",
              "    <tr>\n",
              "      <th>760</th>\n",
              "      <td>0.623299</td>\n",
              "      <td>1.0</td>\n",
              "      <td>0</td>\n",
              "      <td>Crack in the path where I wiped out this morni...</td>\n",
              "    </tr>\n",
              "    <tr>\n",
              "      <th>761</th>\n",
              "      <td>0.091916</td>\n",
              "      <td>0.0</td>\n",
              "      <td>0</td>\n",
              "      <td>I liked a @YouTube video from @dannyonpc http:...</td>\n",
              "    </tr>\n",
              "  </tbody>\n",
              "</table>\n",
              "<p>762 rows × 4 columns</p>\n",
              "</div>\n",
              "      <button class=\"colab-df-convert\" onclick=\"convertToInteractive('df-dfc0bd63-dd9b-4243-a638-4c7e9108f894')\"\n",
              "              title=\"Convert this dataframe to an interactive table.\"\n",
              "              style=\"display:none;\">\n",
              "        \n",
              "  <svg xmlns=\"http://www.w3.org/2000/svg\" height=\"24px\"viewBox=\"0 0 24 24\"\n",
              "       width=\"24px\">\n",
              "    <path d=\"M0 0h24v24H0V0z\" fill=\"none\"/>\n",
              "    <path d=\"M18.56 5.44l.94 2.06.94-2.06 2.06-.94-2.06-.94-.94-2.06-.94 2.06-2.06.94zm-11 1L8.5 8.5l.94-2.06 2.06-.94-2.06-.94L8.5 2.5l-.94 2.06-2.06.94zm10 10l.94 2.06.94-2.06 2.06-.94-2.06-.94-.94-2.06-.94 2.06-2.06.94z\"/><path d=\"M17.41 7.96l-1.37-1.37c-.4-.4-.92-.59-1.43-.59-.52 0-1.04.2-1.43.59L10.3 9.45l-7.72 7.72c-.78.78-.78 2.05 0 2.83L4 21.41c.39.39.9.59 1.41.59.51 0 1.02-.2 1.41-.59l7.78-7.78 2.81-2.81c.8-.78.8-2.07 0-2.86zM5.41 20L4 18.59l7.72-7.72 1.47 1.35L5.41 20z\"/>\n",
              "  </svg>\n",
              "      </button>\n",
              "      \n",
              "  <style>\n",
              "    .colab-df-container {\n",
              "      display:flex;\n",
              "      flex-wrap:wrap;\n",
              "      gap: 12px;\n",
              "    }\n",
              "\n",
              "    .colab-df-convert {\n",
              "      background-color: #E8F0FE;\n",
              "      border: none;\n",
              "      border-radius: 50%;\n",
              "      cursor: pointer;\n",
              "      display: none;\n",
              "      fill: #1967D2;\n",
              "      height: 32px;\n",
              "      padding: 0 0 0 0;\n",
              "      width: 32px;\n",
              "    }\n",
              "\n",
              "    .colab-df-convert:hover {\n",
              "      background-color: #E2EBFA;\n",
              "      box-shadow: 0px 1px 2px rgba(60, 64, 67, 0.3), 0px 1px 3px 1px rgba(60, 64, 67, 0.15);\n",
              "      fill: #174EA6;\n",
              "    }\n",
              "\n",
              "    [theme=dark] .colab-df-convert {\n",
              "      background-color: #3B4455;\n",
              "      fill: #D2E3FC;\n",
              "    }\n",
              "\n",
              "    [theme=dark] .colab-df-convert:hover {\n",
              "      background-color: #434B5C;\n",
              "      box-shadow: 0px 1px 3px 1px rgba(0, 0, 0, 0.15);\n",
              "      filter: drop-shadow(0px 1px 2px rgba(0, 0, 0, 0.3));\n",
              "      fill: #FFFFFF;\n",
              "    }\n",
              "  </style>\n",
              "\n",
              "      <script>\n",
              "        const buttonEl =\n",
              "          document.querySelector('#df-dfc0bd63-dd9b-4243-a638-4c7e9108f894 button.colab-df-convert');\n",
              "        buttonEl.style.display =\n",
              "          google.colab.kernel.accessAllowed ? 'block' : 'none';\n",
              "\n",
              "        async function convertToInteractive(key) {\n",
              "          const element = document.querySelector('#df-dfc0bd63-dd9b-4243-a638-4c7e9108f894');\n",
              "          const dataTable =\n",
              "            await google.colab.kernel.invokeFunction('convertToInteractive',\n",
              "                                                     [key], {});\n",
              "          if (!dataTable) return;\n",
              "\n",
              "          const docLinkHtml = 'Like what you see? Visit the ' +\n",
              "            '<a target=\"_blank\" href=https://colab.research.google.com/notebooks/data_table.ipynb>data table notebook</a>'\n",
              "            + ' to learn more about interactive tables.';\n",
              "          element.innerHTML = '';\n",
              "          dataTable['output_type'] = 'display_data';\n",
              "          await google.colab.output.renderOutput(dataTable, element);\n",
              "          const docLink = document.createElement('div');\n",
              "          docLink.innerHTML = docLinkHtml;\n",
              "          element.appendChild(docLink);\n",
              "        }\n",
              "      </script>\n",
              "    </div>\n",
              "  </div>\n",
              "  "
            ]
          },
          "metadata": {},
          "execution_count": 139
        }
      ]
    },
    {
      "cell_type": "markdown",
      "source": [
        "##Visualizing the most wrong FALSE POSITIVES"
      ],
      "metadata": {
        "id": "GhSlkGg_rIpp"
      }
    },
    {
      "cell_type": "code",
      "source": [
        "pred_investigation[\"correct\"] = pred_investigation[\"predictions\"] == pred_investigation[\"true_labels\"]\n",
        "pred_investigation"
      ],
      "metadata": {
        "colab": {
          "base_uri": "https://localhost:8080/",
          "height": 423
        },
        "id": "SYMsvogvkEjU",
        "outputId": "9b904c46-bc43-4e59-f996-b70cfc3618e9"
      },
      "execution_count": null,
      "outputs": [
        {
          "output_type": "execute_result",
          "data": {
            "text/plain": [
              "     pred_probs  predictions  true_labels  \\\n",
              "0      0.178714          0.0            0   \n",
              "1      0.738349          1.0            0   \n",
              "2      0.992030          1.0            1   \n",
              "3      0.206126          0.0            1   \n",
              "4      0.702785          1.0            1   \n",
              "..          ...          ...          ...   \n",
              "757    0.102956          0.0            0   \n",
              "758    0.130180          0.0            0   \n",
              "759    0.878309          1.0            0   \n",
              "760    0.623299          1.0            0   \n",
              "761    0.091916          0.0            0   \n",
              "\n",
              "                                             sentences  correct  \n",
              "0    DFR EP016 Monthly Meltdown - On Dnbheaven 2015...     True  \n",
              "1    FedEx no longer to transport bioterror germs i...    False  \n",
              "2    Gunmen kill four in El Salvador bus attack: Su...     True  \n",
              "3    @camilacabello97 Internally and externally scr...    False  \n",
              "4    Radiation emergency #preparedness starts with ...     True  \n",
              "..                                                 ...      ...  \n",
              "757            That's the ultimate road to destruction     True  \n",
              "758  @SetZorah dad why dont you claim me that mean ...     True  \n",
              "759  FedEx will no longer transport bioterror patho...    False  \n",
              "760  Crack in the path where I wiped out this morni...    False  \n",
              "761  I liked a @YouTube video from @dannyonpc http:...     True  \n",
              "\n",
              "[762 rows x 5 columns]"
            ],
            "text/html": [
              "\n",
              "  <div id=\"df-63f6ee1d-1ff1-409f-a849-d8bbeffcc997\">\n",
              "    <div class=\"colab-df-container\">\n",
              "      <div>\n",
              "<style scoped>\n",
              "    .dataframe tbody tr th:only-of-type {\n",
              "        vertical-align: middle;\n",
              "    }\n",
              "\n",
              "    .dataframe tbody tr th {\n",
              "        vertical-align: top;\n",
              "    }\n",
              "\n",
              "    .dataframe thead th {\n",
              "        text-align: right;\n",
              "    }\n",
              "</style>\n",
              "<table border=\"1\" class=\"dataframe\">\n",
              "  <thead>\n",
              "    <tr style=\"text-align: right;\">\n",
              "      <th></th>\n",
              "      <th>pred_probs</th>\n",
              "      <th>predictions</th>\n",
              "      <th>true_labels</th>\n",
              "      <th>sentences</th>\n",
              "      <th>correct</th>\n",
              "    </tr>\n",
              "  </thead>\n",
              "  <tbody>\n",
              "    <tr>\n",
              "      <th>0</th>\n",
              "      <td>0.178714</td>\n",
              "      <td>0.0</td>\n",
              "      <td>0</td>\n",
              "      <td>DFR EP016 Monthly Meltdown - On Dnbheaven 2015...</td>\n",
              "      <td>True</td>\n",
              "    </tr>\n",
              "    <tr>\n",
              "      <th>1</th>\n",
              "      <td>0.738349</td>\n",
              "      <td>1.0</td>\n",
              "      <td>0</td>\n",
              "      <td>FedEx no longer to transport bioterror germs i...</td>\n",
              "      <td>False</td>\n",
              "    </tr>\n",
              "    <tr>\n",
              "      <th>2</th>\n",
              "      <td>0.992030</td>\n",
              "      <td>1.0</td>\n",
              "      <td>1</td>\n",
              "      <td>Gunmen kill four in El Salvador bus attack: Su...</td>\n",
              "      <td>True</td>\n",
              "    </tr>\n",
              "    <tr>\n",
              "      <th>3</th>\n",
              "      <td>0.206126</td>\n",
              "      <td>0.0</td>\n",
              "      <td>1</td>\n",
              "      <td>@camilacabello97 Internally and externally scr...</td>\n",
              "      <td>False</td>\n",
              "    </tr>\n",
              "    <tr>\n",
              "      <th>4</th>\n",
              "      <td>0.702785</td>\n",
              "      <td>1.0</td>\n",
              "      <td>1</td>\n",
              "      <td>Radiation emergency #preparedness starts with ...</td>\n",
              "      <td>True</td>\n",
              "    </tr>\n",
              "    <tr>\n",
              "      <th>...</th>\n",
              "      <td>...</td>\n",
              "      <td>...</td>\n",
              "      <td>...</td>\n",
              "      <td>...</td>\n",
              "      <td>...</td>\n",
              "    </tr>\n",
              "    <tr>\n",
              "      <th>757</th>\n",
              "      <td>0.102956</td>\n",
              "      <td>0.0</td>\n",
              "      <td>0</td>\n",
              "      <td>That's the ultimate road to destruction</td>\n",
              "      <td>True</td>\n",
              "    </tr>\n",
              "    <tr>\n",
              "      <th>758</th>\n",
              "      <td>0.130180</td>\n",
              "      <td>0.0</td>\n",
              "      <td>0</td>\n",
              "      <td>@SetZorah dad why dont you claim me that mean ...</td>\n",
              "      <td>True</td>\n",
              "    </tr>\n",
              "    <tr>\n",
              "      <th>759</th>\n",
              "      <td>0.878309</td>\n",
              "      <td>1.0</td>\n",
              "      <td>0</td>\n",
              "      <td>FedEx will no longer transport bioterror patho...</td>\n",
              "      <td>False</td>\n",
              "    </tr>\n",
              "    <tr>\n",
              "      <th>760</th>\n",
              "      <td>0.623299</td>\n",
              "      <td>1.0</td>\n",
              "      <td>0</td>\n",
              "      <td>Crack in the path where I wiped out this morni...</td>\n",
              "      <td>False</td>\n",
              "    </tr>\n",
              "    <tr>\n",
              "      <th>761</th>\n",
              "      <td>0.091916</td>\n",
              "      <td>0.0</td>\n",
              "      <td>0</td>\n",
              "      <td>I liked a @YouTube video from @dannyonpc http:...</td>\n",
              "      <td>True</td>\n",
              "    </tr>\n",
              "  </tbody>\n",
              "</table>\n",
              "<p>762 rows × 5 columns</p>\n",
              "</div>\n",
              "      <button class=\"colab-df-convert\" onclick=\"convertToInteractive('df-63f6ee1d-1ff1-409f-a849-d8bbeffcc997')\"\n",
              "              title=\"Convert this dataframe to an interactive table.\"\n",
              "              style=\"display:none;\">\n",
              "        \n",
              "  <svg xmlns=\"http://www.w3.org/2000/svg\" height=\"24px\"viewBox=\"0 0 24 24\"\n",
              "       width=\"24px\">\n",
              "    <path d=\"M0 0h24v24H0V0z\" fill=\"none\"/>\n",
              "    <path d=\"M18.56 5.44l.94 2.06.94-2.06 2.06-.94-2.06-.94-.94-2.06-.94 2.06-2.06.94zm-11 1L8.5 8.5l.94-2.06 2.06-.94-2.06-.94L8.5 2.5l-.94 2.06-2.06.94zm10 10l.94 2.06.94-2.06 2.06-.94-2.06-.94-.94-2.06-.94 2.06-2.06.94z\"/><path d=\"M17.41 7.96l-1.37-1.37c-.4-.4-.92-.59-1.43-.59-.52 0-1.04.2-1.43.59L10.3 9.45l-7.72 7.72c-.78.78-.78 2.05 0 2.83L4 21.41c.39.39.9.59 1.41.59.51 0 1.02-.2 1.41-.59l7.78-7.78 2.81-2.81c.8-.78.8-2.07 0-2.86zM5.41 20L4 18.59l7.72-7.72 1.47 1.35L5.41 20z\"/>\n",
              "  </svg>\n",
              "      </button>\n",
              "      \n",
              "  <style>\n",
              "    .colab-df-container {\n",
              "      display:flex;\n",
              "      flex-wrap:wrap;\n",
              "      gap: 12px;\n",
              "    }\n",
              "\n",
              "    .colab-df-convert {\n",
              "      background-color: #E8F0FE;\n",
              "      border: none;\n",
              "      border-radius: 50%;\n",
              "      cursor: pointer;\n",
              "      display: none;\n",
              "      fill: #1967D2;\n",
              "      height: 32px;\n",
              "      padding: 0 0 0 0;\n",
              "      width: 32px;\n",
              "    }\n",
              "\n",
              "    .colab-df-convert:hover {\n",
              "      background-color: #E2EBFA;\n",
              "      box-shadow: 0px 1px 2px rgba(60, 64, 67, 0.3), 0px 1px 3px 1px rgba(60, 64, 67, 0.15);\n",
              "      fill: #174EA6;\n",
              "    }\n",
              "\n",
              "    [theme=dark] .colab-df-convert {\n",
              "      background-color: #3B4455;\n",
              "      fill: #D2E3FC;\n",
              "    }\n",
              "\n",
              "    [theme=dark] .colab-df-convert:hover {\n",
              "      background-color: #434B5C;\n",
              "      box-shadow: 0px 1px 3px 1px rgba(0, 0, 0, 0.15);\n",
              "      filter: drop-shadow(0px 1px 2px rgba(0, 0, 0, 0.3));\n",
              "      fill: #FFFFFF;\n",
              "    }\n",
              "  </style>\n",
              "\n",
              "      <script>\n",
              "        const buttonEl =\n",
              "          document.querySelector('#df-63f6ee1d-1ff1-409f-a849-d8bbeffcc997 button.colab-df-convert');\n",
              "        buttonEl.style.display =\n",
              "          google.colab.kernel.accessAllowed ? 'block' : 'none';\n",
              "\n",
              "        async function convertToInteractive(key) {\n",
              "          const element = document.querySelector('#df-63f6ee1d-1ff1-409f-a849-d8bbeffcc997');\n",
              "          const dataTable =\n",
              "            await google.colab.kernel.invokeFunction('convertToInteractive',\n",
              "                                                     [key], {});\n",
              "          if (!dataTable) return;\n",
              "\n",
              "          const docLinkHtml = 'Like what you see? Visit the ' +\n",
              "            '<a target=\"_blank\" href=https://colab.research.google.com/notebooks/data_table.ipynb>data table notebook</a>'\n",
              "            + ' to learn more about interactive tables.';\n",
              "          element.innerHTML = '';\n",
              "          dataTable['output_type'] = 'display_data';\n",
              "          await google.colab.output.renderOutput(dataTable, element);\n",
              "          const docLink = document.createElement('div');\n",
              "          docLink.innerHTML = docLinkHtml;\n",
              "          element.appendChild(docLink);\n",
              "        }\n",
              "      </script>\n",
              "    </div>\n",
              "  </div>\n",
              "  "
            ]
          },
          "metadata": {},
          "execution_count": 140
        }
      ]
    },
    {
      "cell_type": "code",
      "source": [
        "pred_investigation_false = pred_investigation[pred_investigation[\"correct\"]==False].sort_values(\"pred_probs\",ascending=False)\n",
        "pred_investigation_false"
      ],
      "metadata": {
        "colab": {
          "base_uri": "https://localhost:8080/",
          "height": 423
        },
        "id": "iqwN-zxdkfan",
        "outputId": "96644e32-5e82-4a5b-93cd-a58ce408eb5a"
      },
      "execution_count": null,
      "outputs": [
        {
          "output_type": "execute_result",
          "data": {
            "text/plain": [
              "     pred_probs  predictions  true_labels  \\\n",
              "31     0.897292          1.0            0   \n",
              "759    0.878309          1.0            0   \n",
              "628    0.871702          1.0            0   \n",
              "251    0.837132          1.0            0   \n",
              "49     0.813412          1.0            0   \n",
              "..          ...          ...          ...   \n",
              "59     0.049109          0.0            1   \n",
              "233    0.046055          0.0            1   \n",
              "38     0.044564          0.0            1   \n",
              "23     0.036711          0.0            1   \n",
              "244    0.036258          0.0            1   \n",
              "\n",
              "                                             sentences  correct  \n",
              "31   ? High Skies - Burning Buildings ? http://t.co...    False  \n",
              "759  FedEx will no longer transport bioterror patho...    False  \n",
              "628  @noah_anyname That's where the concentration c...    False  \n",
              "251  @AshGhebranious civil rights continued in the ...    False  \n",
              "49   @madonnamking RSPCA site multiple 7 story high...    False  \n",
              "..                                                 ...      ...  \n",
              "59   You can never escape me. Bullets don't harm me...    False  \n",
              "233                    I get to smoke my shit in peace    False  \n",
              "38   Why are you deluged with low self-image? Take ...    False  \n",
              "23   Ron &amp; Fez - Dave's High School Crush https...    False  \n",
              "244  Reddit Will Now QuarantineÛ_ http://t.co/pkUA...    False  \n",
              "\n",
              "[143 rows x 5 columns]"
            ],
            "text/html": [
              "\n",
              "  <div id=\"df-3525c6e2-1382-400c-b6b7-b6d32f879808\">\n",
              "    <div class=\"colab-df-container\">\n",
              "      <div>\n",
              "<style scoped>\n",
              "    .dataframe tbody tr th:only-of-type {\n",
              "        vertical-align: middle;\n",
              "    }\n",
              "\n",
              "    .dataframe tbody tr th {\n",
              "        vertical-align: top;\n",
              "    }\n",
              "\n",
              "    .dataframe thead th {\n",
              "        text-align: right;\n",
              "    }\n",
              "</style>\n",
              "<table border=\"1\" class=\"dataframe\">\n",
              "  <thead>\n",
              "    <tr style=\"text-align: right;\">\n",
              "      <th></th>\n",
              "      <th>pred_probs</th>\n",
              "      <th>predictions</th>\n",
              "      <th>true_labels</th>\n",
              "      <th>sentences</th>\n",
              "      <th>correct</th>\n",
              "    </tr>\n",
              "  </thead>\n",
              "  <tbody>\n",
              "    <tr>\n",
              "      <th>31</th>\n",
              "      <td>0.897292</td>\n",
              "      <td>1.0</td>\n",
              "      <td>0</td>\n",
              "      <td>? High Skies - Burning Buildings ? http://t.co...</td>\n",
              "      <td>False</td>\n",
              "    </tr>\n",
              "    <tr>\n",
              "      <th>759</th>\n",
              "      <td>0.878309</td>\n",
              "      <td>1.0</td>\n",
              "      <td>0</td>\n",
              "      <td>FedEx will no longer transport bioterror patho...</td>\n",
              "      <td>False</td>\n",
              "    </tr>\n",
              "    <tr>\n",
              "      <th>628</th>\n",
              "      <td>0.871702</td>\n",
              "      <td>1.0</td>\n",
              "      <td>0</td>\n",
              "      <td>@noah_anyname That's where the concentration c...</td>\n",
              "      <td>False</td>\n",
              "    </tr>\n",
              "    <tr>\n",
              "      <th>251</th>\n",
              "      <td>0.837132</td>\n",
              "      <td>1.0</td>\n",
              "      <td>0</td>\n",
              "      <td>@AshGhebranious civil rights continued in the ...</td>\n",
              "      <td>False</td>\n",
              "    </tr>\n",
              "    <tr>\n",
              "      <th>49</th>\n",
              "      <td>0.813412</td>\n",
              "      <td>1.0</td>\n",
              "      <td>0</td>\n",
              "      <td>@madonnamking RSPCA site multiple 7 story high...</td>\n",
              "      <td>False</td>\n",
              "    </tr>\n",
              "    <tr>\n",
              "      <th>...</th>\n",
              "      <td>...</td>\n",
              "      <td>...</td>\n",
              "      <td>...</td>\n",
              "      <td>...</td>\n",
              "      <td>...</td>\n",
              "    </tr>\n",
              "    <tr>\n",
              "      <th>59</th>\n",
              "      <td>0.049109</td>\n",
              "      <td>0.0</td>\n",
              "      <td>1</td>\n",
              "      <td>You can never escape me. Bullets don't harm me...</td>\n",
              "      <td>False</td>\n",
              "    </tr>\n",
              "    <tr>\n",
              "      <th>233</th>\n",
              "      <td>0.046055</td>\n",
              "      <td>0.0</td>\n",
              "      <td>1</td>\n",
              "      <td>I get to smoke my shit in peace</td>\n",
              "      <td>False</td>\n",
              "    </tr>\n",
              "    <tr>\n",
              "      <th>38</th>\n",
              "      <td>0.044564</td>\n",
              "      <td>0.0</td>\n",
              "      <td>1</td>\n",
              "      <td>Why are you deluged with low self-image? Take ...</td>\n",
              "      <td>False</td>\n",
              "    </tr>\n",
              "    <tr>\n",
              "      <th>23</th>\n",
              "      <td>0.036711</td>\n",
              "      <td>0.0</td>\n",
              "      <td>1</td>\n",
              "      <td>Ron &amp;amp; Fez - Dave's High School Crush https...</td>\n",
              "      <td>False</td>\n",
              "    </tr>\n",
              "    <tr>\n",
              "      <th>244</th>\n",
              "      <td>0.036258</td>\n",
              "      <td>0.0</td>\n",
              "      <td>1</td>\n",
              "      <td>Reddit Will Now QuarantineÛ_ http://t.co/pkUA...</td>\n",
              "      <td>False</td>\n",
              "    </tr>\n",
              "  </tbody>\n",
              "</table>\n",
              "<p>143 rows × 5 columns</p>\n",
              "</div>\n",
              "      <button class=\"colab-df-convert\" onclick=\"convertToInteractive('df-3525c6e2-1382-400c-b6b7-b6d32f879808')\"\n",
              "              title=\"Convert this dataframe to an interactive table.\"\n",
              "              style=\"display:none;\">\n",
              "        \n",
              "  <svg xmlns=\"http://www.w3.org/2000/svg\" height=\"24px\"viewBox=\"0 0 24 24\"\n",
              "       width=\"24px\">\n",
              "    <path d=\"M0 0h24v24H0V0z\" fill=\"none\"/>\n",
              "    <path d=\"M18.56 5.44l.94 2.06.94-2.06 2.06-.94-2.06-.94-.94-2.06-.94 2.06-2.06.94zm-11 1L8.5 8.5l.94-2.06 2.06-.94-2.06-.94L8.5 2.5l-.94 2.06-2.06.94zm10 10l.94 2.06.94-2.06 2.06-.94-2.06-.94-.94-2.06-.94 2.06-2.06.94z\"/><path d=\"M17.41 7.96l-1.37-1.37c-.4-.4-.92-.59-1.43-.59-.52 0-1.04.2-1.43.59L10.3 9.45l-7.72 7.72c-.78.78-.78 2.05 0 2.83L4 21.41c.39.39.9.59 1.41.59.51 0 1.02-.2 1.41-.59l7.78-7.78 2.81-2.81c.8-.78.8-2.07 0-2.86zM5.41 20L4 18.59l7.72-7.72 1.47 1.35L5.41 20z\"/>\n",
              "  </svg>\n",
              "      </button>\n",
              "      \n",
              "  <style>\n",
              "    .colab-df-container {\n",
              "      display:flex;\n",
              "      flex-wrap:wrap;\n",
              "      gap: 12px;\n",
              "    }\n",
              "\n",
              "    .colab-df-convert {\n",
              "      background-color: #E8F0FE;\n",
              "      border: none;\n",
              "      border-radius: 50%;\n",
              "      cursor: pointer;\n",
              "      display: none;\n",
              "      fill: #1967D2;\n",
              "      height: 32px;\n",
              "      padding: 0 0 0 0;\n",
              "      width: 32px;\n",
              "    }\n",
              "\n",
              "    .colab-df-convert:hover {\n",
              "      background-color: #E2EBFA;\n",
              "      box-shadow: 0px 1px 2px rgba(60, 64, 67, 0.3), 0px 1px 3px 1px rgba(60, 64, 67, 0.15);\n",
              "      fill: #174EA6;\n",
              "    }\n",
              "\n",
              "    [theme=dark] .colab-df-convert {\n",
              "      background-color: #3B4455;\n",
              "      fill: #D2E3FC;\n",
              "    }\n",
              "\n",
              "    [theme=dark] .colab-df-convert:hover {\n",
              "      background-color: #434B5C;\n",
              "      box-shadow: 0px 1px 3px 1px rgba(0, 0, 0, 0.15);\n",
              "      filter: drop-shadow(0px 1px 2px rgba(0, 0, 0, 0.3));\n",
              "      fill: #FFFFFF;\n",
              "    }\n",
              "  </style>\n",
              "\n",
              "      <script>\n",
              "        const buttonEl =\n",
              "          document.querySelector('#df-3525c6e2-1382-400c-b6b7-b6d32f879808 button.colab-df-convert');\n",
              "        buttonEl.style.display =\n",
              "          google.colab.kernel.accessAllowed ? 'block' : 'none';\n",
              "\n",
              "        async function convertToInteractive(key) {\n",
              "          const element = document.querySelector('#df-3525c6e2-1382-400c-b6b7-b6d32f879808');\n",
              "          const dataTable =\n",
              "            await google.colab.kernel.invokeFunction('convertToInteractive',\n",
              "                                                     [key], {});\n",
              "          if (!dataTable) return;\n",
              "\n",
              "          const docLinkHtml = 'Like what you see? Visit the ' +\n",
              "            '<a target=\"_blank\" href=https://colab.research.google.com/notebooks/data_table.ipynb>data table notebook</a>'\n",
              "            + ' to learn more about interactive tables.';\n",
              "          element.innerHTML = '';\n",
              "          dataTable['output_type'] = 'display_data';\n",
              "          await google.colab.output.renderOutput(dataTable, element);\n",
              "          const docLink = document.createElement('div');\n",
              "          docLink.innerHTML = docLinkHtml;\n",
              "          element.appendChild(docLink);\n",
              "        }\n",
              "      </script>\n",
              "    </div>\n",
              "  </div>\n",
              "  "
            ]
          },
          "metadata": {},
          "execution_count": 141
        }
      ]
    },
    {
      "cell_type": "code",
      "source": [
        "pred_investigation_false[\"predictions\"].value_counts()"
      ],
      "metadata": {
        "colab": {
          "base_uri": "https://localhost:8080/"
        },
        "id": "g1LQuavQkxyh",
        "outputId": "ebcd362e-eedf-4b85-fe7c-3930c239bc81"
      },
      "execution_count": null,
      "outputs": [
        {
          "output_type": "execute_result",
          "data": {
            "text/plain": [
              "0.0    98\n",
              "1.0    45\n",
              "Name: predictions, dtype: int64"
            ]
          },
          "metadata": {},
          "execution_count": 142
        }
      ]
    },
    {
      "cell_type": "code",
      "source": [
        "for row in pred_investigation_false[['sentences','pred_probs']][0:10].itertuples():\n",
        "  _,sentence,pred_probs =row\n",
        "  print(f\"Pred probability: {pred_probs} - Predicted as\", \" real disaster.\" if tf.round(pred_probs)==1 else \"not real disaster\" )\n",
        "  print(f\"\\nSentence: {sentence}\")\n",
        "  print(\"----\\n\")"
      ],
      "metadata": {
        "colab": {
          "base_uri": "https://localhost:8080/"
        },
        "id": "4o4t5BSklhAY",
        "outputId": "58fdff9a-26cc-42b0-b4c8-576ce776b2f3"
      },
      "execution_count": null,
      "outputs": [
        {
          "output_type": "stream",
          "name": "stdout",
          "text": [
            "Pred probability: 0.8972917795181274 - Predicted as  real disaster.\n",
            "\n",
            "Sentence: ? High Skies - Burning Buildings ? http://t.co/uVq41i3Kx2 #nowplaying\n",
            "----\n",
            "\n",
            "Pred probability: 0.878308892250061 - Predicted as  real disaster.\n",
            "\n",
            "Sentence: FedEx will no longer transport bioterror pathogens in wake of anthrax lab mishaps http://t.co/lHpgxc4b8J\n",
            "----\n",
            "\n",
            "Pred probability: 0.8717024326324463 - Predicted as  real disaster.\n",
            "\n",
            "Sentence: @noah_anyname That's where the concentration camps and mass murder come in. \n",
            " \n",
            "EVERY. FUCKING. TIME.\n",
            "----\n",
            "\n",
            "Pred probability: 0.837131917476654 - Predicted as  real disaster.\n",
            "\n",
            "Sentence: @AshGhebranious civil rights continued in the 60s. And what about trans-generational trauma? if anything we should listen to the Americans.\n",
            "----\n",
            "\n",
            "Pred probability: 0.8134124875068665 - Predicted as  real disaster.\n",
            "\n",
            "Sentence: @madonnamking RSPCA site multiple 7 story high rise buildings next to low density character residential in an area that floods\n",
            "----\n",
            "\n",
            "Pred probability: 0.8121768832206726 - Predicted as  real disaster.\n",
            "\n",
            "Sentence: [55436] 1950 LIONEL TRAINS SMOKE LOCOMOTIVES WITH MAGNE-TRACTION INSTRUCTIONS http://t.co/xEZBs3sq0y http://t.co/C2x0QoKGlY\n",
            "----\n",
            "\n",
            "Pred probability: 0.7931488752365112 - Predicted as  real disaster.\n",
            "\n",
            "Sentence: @SonofLiberty357 all illuminated by the brightly burning buildings all around the town!\n",
            "----\n",
            "\n",
            "Pred probability: 0.7742074131965637 - Predicted as  real disaster.\n",
            "\n",
            "Sentence: Ashes 2015: AustraliaÛªs collapse at Trent Bridge among worst in history: England bundled out Australia for 60 ... http://t.co/t5TrhjUAU0\n",
            "----\n",
            "\n",
            "Pred probability: 0.7652864456176758 - Predicted as  real disaster.\n",
            "\n",
            "Sentence: Deaths 3 http://t.co/nApviyGKYK\n",
            "----\n",
            "\n",
            "Pred probability: 0.7580593824386597 - Predicted as  real disaster.\n",
            "\n",
            "Sentence: The Sound of Arson\n",
            "----\n",
            "\n"
          ]
        }
      ]
    },
    {
      "cell_type": "markdown",
      "source": [
        "##Visualizing the most wrong FALSE NEGATIVES"
      ],
      "metadata": {
        "id": "AxNAS1Fbq_ar"
      }
    },
    {
      "cell_type": "code",
      "source": [
        "pred_investigation_false2 = pred_investigation[pred_investigation[\"correct\"]==False].sort_values(\"pred_probs\")\n",
        "pred_investigation_false2"
      ],
      "metadata": {
        "colab": {
          "base_uri": "https://localhost:8080/",
          "height": 423
        },
        "id": "JQLsWxAll0kG",
        "outputId": "2ad676d3-a83c-4462-d322-f6ac3f84e07f"
      },
      "execution_count": null,
      "outputs": [
        {
          "output_type": "execute_result",
          "data": {
            "text/plain": [
              "     pred_probs  predictions  true_labels  \\\n",
              "244    0.036258          0.0            1   \n",
              "23     0.036711          0.0            1   \n",
              "38     0.044564          0.0            1   \n",
              "233    0.046055          0.0            1   \n",
              "59     0.049109          0.0            1   \n",
              "..          ...          ...          ...   \n",
              "49     0.813412          1.0            0   \n",
              "251    0.837132          1.0            0   \n",
              "628    0.871702          1.0            0   \n",
              "759    0.878309          1.0            0   \n",
              "31     0.897292          1.0            0   \n",
              "\n",
              "                                             sentences  correct  \n",
              "244  Reddit Will Now QuarantineÛ_ http://t.co/pkUA...    False  \n",
              "23   Ron &amp; Fez - Dave's High School Crush https...    False  \n",
              "38   Why are you deluged with low self-image? Take ...    False  \n",
              "233                    I get to smoke my shit in peace    False  \n",
              "59   You can never escape me. Bullets don't harm me...    False  \n",
              "..                                                 ...      ...  \n",
              "49   @madonnamking RSPCA site multiple 7 story high...    False  \n",
              "251  @AshGhebranious civil rights continued in the ...    False  \n",
              "628  @noah_anyname That's where the concentration c...    False  \n",
              "759  FedEx will no longer transport bioterror patho...    False  \n",
              "31   ? High Skies - Burning Buildings ? http://t.co...    False  \n",
              "\n",
              "[143 rows x 5 columns]"
            ],
            "text/html": [
              "\n",
              "  <div id=\"df-cedfab72-389c-42fa-ae79-637f57f46996\">\n",
              "    <div class=\"colab-df-container\">\n",
              "      <div>\n",
              "<style scoped>\n",
              "    .dataframe tbody tr th:only-of-type {\n",
              "        vertical-align: middle;\n",
              "    }\n",
              "\n",
              "    .dataframe tbody tr th {\n",
              "        vertical-align: top;\n",
              "    }\n",
              "\n",
              "    .dataframe thead th {\n",
              "        text-align: right;\n",
              "    }\n",
              "</style>\n",
              "<table border=\"1\" class=\"dataframe\">\n",
              "  <thead>\n",
              "    <tr style=\"text-align: right;\">\n",
              "      <th></th>\n",
              "      <th>pred_probs</th>\n",
              "      <th>predictions</th>\n",
              "      <th>true_labels</th>\n",
              "      <th>sentences</th>\n",
              "      <th>correct</th>\n",
              "    </tr>\n",
              "  </thead>\n",
              "  <tbody>\n",
              "    <tr>\n",
              "      <th>244</th>\n",
              "      <td>0.036258</td>\n",
              "      <td>0.0</td>\n",
              "      <td>1</td>\n",
              "      <td>Reddit Will Now QuarantineÛ_ http://t.co/pkUA...</td>\n",
              "      <td>False</td>\n",
              "    </tr>\n",
              "    <tr>\n",
              "      <th>23</th>\n",
              "      <td>0.036711</td>\n",
              "      <td>0.0</td>\n",
              "      <td>1</td>\n",
              "      <td>Ron &amp;amp; Fez - Dave's High School Crush https...</td>\n",
              "      <td>False</td>\n",
              "    </tr>\n",
              "    <tr>\n",
              "      <th>38</th>\n",
              "      <td>0.044564</td>\n",
              "      <td>0.0</td>\n",
              "      <td>1</td>\n",
              "      <td>Why are you deluged with low self-image? Take ...</td>\n",
              "      <td>False</td>\n",
              "    </tr>\n",
              "    <tr>\n",
              "      <th>233</th>\n",
              "      <td>0.046055</td>\n",
              "      <td>0.0</td>\n",
              "      <td>1</td>\n",
              "      <td>I get to smoke my shit in peace</td>\n",
              "      <td>False</td>\n",
              "    </tr>\n",
              "    <tr>\n",
              "      <th>59</th>\n",
              "      <td>0.049109</td>\n",
              "      <td>0.0</td>\n",
              "      <td>1</td>\n",
              "      <td>You can never escape me. Bullets don't harm me...</td>\n",
              "      <td>False</td>\n",
              "    </tr>\n",
              "    <tr>\n",
              "      <th>...</th>\n",
              "      <td>...</td>\n",
              "      <td>...</td>\n",
              "      <td>...</td>\n",
              "      <td>...</td>\n",
              "      <td>...</td>\n",
              "    </tr>\n",
              "    <tr>\n",
              "      <th>49</th>\n",
              "      <td>0.813412</td>\n",
              "      <td>1.0</td>\n",
              "      <td>0</td>\n",
              "      <td>@madonnamking RSPCA site multiple 7 story high...</td>\n",
              "      <td>False</td>\n",
              "    </tr>\n",
              "    <tr>\n",
              "      <th>251</th>\n",
              "      <td>0.837132</td>\n",
              "      <td>1.0</td>\n",
              "      <td>0</td>\n",
              "      <td>@AshGhebranious civil rights continued in the ...</td>\n",
              "      <td>False</td>\n",
              "    </tr>\n",
              "    <tr>\n",
              "      <th>628</th>\n",
              "      <td>0.871702</td>\n",
              "      <td>1.0</td>\n",
              "      <td>0</td>\n",
              "      <td>@noah_anyname That's where the concentration c...</td>\n",
              "      <td>False</td>\n",
              "    </tr>\n",
              "    <tr>\n",
              "      <th>759</th>\n",
              "      <td>0.878309</td>\n",
              "      <td>1.0</td>\n",
              "      <td>0</td>\n",
              "      <td>FedEx will no longer transport bioterror patho...</td>\n",
              "      <td>False</td>\n",
              "    </tr>\n",
              "    <tr>\n",
              "      <th>31</th>\n",
              "      <td>0.897292</td>\n",
              "      <td>1.0</td>\n",
              "      <td>0</td>\n",
              "      <td>? High Skies - Burning Buildings ? http://t.co...</td>\n",
              "      <td>False</td>\n",
              "    </tr>\n",
              "  </tbody>\n",
              "</table>\n",
              "<p>143 rows × 5 columns</p>\n",
              "</div>\n",
              "      <button class=\"colab-df-convert\" onclick=\"convertToInteractive('df-cedfab72-389c-42fa-ae79-637f57f46996')\"\n",
              "              title=\"Convert this dataframe to an interactive table.\"\n",
              "              style=\"display:none;\">\n",
              "        \n",
              "  <svg xmlns=\"http://www.w3.org/2000/svg\" height=\"24px\"viewBox=\"0 0 24 24\"\n",
              "       width=\"24px\">\n",
              "    <path d=\"M0 0h24v24H0V0z\" fill=\"none\"/>\n",
              "    <path d=\"M18.56 5.44l.94 2.06.94-2.06 2.06-.94-2.06-.94-.94-2.06-.94 2.06-2.06.94zm-11 1L8.5 8.5l.94-2.06 2.06-.94-2.06-.94L8.5 2.5l-.94 2.06-2.06.94zm10 10l.94 2.06.94-2.06 2.06-.94-2.06-.94-.94-2.06-.94 2.06-2.06.94z\"/><path d=\"M17.41 7.96l-1.37-1.37c-.4-.4-.92-.59-1.43-.59-.52 0-1.04.2-1.43.59L10.3 9.45l-7.72 7.72c-.78.78-.78 2.05 0 2.83L4 21.41c.39.39.9.59 1.41.59.51 0 1.02-.2 1.41-.59l7.78-7.78 2.81-2.81c.8-.78.8-2.07 0-2.86zM5.41 20L4 18.59l7.72-7.72 1.47 1.35L5.41 20z\"/>\n",
              "  </svg>\n",
              "      </button>\n",
              "      \n",
              "  <style>\n",
              "    .colab-df-container {\n",
              "      display:flex;\n",
              "      flex-wrap:wrap;\n",
              "      gap: 12px;\n",
              "    }\n",
              "\n",
              "    .colab-df-convert {\n",
              "      background-color: #E8F0FE;\n",
              "      border: none;\n",
              "      border-radius: 50%;\n",
              "      cursor: pointer;\n",
              "      display: none;\n",
              "      fill: #1967D2;\n",
              "      height: 32px;\n",
              "      padding: 0 0 0 0;\n",
              "      width: 32px;\n",
              "    }\n",
              "\n",
              "    .colab-df-convert:hover {\n",
              "      background-color: #E2EBFA;\n",
              "      box-shadow: 0px 1px 2px rgba(60, 64, 67, 0.3), 0px 1px 3px 1px rgba(60, 64, 67, 0.15);\n",
              "      fill: #174EA6;\n",
              "    }\n",
              "\n",
              "    [theme=dark] .colab-df-convert {\n",
              "      background-color: #3B4455;\n",
              "      fill: #D2E3FC;\n",
              "    }\n",
              "\n",
              "    [theme=dark] .colab-df-convert:hover {\n",
              "      background-color: #434B5C;\n",
              "      box-shadow: 0px 1px 3px 1px rgba(0, 0, 0, 0.15);\n",
              "      filter: drop-shadow(0px 1px 2px rgba(0, 0, 0, 0.3));\n",
              "      fill: #FFFFFF;\n",
              "    }\n",
              "  </style>\n",
              "\n",
              "      <script>\n",
              "        const buttonEl =\n",
              "          document.querySelector('#df-cedfab72-389c-42fa-ae79-637f57f46996 button.colab-df-convert');\n",
              "        buttonEl.style.display =\n",
              "          google.colab.kernel.accessAllowed ? 'block' : 'none';\n",
              "\n",
              "        async function convertToInteractive(key) {\n",
              "          const element = document.querySelector('#df-cedfab72-389c-42fa-ae79-637f57f46996');\n",
              "          const dataTable =\n",
              "            await google.colab.kernel.invokeFunction('convertToInteractive',\n",
              "                                                     [key], {});\n",
              "          if (!dataTable) return;\n",
              "\n",
              "          const docLinkHtml = 'Like what you see? Visit the ' +\n",
              "            '<a target=\"_blank\" href=https://colab.research.google.com/notebooks/data_table.ipynb>data table notebook</a>'\n",
              "            + ' to learn more about interactive tables.';\n",
              "          element.innerHTML = '';\n",
              "          dataTable['output_type'] = 'display_data';\n",
              "          await google.colab.output.renderOutput(dataTable, element);\n",
              "          const docLink = document.createElement('div');\n",
              "          docLink.innerHTML = docLinkHtml;\n",
              "          element.appendChild(docLink);\n",
              "        }\n",
              "      </script>\n",
              "    </div>\n",
              "  </div>\n",
              "  "
            ]
          },
          "metadata": {},
          "execution_count": 144
        }
      ]
    },
    {
      "cell_type": "code",
      "source": [
        "for row in pred_investigation_false2[['sentences','pred_probs']][0:10].itertuples():\n",
        "  _,sentence,pred_probs =row\n",
        "  print(f\"Pred probability: {pred_probs} - Predicted as\", \" real disaster.\" if tf.round(pred_probs)==1 else \"not real disaster\" )\n",
        "  print(f\"\\nSentence: {sentence}\")\n",
        "  print(\"----\\n\")"
      ],
      "metadata": {
        "colab": {
          "base_uri": "https://localhost:8080/"
        },
        "id": "fK5xmAVRmtjd",
        "outputId": "cf9b0be5-53ec-47c3-e7fb-728333833a58"
      },
      "execution_count": null,
      "outputs": [
        {
          "output_type": "stream",
          "name": "stdout",
          "text": [
            "Pred probability: 0.036258067935705185 - Predicted as not real disaster\n",
            "\n",
            "Sentence: Reddit Will Now QuarantineÛ_ http://t.co/pkUAMXw6pm #onlinecommunities #reddit #amageddon #freespeech #Business http://t.co/PAWvNJ4sAP\n",
            "----\n",
            "\n",
            "Pred probability: 0.03671137988567352 - Predicted as not real disaster\n",
            "\n",
            "Sentence: Ron &amp; Fez - Dave's High School Crush https://t.co/aN3W16c8F6 via @YouTube\n",
            "----\n",
            "\n",
            "Pred probability: 0.0445636585354805 - Predicted as not real disaster\n",
            "\n",
            "Sentence: Why are you deluged with low self-image? Take the quiz: http://t.co/XsPqdOrIqj http://t.co/CQYvFR4UCy\n",
            "----\n",
            "\n",
            "Pred probability: 0.046054523438215256 - Predicted as not real disaster\n",
            "\n",
            "Sentence: I get to smoke my shit in peace\n",
            "----\n",
            "\n",
            "Pred probability: 0.04910905286669731 - Predicted as not real disaster\n",
            "\n",
            "Sentence: You can never escape me. Bullets don't harm me. Nothing harms me. But I know pain. I know pain. Sometimes I share it. With someone like you.\n",
            "----\n",
            "\n",
            "Pred probability: 0.04937414079904556 - Predicted as not real disaster\n",
            "\n",
            "Sentence: @SoonerMagic_ I mean I'm a fan but I don't need a girl sounding off like a damn siren\n",
            "----\n",
            "\n",
            "Pred probability: 0.055047884583473206 - Predicted as not real disaster\n",
            "\n",
            "Sentence: @willienelson We need help! Horses will die!Please RT &amp; sign petition!Take a stand &amp; be a voice for them! #gilbert23 https://t.co/e8dl1lNCVu\n",
            "----\n",
            "\n",
            "Pred probability: 0.05521665886044502 - Predicted as not real disaster\n",
            "\n",
            "Sentence: going to redo my nails and watch behind the scenes of desolation of smaug ayyy\n",
            "----\n",
            "\n",
            "Pred probability: 0.0612623393535614 - Predicted as not real disaster\n",
            "\n",
            "Sentence: 'The way you move is like a full on rainstorm and I'm a house of cards'\n",
            "----\n",
            "\n",
            "Pred probability: 0.061827246099710464 - Predicted as not real disaster\n",
            "\n",
            "Sentence: Lucas Duda is Ghost Rider. Not the Nic Cage version but an actual 'engulfed in flames' badass. #Mets\n",
            "----\n",
            "\n"
          ]
        }
      ]
    },
    {
      "cell_type": "markdown",
      "source": [
        "As told before, there are same sequences which are just wrongly labeled... That's was the main purpose of that investigation"
      ],
      "metadata": {
        "id": "F03QGGSgv_HO"
      }
    },
    {
      "cell_type": "markdown",
      "source": [
        "#Making prediction on test dataset"
      ],
      "metadata": {
        "id": "LcR3norat8NV"
      }
    },
    {
      "cell_type": "code",
      "source": [
        "test_df"
      ],
      "metadata": {
        "colab": {
          "base_uri": "https://localhost:8080/",
          "height": 423
        },
        "id": "4TML5WwSqRZD",
        "outputId": "434ef490-1440-4a7f-f988-2bced5b1c13d"
      },
      "execution_count": null,
      "outputs": [
        {
          "output_type": "execute_result",
          "data": {
            "text/plain": [
              "         id keyword location  \\\n",
              "0         0     NaN      NaN   \n",
              "1         2     NaN      NaN   \n",
              "2         3     NaN      NaN   \n",
              "3         9     NaN      NaN   \n",
              "4        11     NaN      NaN   \n",
              "...     ...     ...      ...   \n",
              "3258  10861     NaN      NaN   \n",
              "3259  10865     NaN      NaN   \n",
              "3260  10868     NaN      NaN   \n",
              "3261  10874     NaN      NaN   \n",
              "3262  10875     NaN      NaN   \n",
              "\n",
              "                                                   text  \n",
              "0                    Just happened a terrible car crash  \n",
              "1     Heard about #earthquake is different cities, s...  \n",
              "2     there is a forest fire at spot pond, geese are...  \n",
              "3              Apocalypse lighting. #Spokane #wildfires  \n",
              "4         Typhoon Soudelor kills 28 in China and Taiwan  \n",
              "...                                                 ...  \n",
              "3258  EARTHQUAKE SAFETY LOS ANGELES ÛÒ SAFETY FASTE...  \n",
              "3259  Storm in RI worse than last hurricane. My city...  \n",
              "3260  Green Line derailment in Chicago http://t.co/U...  \n",
              "3261  MEG issues Hazardous Weather Outlook (HWO) htt...  \n",
              "3262  #CityofCalgary has activated its Municipal Eme...  \n",
              "\n",
              "[3263 rows x 4 columns]"
            ],
            "text/html": [
              "\n",
              "  <div id=\"df-aa877f64-d890-47b4-892d-b3e94ee6f86a\">\n",
              "    <div class=\"colab-df-container\">\n",
              "      <div>\n",
              "<style scoped>\n",
              "    .dataframe tbody tr th:only-of-type {\n",
              "        vertical-align: middle;\n",
              "    }\n",
              "\n",
              "    .dataframe tbody tr th {\n",
              "        vertical-align: top;\n",
              "    }\n",
              "\n",
              "    .dataframe thead th {\n",
              "        text-align: right;\n",
              "    }\n",
              "</style>\n",
              "<table border=\"1\" class=\"dataframe\">\n",
              "  <thead>\n",
              "    <tr style=\"text-align: right;\">\n",
              "      <th></th>\n",
              "      <th>id</th>\n",
              "      <th>keyword</th>\n",
              "      <th>location</th>\n",
              "      <th>text</th>\n",
              "    </tr>\n",
              "  </thead>\n",
              "  <tbody>\n",
              "    <tr>\n",
              "      <th>0</th>\n",
              "      <td>0</td>\n",
              "      <td>NaN</td>\n",
              "      <td>NaN</td>\n",
              "      <td>Just happened a terrible car crash</td>\n",
              "    </tr>\n",
              "    <tr>\n",
              "      <th>1</th>\n",
              "      <td>2</td>\n",
              "      <td>NaN</td>\n",
              "      <td>NaN</td>\n",
              "      <td>Heard about #earthquake is different cities, s...</td>\n",
              "    </tr>\n",
              "    <tr>\n",
              "      <th>2</th>\n",
              "      <td>3</td>\n",
              "      <td>NaN</td>\n",
              "      <td>NaN</td>\n",
              "      <td>there is a forest fire at spot pond, geese are...</td>\n",
              "    </tr>\n",
              "    <tr>\n",
              "      <th>3</th>\n",
              "      <td>9</td>\n",
              "      <td>NaN</td>\n",
              "      <td>NaN</td>\n",
              "      <td>Apocalypse lighting. #Spokane #wildfires</td>\n",
              "    </tr>\n",
              "    <tr>\n",
              "      <th>4</th>\n",
              "      <td>11</td>\n",
              "      <td>NaN</td>\n",
              "      <td>NaN</td>\n",
              "      <td>Typhoon Soudelor kills 28 in China and Taiwan</td>\n",
              "    </tr>\n",
              "    <tr>\n",
              "      <th>...</th>\n",
              "      <td>...</td>\n",
              "      <td>...</td>\n",
              "      <td>...</td>\n",
              "      <td>...</td>\n",
              "    </tr>\n",
              "    <tr>\n",
              "      <th>3258</th>\n",
              "      <td>10861</td>\n",
              "      <td>NaN</td>\n",
              "      <td>NaN</td>\n",
              "      <td>EARTHQUAKE SAFETY LOS ANGELES ÛÒ SAFETY FASTE...</td>\n",
              "    </tr>\n",
              "    <tr>\n",
              "      <th>3259</th>\n",
              "      <td>10865</td>\n",
              "      <td>NaN</td>\n",
              "      <td>NaN</td>\n",
              "      <td>Storm in RI worse than last hurricane. My city...</td>\n",
              "    </tr>\n",
              "    <tr>\n",
              "      <th>3260</th>\n",
              "      <td>10868</td>\n",
              "      <td>NaN</td>\n",
              "      <td>NaN</td>\n",
              "      <td>Green Line derailment in Chicago http://t.co/U...</td>\n",
              "    </tr>\n",
              "    <tr>\n",
              "      <th>3261</th>\n",
              "      <td>10874</td>\n",
              "      <td>NaN</td>\n",
              "      <td>NaN</td>\n",
              "      <td>MEG issues Hazardous Weather Outlook (HWO) htt...</td>\n",
              "    </tr>\n",
              "    <tr>\n",
              "      <th>3262</th>\n",
              "      <td>10875</td>\n",
              "      <td>NaN</td>\n",
              "      <td>NaN</td>\n",
              "      <td>#CityofCalgary has activated its Municipal Eme...</td>\n",
              "    </tr>\n",
              "  </tbody>\n",
              "</table>\n",
              "<p>3263 rows × 4 columns</p>\n",
              "</div>\n",
              "      <button class=\"colab-df-convert\" onclick=\"convertToInteractive('df-aa877f64-d890-47b4-892d-b3e94ee6f86a')\"\n",
              "              title=\"Convert this dataframe to an interactive table.\"\n",
              "              style=\"display:none;\">\n",
              "        \n",
              "  <svg xmlns=\"http://www.w3.org/2000/svg\" height=\"24px\"viewBox=\"0 0 24 24\"\n",
              "       width=\"24px\">\n",
              "    <path d=\"M0 0h24v24H0V0z\" fill=\"none\"/>\n",
              "    <path d=\"M18.56 5.44l.94 2.06.94-2.06 2.06-.94-2.06-.94-.94-2.06-.94 2.06-2.06.94zm-11 1L8.5 8.5l.94-2.06 2.06-.94-2.06-.94L8.5 2.5l-.94 2.06-2.06.94zm10 10l.94 2.06.94-2.06 2.06-.94-2.06-.94-.94-2.06-.94 2.06-2.06.94z\"/><path d=\"M17.41 7.96l-1.37-1.37c-.4-.4-.92-.59-1.43-.59-.52 0-1.04.2-1.43.59L10.3 9.45l-7.72 7.72c-.78.78-.78 2.05 0 2.83L4 21.41c.39.39.9.59 1.41.59.51 0 1.02-.2 1.41-.59l7.78-7.78 2.81-2.81c.8-.78.8-2.07 0-2.86zM5.41 20L4 18.59l7.72-7.72 1.47 1.35L5.41 20z\"/>\n",
              "  </svg>\n",
              "      </button>\n",
              "      \n",
              "  <style>\n",
              "    .colab-df-container {\n",
              "      display:flex;\n",
              "      flex-wrap:wrap;\n",
              "      gap: 12px;\n",
              "    }\n",
              "\n",
              "    .colab-df-convert {\n",
              "      background-color: #E8F0FE;\n",
              "      border: none;\n",
              "      border-radius: 50%;\n",
              "      cursor: pointer;\n",
              "      display: none;\n",
              "      fill: #1967D2;\n",
              "      height: 32px;\n",
              "      padding: 0 0 0 0;\n",
              "      width: 32px;\n",
              "    }\n",
              "\n",
              "    .colab-df-convert:hover {\n",
              "      background-color: #E2EBFA;\n",
              "      box-shadow: 0px 1px 2px rgba(60, 64, 67, 0.3), 0px 1px 3px 1px rgba(60, 64, 67, 0.15);\n",
              "      fill: #174EA6;\n",
              "    }\n",
              "\n",
              "    [theme=dark] .colab-df-convert {\n",
              "      background-color: #3B4455;\n",
              "      fill: #D2E3FC;\n",
              "    }\n",
              "\n",
              "    [theme=dark] .colab-df-convert:hover {\n",
              "      background-color: #434B5C;\n",
              "      box-shadow: 0px 1px 3px 1px rgba(0, 0, 0, 0.15);\n",
              "      filter: drop-shadow(0px 1px 2px rgba(0, 0, 0, 0.3));\n",
              "      fill: #FFFFFF;\n",
              "    }\n",
              "  </style>\n",
              "\n",
              "      <script>\n",
              "        const buttonEl =\n",
              "          document.querySelector('#df-aa877f64-d890-47b4-892d-b3e94ee6f86a button.colab-df-convert');\n",
              "        buttonEl.style.display =\n",
              "          google.colab.kernel.accessAllowed ? 'block' : 'none';\n",
              "\n",
              "        async function convertToInteractive(key) {\n",
              "          const element = document.querySelector('#df-aa877f64-d890-47b4-892d-b3e94ee6f86a');\n",
              "          const dataTable =\n",
              "            await google.colab.kernel.invokeFunction('convertToInteractive',\n",
              "                                                     [key], {});\n",
              "          if (!dataTable) return;\n",
              "\n",
              "          const docLinkHtml = 'Like what you see? Visit the ' +\n",
              "            '<a target=\"_blank\" href=https://colab.research.google.com/notebooks/data_table.ipynb>data table notebook</a>'\n",
              "            + ' to learn more about interactive tables.';\n",
              "          element.innerHTML = '';\n",
              "          dataTable['output_type'] = 'display_data';\n",
              "          await google.colab.output.renderOutput(dataTable, element);\n",
              "          const docLink = document.createElement('div');\n",
              "          docLink.innerHTML = docLinkHtml;\n",
              "          element.appendChild(docLink);\n",
              "        }\n",
              "      </script>\n",
              "    </div>\n",
              "  </div>\n",
              "  "
            ]
          },
          "metadata": {},
          "execution_count": 146
        }
      ]
    },
    {
      "cell_type": "code",
      "source": [
        "X = test_df[\"text\"].to_list()\n",
        "X[:5]"
      ],
      "metadata": {
        "colab": {
          "base_uri": "https://localhost:8080/"
        },
        "id": "oOMuDNadtIji",
        "outputId": "e72dca29-b2cc-4f42-abaa-d851f4c72b73"
      },
      "execution_count": null,
      "outputs": [
        {
          "output_type": "execute_result",
          "data": {
            "text/plain": [
              "['Just happened a terrible car crash',\n",
              " 'Heard about #earthquake is different cities, stay safe everyone.',\n",
              " 'there is a forest fire at spot pond, geese are fleeing across the street, I cannot save them all',\n",
              " 'Apocalypse lighting. #Spokane #wildfires',\n",
              " 'Typhoon Soudelor kills 28 in China and Taiwan']"
            ]
          },
          "metadata": {},
          "execution_count": 147
        }
      ]
    },
    {
      "cell_type": "code",
      "source": [
        "test_samples = random.sample(X,10)\n",
        "for test_sample in test_samples:\n",
        "  pred_prob=tf.squeeze(model_6.predict([test_sample])) #Model expect list as input\n",
        "  pred=tf.round(pred_prob)\n",
        "  print(f\"Pred: {int(pred)}, Prob: {pred_prob}\")\n",
        "  print(f\"Text:\\n {test_sample}\\n\")\n",
        "  print(\"----\\n\")"
      ],
      "metadata": {
        "colab": {
          "base_uri": "https://localhost:8080/"
        },
        "id": "tV_0lRt3tQzL",
        "outputId": "05e8c91b-344c-41e4-e848-acc5477177f6"
      },
      "execution_count": null,
      "outputs": [
        {
          "output_type": "stream",
          "name": "stdout",
          "text": [
            "1/1 [==============================] - 0s 38ms/step\n",
            "Pred: 0, Prob: 0.3785380423069\n",
            "Text:\n",
            " RT SIGN URGENT Stop the Annihilation of the Salt River Wild Horses!!! #savewildhorses #saltriverhorses https://t.co/8AZjFF8eSi\n",
            "\n",
            "----\n",
            "\n",
            "1/1 [==============================] - 0s 37ms/step\n",
            "Pred: 0, Prob: 0.3348909616470337\n",
            "Text:\n",
            " ASSIST - CITIZEN OR AGENCY at NE LLOYD BLVD / NE OREGON ST [Portland Police #PP15000266835] 17:11 #pdx911\n",
            "\n",
            "----\n",
            "\n",
            "1/1 [==============================] - 0s 33ms/step\n",
            "Pred: 1, Prob: 0.7262198328971863\n",
            "Text:\n",
            " @adolwyn This near U? @JWagstaffe: RT @OldsFireDept: Aug 5 2015 Hwy27 west of Olds. Approximately 1 foot of hail. http://t.co/Yg0pd73Bpw'\n",
            "\n",
            "----\n",
            "\n",
            "1/1 [==============================] - 0s 39ms/step\n",
            "Pred: 1, Prob: 0.7704859375953674\n",
            "Text:\n",
            " The Murderous Story Of AmericaÛªs First Hijacking http://t.co/VgBOpxb6Wg\n",
            "\n",
            "----\n",
            "\n",
            "1/1 [==============================] - 0s 40ms/step\n",
            "Pred: 0, Prob: 0.47504836320877075\n",
            "Text:\n",
            " The sinkhole that ate Brooklyn http://t.co/28r2IgxmIE\n",
            "\n",
            "----\n",
            "\n",
            "1/1 [==============================] - 0s 35ms/step\n",
            "Pred: 0, Prob: 0.044474970549345016\n",
            "Text:\n",
            " the bitches say im hot i say no bitch im blazing\n",
            "\n",
            "----\n",
            "\n",
            "1/1 [==============================] - 0s 34ms/step\n",
            "Pred: 0, Prob: 0.08813955634832382\n",
            "Text:\n",
            " Crackdown 3 Destruction Restricted To Multiplayer; Co-Developed By Sumo Digital: Crackdown 3 åÊwas definitely o... http://t.co/O4B1KIyx1P\n",
            "\n",
            "----\n",
            "\n",
            "1/1 [==============================] - 0s 34ms/step\n",
            "Pred: 0, Prob: 0.12470078468322754\n",
            "Text:\n",
            " Two shows I've loved this summer - Catastrophe and Unreal\n",
            "\n",
            "----\n",
            "\n",
            "1/1 [==============================] - 0s 36ms/step\n",
            "Pred: 0, Prob: 0.3058352768421173\n",
            "Text:\n",
            " TommyGShow: Burlington County offers to purchase landslide-damaged properties in Florence http://t.co/xgguElyxyi\n",
            "\n",
            "----\n",
            "\n",
            "1/1 [==============================] - 0s 42ms/step\n",
            "Pred: 0, Prob: 0.18626326322555542\n",
            "Text:\n",
            " AxWave enables a fast and accurate simulation of 2D and 3D seismic surveys in an acoustic medium #seismic #GPU #CPU http://t.co/OMX1NXAqpz\n",
            "\n",
            "----\n",
            "\n"
          ]
        }
      ]
    },
    {
      "cell_type": "code",
      "source": [
        "X[:10]"
      ],
      "metadata": {
        "colab": {
          "base_uri": "https://localhost:8080/"
        },
        "id": "Q5tpLQEVtW6S",
        "outputId": "f7e30236-1c23-49d4-8257-e2811fdb1fd0"
      },
      "execution_count": null,
      "outputs": [
        {
          "output_type": "execute_result",
          "data": {
            "text/plain": [
              "['Just happened a terrible car crash',\n",
              " 'Heard about #earthquake is different cities, stay safe everyone.',\n",
              " 'there is a forest fire at spot pond, geese are fleeing across the street, I cannot save them all',\n",
              " 'Apocalypse lighting. #Spokane #wildfires',\n",
              " 'Typhoon Soudelor kills 28 in China and Taiwan',\n",
              " \"We're shaking...It's an earthquake\",\n",
              " \"They'd probably still show more life than Arsenal did yesterday, eh? EH?\",\n",
              " 'Hey! How are you?',\n",
              " 'What a nice hat?',\n",
              " 'Fuck off!']"
            ]
          },
          "metadata": {},
          "execution_count": 149
        }
      ]
    },
    {
      "cell_type": "code",
      "source": [
        "model_6.predict(X)"
      ],
      "metadata": {
        "colab": {
          "base_uri": "https://localhost:8080/"
        },
        "id": "Z9UxVp7rv0UW",
        "outputId": "38d72a81-bc82-492a-d18e-a01543149c05"
      },
      "execution_count": null,
      "outputs": [
        {
          "output_type": "stream",
          "name": "stdout",
          "text": [
            "102/102 [==============================] - 1s 8ms/step\n"
          ]
        },
        {
          "output_type": "execute_result",
          "data": {
            "text/plain": [
              "array([[0.6182498 ],\n",
              "       [0.87685215],\n",
              "       [0.81063414],\n",
              "       ...,\n",
              "       [0.9185196 ],\n",
              "       [0.45505336],\n",
              "       [0.6867426 ]], dtype=float32)"
            ]
          },
          "metadata": {},
          "execution_count": 150
        }
      ]
    },
    {
      "cell_type": "code",
      "source": [
        "model_6.predict([\"Kiedy wersow tak przytyła?\"]) # XD"
      ],
      "metadata": {
        "colab": {
          "base_uri": "https://localhost:8080/"
        },
        "id": "c_wsAoArv7q1",
        "outputId": "a496e9cb-672a-4136-c14c-a596defab91b"
      },
      "execution_count": null,
      "outputs": [
        {
          "output_type": "stream",
          "name": "stdout",
          "text": [
            "1/1 [==============================] - 0s 34ms/step\n"
          ]
        },
        {
          "output_type": "execute_result",
          "data": {
            "text/plain": [
              "array([[0.33595568]], dtype=float32)"
            ]
          },
          "metadata": {},
          "execution_count": 151
        }
      ]
    },
    {
      "cell_type": "markdown",
      "source": [
        "# The speed/score trafeoff"
      ],
      "metadata": {
        "id": "tUJOXSQLwZFK"
      }
    },
    {
      "cell_type": "code",
      "source": [
        "#Make a function to measure the time of prediction\n",
        "import time\n",
        "def pred_timer(model,samples):\n",
        "  '''\n",
        "  Times how long a model takes to make predictions on samples.\n",
        "  '''\n",
        "  start_time = time.perf_counter()#get start time\n",
        "  model.predict(samples)#make prediction\n",
        "  end_time = time.perf_counter()#Get finish time\n",
        "  total_time = end_time-start_time#Calculate how long it take to make predictions\n",
        "  time_per_pred = total_time/len(samples)\n",
        "\n",
        "  return total_time, time_per_pred\n"
      ],
      "metadata": {
        "id": "Wzl6_ly9wjj2"
      },
      "execution_count": null,
      "outputs": []
    },
    {
      "cell_type": "code",
      "source": [
        "#Calculate TF Hub Sentence Encoder time per pred\n",
        "model_6_total_pred_time, model_6_time_per_pred = pred_timer(model=model_6,\n",
        "                                                          samples=val_sentences)\n",
        "model_6_total_pred_time, model_6_time_per_pred"
      ],
      "metadata": {
        "colab": {
          "base_uri": "https://localhost:8080/"
        },
        "id": "b6mcHIZrxcHz",
        "outputId": "3b75b81a-6cc7-451e-f082-5b79ac9ae0b7"
      },
      "execution_count": null,
      "outputs": [
        {
          "output_type": "stream",
          "name": "stdout",
          "text": [
            "24/24 [==============================] - 0s 8ms/step\n"
          ]
        },
        {
          "output_type": "execute_result",
          "data": {
            "text/plain": [
              "(0.34709781800000883, 0.0004555089475065733)"
            ]
          },
          "metadata": {},
          "execution_count": 153
        }
      ]
    },
    {
      "cell_type": "code",
      "source": [
        "#Calculate baseline model time per pred\n",
        "baseline_total_pred_time, baseline_time_per_pred = pred_timer(model=model_0,\n",
        "                                                              samples=val_sentences)\n",
        "baseline_total_pred_time, baseline_time_per_pred"
      ],
      "metadata": {
        "colab": {
          "base_uri": "https://localhost:8080/"
        },
        "id": "UJuk2zwXxvev",
        "outputId": "bb7850ce-1d7c-427b-ec3d-ec9fc49e3ca6"
      },
      "execution_count": null,
      "outputs": [
        {
          "output_type": "execute_result",
          "data": {
            "text/plain": [
              "(0.01669431599998461, 2.1908551181082164e-05)"
            ]
          },
          "metadata": {},
          "execution_count": 154
        }
      ]
    },
    {
      "cell_type": "code",
      "source": [
        "import matplotlib.pyplot as plt\n",
        "import seaborn as sns\n",
        "sns.scatterplot(x=[model_6_time_per_pred,baseline_time_per_pred], y = [baseline_result[\"f1\"],model_6_results[\"f1\"]])"
      ],
      "metadata": {
        "colab": {
          "base_uri": "https://localhost:8080/",
          "height": 283
        },
        "id": "5b2kWZjQyJPl",
        "outputId": "febac77d-6671-4996-9f7d-e7f6ef4dc009"
      },
      "execution_count": null,
      "outputs": [
        {
          "output_type": "execute_result",
          "data": {
            "text/plain": [
              "<matplotlib.axes._subplots.AxesSubplot at 0x7f494d79a160>"
            ]
          },
          "metadata": {},
          "execution_count": 155
        },
        {
          "output_type": "display_data",
          "data": {
            "text/plain": [
              "<Figure size 432x288 with 1 Axes>"
            ],
            "image/png": "[encoded data removed]"
          },
          "metadata": {
            "needs_background": "light"
          }
        }
      ]
    },
    {
      "cell_type": "code",
      "source": [
        "plt.figure(figsize=(10,7))\n",
        "plt.scatter(baseline_time_per_pred,baseline_result[\"f1\"],label=\"baseline\")\n",
        "plt.scatter(model_6_time_per_pred,model_6_results[\"f1\"],label=\"model_6_hub_encoder\")\n",
        "plt.legend()\n",
        "plt.ylabel(\"F1-score\")\n",
        "plt.xlabel(\"Time per pred\")\n",
        "plt.title(\"F1-score versus time per pred\");"
      ],
      "metadata": {
        "colab": {
          "base_uri": "https://localhost:8080/",
          "height": 458
        },
        "id": "LBSOE7UmzGlE",
        "outputId": "cfde57b3-13e8-4522-ddd3-08bcccd59603"
      },
      "execution_count": null,
      "outputs": [
        {
          "output_type": "display_data",
          "data": {
            "text/plain": [
              "<Figure size 720x504 with 1 Axes>"
            ],
            "image/png": "[encoded data removed]"
          },
          "metadata": {
            "needs_background": "light"
          }
        }
      ]
    },
    {
      "cell_type": "markdown",
      "source": [
        "# Build model 9 with fine tuning"
      ],
      "metadata": {
        "id": "sUkVZ6v3zcW8"
      }
    },
    {
      "cell_type": "code",
      "source": [
        "#Create callbacks\n",
        "SAVE_DIR = \"model_logs\"\n",
        "import tensorflow as tf\n",
        "\n",
        "tensorboard_callback =hp.create_tensorboard_callback(SAVE_DIR,\n",
        "                                                     \"USE_FINE_MODEL9\")\n",
        "model_checkpoint_callback = tf.keras.callbacks.ModelCheckpoint(\"fine_tune_checkpoints/\",\n",
        "                                                               monitor=\"val_loss\",\n",
        "                                                               save_best_only=True,\n",
        "                                                               save_weight_only=True,\n",
        "                                                               verbose=1)\n",
        "Early_stopping_callback = tf.keras.callbacks.EarlyStopping(monitor=\"val_accuracy\",\n",
        "                                                           patience=3,\n",
        "                                                           verbose=1)\n",
        "LearningRateScheduler = tf.keras.callbacks.ReduceLROnPlateau(patience=2,\n",
        "                                                             monitor=\"val_loss\",\n",
        "                                                             factor=0.2,\n",
        "                                                             min_lr=1e-7)"
      ],
      "metadata": {
        "colab": {
          "base_uri": "https://localhost:8080/"
        },
        "id": "aTw6ttV0OpPn",
        "outputId": "b0d586a7-cd2b-443d-bb2e-e7115f1b0444"
      },
      "execution_count": null,
      "outputs": [
        {
          "output_type": "stream",
          "name": "stdout",
          "text": [
            "Saving TensorBoard log files to: model_logs/USE_FINE_MODEL9/20230221-171715\n"
          ]
        }
      ]
    },
    {
      "cell_type": "code",
      "source": [
        "#Build the model\n",
        "\n",
        "from tensorflow.keras import layers\n",
        "import tensorflow_hub as hub\n",
        "seq_encode_layer = hub.KerasLayer(\"https://tfhub.dev/google/universal-sentence-encoder/4\",\n",
        "                                  input_shape=[],\n",
        "                                  trainable=True,\n",
        "                                  dtype=tf.string,\n",
        "                                  name=\"fine_USE\")\n",
        "model_9 = tf.keras.Sequential([\n",
        "    seq_encode_layer,\n",
        "    layers.Dense(64,activation=\"relu\"),\n",
        "    layers.Dense(1,activation=\"sigmoid\")\n",
        "])\n",
        "\n",
        "#Compile the model\n",
        "model_9.compile(loss=\"binary_crossentropy\",\n",
        "                optimizer=tf.keras.optimizers.Adam(0.0001),\n",
        "                metrics = [\"accuracy\"])"
      ],
      "metadata": {
        "colab": {
          "base_uri": "https://localhost:8080/"
        },
        "id": "L0jC4L1sNj34",
        "outputId": "45895d83-bac9-4ff5-8c1a-0671be564524"
      },
      "execution_count": null,
      "outputs": [
        {
          "output_type": "stream",
          "name": "stderr",
          "text": [
            "WARNING:tensorflow:Please fix your imports. Module tensorflow.python.training.tracking.data_structures has been moved to tensorflow.python.trackable.data_structures. The old module will be deleted in version 2.11.\n",
            "WARNING:tensorflow:From /usr/local/lib/python3.8/dist-packages/tensorflow/python/autograph/pyct/static_analysis/liveness.py:83: Analyzer.lamba_check (from tensorflow.python.autograph.pyct.static_analysis.liveness) is deprecated and will be removed after 2023-09-23.\n",
            "Instructions for updating:\n",
            "Lambda fuctions will be no more assumed to be used in the statement where they are used, or at least in the same block. https://github.com/tensorflow/tensorflow/issues/56089\n"
          ]
        }
      ]
    },
    {
      "cell_type": "code",
      "source": [
        "#Fit the model\n",
        "history_9 = model_9.fit(train_sentences,\n",
        "                        train_labels,\n",
        "                        epochs=30,\n",
        "                        validation_data=(val_sentences,val_labels),\n",
        "                        callbacks=[tensorboard_callback,\n",
        "                                   model_checkpoint_callback,\n",
        "                                   Early_stopping_callback,\n",
        "                                   LearningRateScheduler])"
      ],
      "metadata": {
        "colab": {
          "base_uri": "https://localhost:8080/"
        },
        "id": "XJMUiWyAQQ__",
        "outputId": "e4843426-4170-485b-854c-9789475a65dc"
      },
      "execution_count": null,
      "outputs": [
        {
          "output_type": "stream",
          "name": "stdout",
          "text": [
            "Epoch 1/30\n",
            "215/215 [==============================] - ETA: 0s - loss: 0.5810 - accuracy: 0.7249\n",
            "Epoch 1: val_loss improved from inf to 0.49521, saving model to fine_tune_checkpoints/\n"
          ]
        },
        {
          "output_type": "stream",
          "name": "stderr",
          "text": [
            "WARNING:absl:Function `_wrapped_model` contains input name(s) fine_USE_input with unsupported characters which will be renamed to fine_use_input in the SavedModel.\n",
            "WARNING:absl:Found untraced functions such as _update_step_xla while saving (showing 1 of 1). These functions will not be directly callable after loading.\n"
          ]
        },
        {
          "output_type": "stream",
          "name": "stdout",
          "text": [
            "\b\b\b\b\b\b\b\b\b\b\b\b\b\b\b\b\b\b\b\b\b\b\b\b\b\b\b\b\b\b\b\b\b\b\b\b\b\b\b\b\b\b\b\b\b\b\b\b\b\b\b\b\b\b\b\b\b\b\b\b\b\b\b\b\b\b\b\b\b\b\b\b\b\b\b\b\b\b\b\b\b\b\b\b\r215/215 [==============================] - 596s 3s/step - loss: 0.5810 - accuracy: 0.7249 - val_loss: 0.4952 - val_accuracy: 0.7861 - lr: 1.0000e-04\n",
            "Epoch 2/30\n",
            "215/215 [==============================] - ETA: 0s - loss: 0.4309 - accuracy: 0.8158\n",
            "Epoch 2: val_loss improved from 0.49521 to 0.43935, saving model to fine_tune_checkpoints/\n"
          ]
        },
        {
          "output_type": "stream",
          "name": "stderr",
          "text": [
            "WARNING:absl:Function `_wrapped_model` contains input name(s) fine_USE_input with unsupported characters which will be renamed to fine_use_input in the SavedModel.\n",
            "WARNING:absl:Found untraced functions such as _update_step_xla while saving (showing 1 of 1). These functions will not be directly callable after loading.\n"
          ]
        },
        {
          "output_type": "stream",
          "name": "stdout",
          "text": [
            "\b\b\b\b\b\b\b\b\b\b\b\b\b\b\b\b\b\b\b\b\b\b\b\b\b\b\b\b\b\b\b\b\b\b\b\b\b\b\b\b\b\b\b\b\b\b\b\b\b\b\b\b\b\b\b\b\b\b\b\b\b\b\b\b\b\b\b\b\b\b\b\b\b\b\b\b\b\b\b\b\b\b\b\b\r215/215 [==============================] - 677s 3s/step - loss: 0.4309 - accuracy: 0.8158 - val_loss: 0.4394 - val_accuracy: 0.8097 - lr: 1.0000e-04\n",
            "Epoch 3/30\n",
            "215/215 [==============================] - ETA: 0s - loss: 0.3556 - accuracy: 0.8533\n",
            "Epoch 3: val_loss improved from 0.43935 to 0.42542, saving model to fine_tune_checkpoints/\n"
          ]
        },
        {
          "output_type": "stream",
          "name": "stderr",
          "text": [
            "WARNING:absl:Function `_wrapped_model` contains input name(s) fine_USE_input with unsupported characters which will be renamed to fine_use_input in the SavedModel.\n",
            "WARNING:absl:Found untraced functions such as _update_step_xla while saving (showing 1 of 1). These functions will not be directly callable after loading.\n"
          ]
        },
        {
          "output_type": "stream",
          "name": "stdout",
          "text": [
            "\b\b\b\b\b\b\b\b\b\b\b\b\b\b\b\b\b\b\b\b\b\b\b\b\b\b\b\b\b\b\b\b\b\b\b\b\b\b\b\b\b\b\b\b\b\b\b\b\b\b\b\b\b\b\b\b\b\b\b\b\b\b\b\b\b\b\b\b\b\b\b\b\b\b\b\b\b\b\b\b\b\b\b\b\r215/215 [==============================] - 680s 3s/step - loss: 0.3556 - accuracy: 0.8533 - val_loss: 0.4254 - val_accuracy: 0.8281 - lr: 1.0000e-04\n",
            "Epoch 4/30\n",
            "215/215 [==============================] - ETA: 0s - loss: 0.2890 - accuracy: 0.8834\n",
            "Epoch 4: val_loss did not improve from 0.42542\n",
            "215/215 [==============================] - 701s 3s/step - loss: 0.2890 - accuracy: 0.8834 - val_loss: 0.4313 - val_accuracy: 0.8268 - lr: 1.0000e-04\n",
            "Epoch 5/30\n",
            "215/215 [==============================] - ETA: 0s - loss: 0.2165 - accuracy: 0.9180\n",
            "Epoch 5: val_loss did not improve from 0.42542\n",
            "215/215 [==============================] - 677s 3s/step - loss: 0.2165 - accuracy: 0.9180 - val_loss: 0.4505 - val_accuracy: 0.8307 - lr: 1.0000e-04\n",
            "Epoch 6/30\n",
            "215/215 [==============================] - ETA: 0s - loss: 0.1536 - accuracy: 0.9485\n",
            "Epoch 6: val_loss did not improve from 0.42542\n",
            "215/215 [==============================] - 676s 3s/step - loss: 0.1536 - accuracy: 0.9485 - val_loss: 0.4592 - val_accuracy: 0.8320 - lr: 2.0000e-05\n",
            "Epoch 7/30\n",
            "215/215 [==============================] - ETA: 0s - loss: 0.1406 - accuracy: 0.9545\n",
            "Epoch 7: val_loss did not improve from 0.42542\n",
            "215/215 [==============================] - 695s 3s/step - loss: 0.1406 - accuracy: 0.9545 - val_loss: 0.4665 - val_accuracy: 0.8294 - lr: 2.0000e-05\n",
            "Epoch 8/30\n",
            "215/215 [==============================] - ETA: 0s - loss: 0.1293 - accuracy: 0.9590\n",
            "Epoch 8: val_loss did not improve from 0.42542\n",
            "215/215 [==============================] - 741s 3s/step - loss: 0.1293 - accuracy: 0.9590 - val_loss: 0.4682 - val_accuracy: 0.8320 - lr: 4.0000e-06\n",
            "Epoch 9/30\n",
            "215/215 [==============================] - ETA: 0s - loss: 0.1269 - accuracy: 0.9594\n",
            "Epoch 9: val_loss did not improve from 0.42542\n",
            "215/215 [==============================] - 712s 3s/step - loss: 0.1269 - accuracy: 0.9594 - val_loss: 0.4708 - val_accuracy: 0.8320 - lr: 4.0000e-06\n",
            "Epoch 9: early stopping\n"
          ]
        }
      ]
    },
    {
      "cell_type": "code",
      "source": [
        "import pandas as pd\n",
        "pd.DataFrame(history_9.history).plot()"
      ],
      "metadata": {
        "id": "VcHZ9_9wR31y",
        "colab": {
          "base_uri": "https://localhost:8080/",
          "height": 286
        },
        "outputId": "b66901fa-fd9f-4be0-c73e-32670b0aec8b"
      },
      "execution_count": null,
      "outputs": [
        {
          "output_type": "execute_result",
          "data": {
            "text/plain": [
              "<matplotlib.axes._subplots.AxesSubplot at 0x7efcbd218340>"
            ]
          },
          "metadata": {},
          "execution_count": 25
        },
        {
          "output_type": "display_data",
          "data": {
            "text/plain": [
              "<Figure size 432x288 with 1 Axes>"
            ],
            "image/png": "[encoded data removed]"
          },
          "metadata": {
            "needs_background": "light"
          }
        }
      ]
    },
    {
      "cell_type": "markdown",
      "source": [
        "## Evaluate final model\n"
      ],
      "metadata": {
        "id": "t2N53RqSZrW8"
      }
    },
    {
      "cell_type": "code",
      "source": [
        "X = test_df[\"text\"].to_list()\n",
        "preds_probs = model_9.predict(X)\n",
        "predicts = tf.squeeze(tf.round(preds_probs))\n",
        "predicts[:10]"
      ],
      "metadata": {
        "colab": {
          "base_uri": "https://localhost:8080/"
        },
        "id": "J1iy9CU-aodR",
        "outputId": "b32fe058-ba68-4694-b518-b45c9a4073a9"
      },
      "execution_count": null,
      "outputs": [
        {
          "output_type": "stream",
          "name": "stdout",
          "text": [
            "102/102 [==============================] - 1s 9ms/step\n"
          ]
        },
        {
          "output_type": "execute_result",
          "data": {
            "text/plain": [
              "<tf.Tensor: shape=(10,), dtype=float32, numpy=array([1., 1., 1., 1., 1., 1., 0., 0., 0., 0.], dtype=float32)>"
            ]
          },
          "metadata": {},
          "execution_count": 31
        }
      ]
    },
    {
      "cell_type": "code",
      "source": [
        "preds_int = [int(x) for x in predicts]\n",
        "preds_int[:10], len(preds_int)==len(predicts)==len(preds_probs)"
      ],
      "metadata": {
        "colab": {
          "base_uri": "https://localhost:8080/"
        },
        "id": "tWu8KWt3ao6y",
        "outputId": "45e47633-21b2-4b52-96c6-f745b47bd7a7"
      },
      "execution_count": null,
      "outputs": [
        {
          "output_type": "execute_result",
          "data": {
            "text/plain": [
              "([1, 1, 1, 1, 1, 1, 0, 0, 0, 0], True)"
            ]
          },
          "metadata": {},
          "execution_count": 35
        }
      ]
    },
    {
      "cell_type": "markdown",
      "source": [
        "#Submission to kaggle"
      ],
      "metadata": {
        "id": "RS_Hq8zAat5F"
      }
    },
    {
      "cell_type": "code",
      "source": [
        "test_df.head()"
      ],
      "metadata": {
        "colab": {
          "base_uri": "https://localhost:8080/",
          "height": 206
        },
        "id": "DubdN24MbZbh",
        "outputId": "f46f3d95-2d0c-4f52-8688-51db9a53337c"
      },
      "execution_count": null,
      "outputs": [
        {
          "output_type": "execute_result",
          "data": {
            "text/plain": [
              "   id keyword location                                               text\n",
              "0   0     NaN      NaN                 Just happened a terrible car crash\n",
              "1   2     NaN      NaN  Heard about #earthquake is different cities, s...\n",
              "2   3     NaN      NaN  there is a forest fire at spot pond, geese are...\n",
              "3   9     NaN      NaN           Apocalypse lighting. #Spokane #wildfires\n",
              "4  11     NaN      NaN      Typhoon Soudelor kills 28 in China and Taiwan"
            ],
            "text/html": [
              "\n",
              "  <div id=\"df-9da03c71-c4ea-40c3-9609-cb5fa068e2aa\">\n",
              "    <div class=\"colab-df-container\">\n",
              "      <div>\n",
              "<style scoped>\n",
              "    .dataframe tbody tr th:only-of-type {\n",
              "        vertical-align: middle;\n",
              "    }\n",
              "\n",
              "    .dataframe tbody tr th {\n",
              "        vertical-align: top;\n",
              "    }\n",
              "\n",
              "    .dataframe thead th {\n",
              "        text-align: right;\n",
              "    }\n",
              "</style>\n",
              "<table border=\"1\" class=\"dataframe\">\n",
              "  <thead>\n",
              "    <tr style=\"text-align: right;\">\n",
              "      <th></th>\n",
              "      <th>id</th>\n",
              "      <th>keyword</th>\n",
              "      <th>location</th>\n",
              "      <th>text</th>\n",
              "    </tr>\n",
              "  </thead>\n",
              "  <tbody>\n",
              "    <tr>\n",
              "      <th>0</th>\n",
              "      <td>0</td>\n",
              "      <td>NaN</td>\n",
              "      <td>NaN</td>\n",
              "      <td>Just happened a terrible car crash</td>\n",
              "    </tr>\n",
              "    <tr>\n",
              "      <th>1</th>\n",
              "      <td>2</td>\n",
              "      <td>NaN</td>\n",
              "      <td>NaN</td>\n",
              "      <td>Heard about #earthquake is different cities, s...</td>\n",
              "    </tr>\n",
              "    <tr>\n",
              "      <th>2</th>\n",
              "      <td>3</td>\n",
              "      <td>NaN</td>\n",
              "      <td>NaN</td>\n",
              "      <td>there is a forest fire at spot pond, geese are...</td>\n",
              "    </tr>\n",
              "    <tr>\n",
              "      <th>3</th>\n",
              "      <td>9</td>\n",
              "      <td>NaN</td>\n",
              "      <td>NaN</td>\n",
              "      <td>Apocalypse lighting. #Spokane #wildfires</td>\n",
              "    </tr>\n",
              "    <tr>\n",
              "      <th>4</th>\n",
              "      <td>11</td>\n",
              "      <td>NaN</td>\n",
              "      <td>NaN</td>\n",
              "      <td>Typhoon Soudelor kills 28 in China and Taiwan</td>\n",
              "    </tr>\n",
              "  </tbody>\n",
              "</table>\n",
              "</div>\n",
              "      <button class=\"colab-df-convert\" onclick=\"convertToInteractive('df-9da03c71-c4ea-40c3-9609-cb5fa068e2aa')\"\n",
              "              title=\"Convert this dataframe to an interactive table.\"\n",
              "              style=\"display:none;\">\n",
              "        \n",
              "  <svg xmlns=\"http://www.w3.org/2000/svg\" height=\"24px\"viewBox=\"0 0 24 24\"\n",
              "       width=\"24px\">\n",
              "    <path d=\"M0 0h24v24H0V0z\" fill=\"none\"/>\n",
              "    <path d=\"M18.56 5.44l.94 2.06.94-2.06 2.06-.94-2.06-.94-.94-2.06-.94 2.06-2.06.94zm-11 1L8.5 8.5l.94-2.06 2.06-.94-2.06-.94L8.5 2.5l-.94 2.06-2.06.94zm10 10l.94 2.06.94-2.06 2.06-.94-2.06-.94-.94-2.06-.94 2.06-2.06.94z\"/><path d=\"M17.41 7.96l-1.37-1.37c-.4-.4-.92-.59-1.43-.59-.52 0-1.04.2-1.43.59L10.3 9.45l-7.72 7.72c-.78.78-.78 2.05 0 2.83L4 21.41c.39.39.9.59 1.41.59.51 0 1.02-.2 1.41-.59l7.78-7.78 2.81-2.81c.8-.78.8-2.07 0-2.86zM5.41 20L4 18.59l7.72-7.72 1.47 1.35L5.41 20z\"/>\n",
              "  </svg>\n",
              "      </button>\n",
              "      \n",
              "  <style>\n",
              "    .colab-df-container {\n",
              "      display:flex;\n",
              "      flex-wrap:wrap;\n",
              "      gap: 12px;\n",
              "    }\n",
              "\n",
              "    .colab-df-convert {\n",
              "      background-color: #E8F0FE;\n",
              "      border: none;\n",
              "      border-radius: 50%;\n",
              "      cursor: pointer;\n",
              "      display: none;\n",
              "      fill: #1967D2;\n",
              "      height: 32px;\n",
              "      padding: 0 0 0 0;\n",
              "      width: 32px;\n",
              "    }\n",
              "\n",
              "    .colab-df-convert:hover {\n",
              "      background-color: #E2EBFA;\n",
              "      box-shadow: 0px 1px 2px rgba(60, 64, 67, 0.3), 0px 1px 3px 1px rgba(60, 64, 67, 0.15);\n",
              "      fill: #174EA6;\n",
              "    }\n",
              "\n",
              "    [theme=dark] .colab-df-convert {\n",
              "      background-color: #3B4455;\n",
              "      fill: #D2E3FC;\n",
              "    }\n",
              "\n",
              "    [theme=dark] .colab-df-convert:hover {\n",
              "      background-color: #434B5C;\n",
              "      box-shadow: 0px 1px 3px 1px rgba(0, 0, 0, 0.15);\n",
              "      filter: drop-shadow(0px 1px 2px rgba(0, 0, 0, 0.3));\n",
              "      fill: #FFFFFF;\n",
              "    }\n",
              "  </style>\n",
              "\n",
              "      <script>\n",
              "        const buttonEl =\n",
              "          document.querySelector('#df-9da03c71-c4ea-40c3-9609-cb5fa068e2aa button.colab-df-convert');\n",
              "        buttonEl.style.display =\n",
              "          google.colab.kernel.accessAllowed ? 'block' : 'none';\n",
              "\n",
              "        async function convertToInteractive(key) {\n",
              "          const element = document.querySelector('#df-9da03c71-c4ea-40c3-9609-cb5fa068e2aa');\n",
              "          const dataTable =\n",
              "            await google.colab.kernel.invokeFunction('convertToInteractive',\n",
              "                                                     [key], {});\n",
              "          if (!dataTable) return;\n",
              "\n",
              "          const docLinkHtml = 'Like what you see? Visit the ' +\n",
              "            '<a target=\"_blank\" href=https://colab.research.google.com/notebooks/data_table.ipynb>data table notebook</a>'\n",
              "            + ' to learn more about interactive tables.';\n",
              "          element.innerHTML = '';\n",
              "          dataTable['output_type'] = 'display_data';\n",
              "          await google.colab.output.renderOutput(dataTable, element);\n",
              "          const docLink = document.createElement('div');\n",
              "          docLink.innerHTML = docLinkHtml;\n",
              "          element.appendChild(docLink);\n",
              "        }\n",
              "      </script>\n",
              "    </div>\n",
              "  </div>\n",
              "  "
            ]
          },
          "metadata": {},
          "execution_count": 37
        }
      ]
    },
    {
      "cell_type": "code",
      "source": [
        "submission = test_df[[\"id\"]]\n",
        "submission[\"target\"] = preds_int"
      ],
      "metadata": {
        "colab": {
          "base_uri": "https://localhost:8080/"
        },
        "id": "MINYEa6tbbej",
        "outputId": "8a2fcdee-2cbd-46c5-8959-63b55122a2fa"
      },
      "execution_count": null,
      "outputs": [
        {
          "output_type": "stream",
          "name": "stderr",
          "text": [
            "<ipython-input-38-5b52e2b46674>:2: SettingWithCopyWarning: \n",
            "A value is trying to be set on a copy of a slice from a DataFrame.\n",
            "Try using .loc[row_indexer,col_indexer] = value instead\n",
            "\n",
            "See the caveats in the documentation: https://pandas.pydata.org/pandas-docs/stable/user_guide/indexing.html#returning-a-view-versus-a-copy\n",
            "  submission[\"target\"] = preds_int\n"
          ]
        }
      ]
    },
    {
      "cell_type": "code",
      "source": [
        "submission.head()"
      ],
      "metadata": {
        "colab": {
          "base_uri": "https://localhost:8080/",
          "height": 206
        },
        "id": "Sibv4yIobnOW",
        "outputId": "50f0c42a-7994-4aac-8b98-ee5fbd51c0b0"
      },
      "execution_count": null,
      "outputs": [
        {
          "output_type": "execute_result",
          "data": {
            "text/plain": [
              "   id  target\n",
              "0   0       1\n",
              "1   2       1\n",
              "2   3       1\n",
              "3   9       1\n",
              "4  11       1"
            ],
            "text/html": [
              "\n",
              "  <div id=\"df-7577c83c-7bd1-428c-8c84-44859127316b\">\n",
              "    <div class=\"colab-df-container\">\n",
              "      <div>\n",
              "<style scoped>\n",
              "    .dataframe tbody tr th:only-of-type {\n",
              "        vertical-align: middle;\n",
              "    }\n",
              "\n",
              "    .dataframe tbody tr th {\n",
              "        vertical-align: top;\n",
              "    }\n",
              "\n",
              "    .dataframe thead th {\n",
              "        text-align: right;\n",
              "    }\n",
              "</style>\n",
              "<table border=\"1\" class=\"dataframe\">\n",
              "  <thead>\n",
              "    <tr style=\"text-align: right;\">\n",
              "      <th></th>\n",
              "      <th>id</th>\n",
              "      <th>target</th>\n",
              "    </tr>\n",
              "  </thead>\n",
              "  <tbody>\n",
              "    <tr>\n",
              "      <th>0</th>\n",
              "      <td>0</td>\n",
              "      <td>1</td>\n",
              "    </tr>\n",
              "    <tr>\n",
              "      <th>1</th>\n",
              "      <td>2</td>\n",
              "      <td>1</td>\n",
              "    </tr>\n",
              "    <tr>\n",
              "      <th>2</th>\n",
              "      <td>3</td>\n",
              "      <td>1</td>\n",
              "    </tr>\n",
              "    <tr>\n",
              "      <th>3</th>\n",
              "      <td>9</td>\n",
              "      <td>1</td>\n",
              "    </tr>\n",
              "    <tr>\n",
              "      <th>4</th>\n",
              "      <td>11</td>\n",
              "      <td>1</td>\n",
              "    </tr>\n",
              "  </tbody>\n",
              "</table>\n",
              "</div>\n",
              "      <button class=\"colab-df-convert\" onclick=\"convertToInteractive('df-7577c83c-7bd1-428c-8c84-44859127316b')\"\n",
              "              title=\"Convert this dataframe to an interactive table.\"\n",
              "              style=\"display:none;\">\n",
              "        \n",
              "  <svg xmlns=\"http://www.w3.org/2000/svg\" height=\"24px\"viewBox=\"0 0 24 24\"\n",
              "       width=\"24px\">\n",
              "    <path d=\"M0 0h24v24H0V0z\" fill=\"none\"/>\n",
              "    <path d=\"M18.56 5.44l.94 2.06.94-2.06 2.06-.94-2.06-.94-.94-2.06-.94 2.06-2.06.94zm-11 1L8.5 8.5l.94-2.06 2.06-.94-2.06-.94L8.5 2.5l-.94 2.06-2.06.94zm10 10l.94 2.06.94-2.06 2.06-.94-2.06-.94-.94-2.06-.94 2.06-2.06.94z\"/><path d=\"M17.41 7.96l-1.37-1.37c-.4-.4-.92-.59-1.43-.59-.52 0-1.04.2-1.43.59L10.3 9.45l-7.72 7.72c-.78.78-.78 2.05 0 2.83L4 21.41c.39.39.9.59 1.41.59.51 0 1.02-.2 1.41-.59l7.78-7.78 2.81-2.81c.8-.78.8-2.07 0-2.86zM5.41 20L4 18.59l7.72-7.72 1.47 1.35L5.41 20z\"/>\n",
              "  </svg>\n",
              "      </button>\n",
              "      \n",
              "  <style>\n",
              "    .colab-df-container {\n",
              "      display:flex;\n",
              "      flex-wrap:wrap;\n",
              "      gap: 12px;\n",
              "    }\n",
              "\n",
              "    .colab-df-convert {\n",
              "      background-color: #E8F0FE;\n",
              "      border: none;\n",
              "      border-radius: 50%;\n",
              "      cursor: pointer;\n",
              "      display: none;\n",
              "      fill: #1967D2;\n",
              "      height: 32px;\n",
              "      padding: 0 0 0 0;\n",
              "      width: 32px;\n",
              "    }\n",
              "\n",
              "    .colab-df-convert:hover {\n",
              "      background-color: #E2EBFA;\n",
              "      box-shadow: 0px 1px 2px rgba(60, 64, 67, 0.3), 0px 1px 3px 1px rgba(60, 64, 67, 0.15);\n",
              "      fill: #174EA6;\n",
              "    }\n",
              "\n",
              "    [theme=dark] .colab-df-convert {\n",
              "      background-color: #3B4455;\n",
              "      fill: #D2E3FC;\n",
              "    }\n",
              "\n",
              "    [theme=dark] .colab-df-convert:hover {\n",
              "      background-color: #434B5C;\n",
              "      box-shadow: 0px 1px 3px 1px rgba(0, 0, 0, 0.15);\n",
              "      filter: drop-shadow(0px 1px 2px rgba(0, 0, 0, 0.3));\n",
              "      fill: #FFFFFF;\n",
              "    }\n",
              "  </style>\n",
              "\n",
              "      <script>\n",
              "        const buttonEl =\n",
              "          document.querySelector('#df-7577c83c-7bd1-428c-8c84-44859127316b button.colab-df-convert');\n",
              "        buttonEl.style.display =\n",
              "          google.colab.kernel.accessAllowed ? 'block' : 'none';\n",
              "\n",
              "        async function convertToInteractive(key) {\n",
              "          const element = document.querySelector('#df-7577c83c-7bd1-428c-8c84-44859127316b');\n",
              "          const dataTable =\n",
              "            await google.colab.kernel.invokeFunction('convertToInteractive',\n",
              "                                                     [key], {});\n",
              "          if (!dataTable) return;\n",
              "\n",
              "          const docLinkHtml = 'Like what you see? Visit the ' +\n",
              "            '<a target=\"_blank\" href=https://colab.research.google.com/notebooks/data_table.ipynb>data table notebook</a>'\n",
              "            + ' to learn more about interactive tables.';\n",
              "          element.innerHTML = '';\n",
              "          dataTable['output_type'] = 'display_data';\n",
              "          await google.colab.output.renderOutput(dataTable, element);\n",
              "          const docLink = document.createElement('div');\n",
              "          docLink.innerHTML = docLinkHtml;\n",
              "          element.appendChild(docLink);\n",
              "        }\n",
              "      </script>\n",
              "    </div>\n",
              "  </div>\n",
              "  "
            ]
          },
          "metadata": {},
          "execution_count": 39
        }
      ]
    },
    {
      "cell_type": "code",
      "source": [
        "submission.to_csv(\"NLP.csv\",index=None)"
      ],
      "metadata": {
        "id": "B5E3ovUNbprf"
      },
      "execution_count": null,
      "outputs": []
    },
    {
      "cell_type": "code",
      "source": [
        "pd.read_csv(\"NLP.csv\")"
      ],
      "metadata": {
        "colab": {
          "base_uri": "https://localhost:8080/",
          "height": 423
        },
        "id": "VvwWMwOzbvrH",
        "outputId": "0998fa86-7149-4316-f7f6-f39dfeb3ce99"
      },
      "execution_count": null,
      "outputs": [
        {
          "output_type": "execute_result",
          "data": {
            "text/plain": [
              "         id  target\n",
              "0         0       1\n",
              "1         2       1\n",
              "2         3       1\n",
              "3         9       1\n",
              "4        11       1\n",
              "...     ...     ...\n",
              "3258  10861       1\n",
              "3259  10865       1\n",
              "3260  10868       1\n",
              "3261  10874       1\n",
              "3262  10875       1\n",
              "\n",
              "[3263 rows x 2 columns]"
            ],
            "text/html": [
              "\n",
              "  <div id=\"df-baa19d4a-4b82-443d-93a2-5ae244ed129a\">\n",
              "    <div class=\"colab-df-container\">\n",
              "      <div>\n",
              "<style scoped>\n",
              "    .dataframe tbody tr th:only-of-type {\n",
              "        vertical-align: middle;\n",
              "    }\n",
              "\n",
              "    .dataframe tbody tr th {\n",
              "        vertical-align: top;\n",
              "    }\n",
              "\n",
              "    .dataframe thead th {\n",
              "        text-align: right;\n",
              "    }\n",
              "</style>\n",
              "<table border=\"1\" class=\"dataframe\">\n",
              "  <thead>\n",
              "    <tr style=\"text-align: right;\">\n",
              "      <th></th>\n",
              "      <th>id</th>\n",
              "      <th>target</th>\n",
              "    </tr>\n",
              "  </thead>\n",
              "  <tbody>\n",
              "    <tr>\n",
              "      <th>0</th>\n",
              "      <td>0</td>\n",
              "      <td>1</td>\n",
              "    </tr>\n",
              "    <tr>\n",
              "      <th>1</th>\n",
              "      <td>2</td>\n",
              "      <td>1</td>\n",
              "    </tr>\n",
              "    <tr>\n",
              "      <th>2</th>\n",
              "      <td>3</td>\n",
              "      <td>1</td>\n",
              "    </tr>\n",
              "    <tr>\n",
              "      <th>3</th>\n",
              "      <td>9</td>\n",
              "      <td>1</td>\n",
              "    </tr>\n",
              "    <tr>\n",
              "      <th>4</th>\n",
              "      <td>11</td>\n",
              "      <td>1</td>\n",
              "    </tr>\n",
              "    <tr>\n",
              "      <th>...</th>\n",
              "      <td>...</td>\n",
              "      <td>...</td>\n",
              "    </tr>\n",
              "    <tr>\n",
              "      <th>3258</th>\n",
              "      <td>10861</td>\n",
              "      <td>1</td>\n",
              "    </tr>\n",
              "    <tr>\n",
              "      <th>3259</th>\n",
              "      <td>10865</td>\n",
              "      <td>1</td>\n",
              "    </tr>\n",
              "    <tr>\n",
              "      <th>3260</th>\n",
              "      <td>10868</td>\n",
              "      <td>1</td>\n",
              "    </tr>\n",
              "    <tr>\n",
              "      <th>3261</th>\n",
              "      <td>10874</td>\n",
              "      <td>1</td>\n",
              "    </tr>\n",
              "    <tr>\n",
              "      <th>3262</th>\n",
              "      <td>10875</td>\n",
              "      <td>1</td>\n",
              "    </tr>\n",
              "  </tbody>\n",
              "</table>\n",
              "<p>3263 rows × 2 columns</p>\n",
              "</div>\n",
              "      <button class=\"colab-df-convert\" onclick=\"convertToInteractive('df-baa19d4a-4b82-443d-93a2-5ae244ed129a')\"\n",
              "              title=\"Convert this dataframe to an interactive table.\"\n",
              "              style=\"display:none;\">\n",
              "        \n",
              "  <svg xmlns=\"http://www.w3.org/2000/svg\" height=\"24px\"viewBox=\"0 0 24 24\"\n",
              "       width=\"24px\">\n",
              "    <path d=\"M0 0h24v24H0V0z\" fill=\"none\"/>\n",
              "    <path d=\"M18.56 5.44l.94 2.06.94-2.06 2.06-.94-2.06-.94-.94-2.06-.94 2.06-2.06.94zm-11 1L8.5 8.5l.94-2.06 2.06-.94-2.06-.94L8.5 2.5l-.94 2.06-2.06.94zm10 10l.94 2.06.94-2.06 2.06-.94-2.06-.94-.94-2.06-.94 2.06-2.06.94z\"/><path d=\"M17.41 7.96l-1.37-1.37c-.4-.4-.92-.59-1.43-.59-.52 0-1.04.2-1.43.59L10.3 9.45l-7.72 7.72c-.78.78-.78 2.05 0 2.83L4 21.41c.39.39.9.59 1.41.59.51 0 1.02-.2 1.41-.59l7.78-7.78 2.81-2.81c.8-.78.8-2.07 0-2.86zM5.41 20L4 18.59l7.72-7.72 1.47 1.35L5.41 20z\"/>\n",
              "  </svg>\n",
              "      </button>\n",
              "      \n",
              "  <style>\n",
              "    .colab-df-container {\n",
              "      display:flex;\n",
              "      flex-wrap:wrap;\n",
              "      gap: 12px;\n",
              "    }\n",
              "\n",
              "    .colab-df-convert {\n",
              "      background-color: #E8F0FE;\n",
              "      border: none;\n",
              "      border-radius: 50%;\n",
              "      cursor: pointer;\n",
              "      display: none;\n",
              "      fill: #1967D2;\n",
              "      height: 32px;\n",
              "      padding: 0 0 0 0;\n",
              "      width: 32px;\n",
              "    }\n",
              "\n",
              "    .colab-df-convert:hover {\n",
              "      background-color: #E2EBFA;\n",
              "      box-shadow: 0px 1px 2px rgba(60, 64, 67, 0.3), 0px 1px 3px 1px rgba(60, 64, 67, 0.15);\n",
              "      fill: #174EA6;\n",
              "    }\n",
              "\n",
              "    [theme=dark] .colab-df-convert {\n",
              "      background-color: #3B4455;\n",
              "      fill: #D2E3FC;\n",
              "    }\n",
              "\n",
              "    [theme=dark] .colab-df-convert:hover {\n",
              "      background-color: #434B5C;\n",
              "      box-shadow: 0px 1px 3px 1px rgba(0, 0, 0, 0.15);\n",
              "      filter: drop-shadow(0px 1px 2px rgba(0, 0, 0, 0.3));\n",
              "      fill: #FFFFFF;\n",
              "    }\n",
              "  </style>\n",
              "\n",
              "      <script>\n",
              "        const buttonEl =\n",
              "          document.querySelector('#df-baa19d4a-4b82-443d-93a2-5ae244ed129a button.colab-df-convert');\n",
              "        buttonEl.style.display =\n",
              "          google.colab.kernel.accessAllowed ? 'block' : 'none';\n",
              "\n",
              "        async function convertToInteractive(key) {\n",
              "          const element = document.querySelector('#df-baa19d4a-4b82-443d-93a2-5ae244ed129a');\n",
              "          const dataTable =\n",
              "            await google.colab.kernel.invokeFunction('convertToInteractive',\n",
              "                                                     [key], {});\n",
              "          if (!dataTable) return;\n",
              "\n",
              "          const docLinkHtml = 'Like what you see? Visit the ' +\n",
              "            '<a target=\"_blank\" href=https://colab.research.google.com/notebooks/data_table.ipynb>data table notebook</a>'\n",
              "            + ' to learn more about interactive tables.';\n",
              "          element.innerHTML = '';\n",
              "          dataTable['output_type'] = 'display_data';\n",
              "          await google.colab.output.renderOutput(dataTable, element);\n",
              "          const docLink = document.createElement('div');\n",
              "          docLink.innerHTML = docLinkHtml;\n",
              "          element.appendChild(docLink);\n",
              "        }\n",
              "      </script>\n",
              "    </div>\n",
              "  </div>\n",
              "  "
            ]
          },
          "metadata": {},
          "execution_count": 45
        }
      ]
    },
    {
      "cell_type": "markdown",
      "source": [
        "## Improving model\n",
        "\n",
        "- One crucial step would be to repair some wrongly labeled sentences, because as it was seen. There are at least few of them, which interrupts model a lot."
      ],
      "metadata": {
        "id": "5KI8ATrHcIJy"
      }
    },
    {
      "cell_type": "code",
      "source": [],
      "metadata": {
        "id": "84xjXmNMcu8-"
      },
      "execution_count": null,
      "outputs": []
    }
  ]
}